{
 "cells": [
  {
   "cell_type": "markdown",
   "metadata": {},
   "source": [
    "对alpha_191已经生成的因子进行风险过滤因子合成"
   ]
  },
  {
   "cell_type": "code",
   "execution_count": 1,
   "metadata": {},
   "outputs": [],
   "source": [
    "# 未成功生成191因子序号\n",
    "\n",
    "unsaved_191_factors_code = ['016',\n",
    " '027',\n",
    " '030',\n",
    " '050',\n",
    " '051',\n",
    " '055',\n",
    " '069',\n",
    " '073',\n",
    " '092',\n",
    " '115',\n",
    " '119',\n",
    " '121',\n",
    " '127',\n",
    " '128',\n",
    " '131',\n",
    " '135',\n",
    " '137',\n",
    " '138',\n",
    " '140',\n",
    " '143',\n",
    " '146',\n",
    " '147',\n",
    " '149',\n",
    " '151',\n",
    " '157',\n",
    " '165',\n",
    " '166',\n",
    " '181',\n",
    " '183',\n",
    " '190']"
   ]
  },
  {
   "cell_type": "code",
   "execution_count": 2,
   "metadata": {},
   "outputs": [],
   "source": [
    "alpha_code = []\n",
    "one_to_ten = ['00'+str(n) for n in range(1,10)]\n",
    "alpha_code.extend(one_to_ten)\n",
    "ten_to_one_hundre = ['0'+str(n) for n in range(10,100)]\n",
    "alpha_code.extend(ten_to_one_hundre)\n",
    "hundre_to_191 = [str(n) for n in range(100,192)]\n",
    "alpha_code.extend(hundre_to_191)"
   ]
  },
  {
   "cell_type": "code",
   "execution_count": 3,
   "metadata": {},
   "outputs": [],
   "source": [
    "saved_191_factors_code = list(set(alpha_code)-set(unsaved_191_factors_code)) # len = 161"
   ]
  },
  {
   "cell_type": "code",
   "execution_count": null,
   "metadata": {},
   "outputs": [],
   "source": [
    "saved_191_factors_code"
   ]
  },
  {
   "cell_type": "code",
   "execution_count": 4,
   "metadata": {},
   "outputs": [],
   "source": [
    "from smartbeta.ai_factors.filter_factor_transform import generate_filter_factor\n",
    "from data_provider.nestlib.trading_cal import TradeCal\n",
    "from data_provider.nestlib.market_info import Frequency\n",
    "from public_factor import public_factor_list\n",
    "cal= TradeCal()"
   ]
  },
  {
   "cell_type": "markdown",
   "metadata": {},
   "source": [
    "alpha191过滤因子生成"
   ]
  },
  {
   "cell_type": "code",
   "execution_count": 5,
   "metadata": {},
   "outputs": [],
   "source": [
    "def filter_factor(filter_name, origin, from_dt, to_dt, thredhold=0.98):\n",
    "    print('filter %s with %s, new_name: %s' % (origin, filter_name, 'riskf_neutralized_alpha191_'+str(thredhold)+'_'+origin+'_'+filter_name+'_low'))\n",
    "    generate_filter_factor(filter_name, origin, 'riskf_neutralized_alpha191_'+str(thredhold)+'_'+origin+'_'+filter_name+'_low', \n",
    "                          from_dt=from_dt, to_dt=to_dt, filter_percentile=thredhold, filter_ascending=False)\n",
    "\n",
    "    print('filter %s with %s, new_name: %s' % (origin, filter_name, 'riskf_neutralized_alpha191_'+str(thredhold)+'_'+origin+'_'+filter_name+'_high'))\n",
    "    generate_filter_factor(filter_name, origin, 'riskf_neutralized_alpha191_'+str(thredhold)+'_'+origin+'_'+filter_name+'_high', \n",
    "                          from_dt=from_dt, to_dt=to_dt, filter_percentile=thredhold, filter_ascending=True)"
   ]
  },
  {
   "cell_type": "markdown",
   "metadata": {},
   "source": [
    "公共过滤因子生成"
   ]
  },
  {
   "cell_type": "code",
   "execution_count": 2,
   "metadata": {},
   "outputs": [],
   "source": [
    "def filter_factor(filter_name, origin, from_dt, to_dt, thredhold=0.98):\n",
    "    print('filter %s with %s, new_name: %s' % (origin, filter_name, 'riskf_new_public_'+str(thredhold)+'_'+origin+'_'+filter_name+'_low'))\n",
    "    generate_filter_factor(filter_name, origin, 'riskf_new_public_'+str(thredhold)+'_'+origin+'_'+filter_name+'_low', \n",
    "                          from_dt=from_dt, to_dt=to_dt, filter_percentile=thredhold, filter_ascending=False)\n",
    "\n",
    "    print('filter %s with %s, new_name: %s' % (origin, filter_name, 'riskf_new_public_'+str(thredhold)+'_'+origin+'_'+filter_name+'_high'))\n",
    "    generate_filter_factor(filter_name, origin, 'riskf_new_public_'+str(thredhold)+'_'+origin+'_'+filter_name+'_high', \n",
    "                          from_dt=from_dt, to_dt=to_dt, filter_percentile=thredhold, filter_ascending=True)"
   ]
  },
  {
   "cell_type": "code",
   "execution_count": 8,
   "metadata": {},
   "outputs": [],
   "source": [
    "# subFactors = [\n",
    "#                 #显性过滤条件\n",
    "#                {'factor_name': 'closeprice', 'factor_direction': 1},\n",
    "#                {'factor_name': 'amount_3sum', 'factor_direction': 1},\n",
    "\n",
    "#              ]"
   ]
  },
  {
   "cell_type": "code",
   "execution_count": 6,
   "metadata": {},
   "outputs": [],
   "source": [
    "# subFactors = saved_191_factors_code\n",
    "subFactors = saved_191_factors_code"
   ]
  },
  {
   "cell_type": "markdown",
   "metadata": {},
   "source": [
    "### 单进程"
   ]
  },
  {
   "cell_type": "code",
   "execution_count": 10,
   "metadata": {},
   "outputs": [],
   "source": [
    "\n",
    "# from_dt=20200801\n",
    "# to_dt=20210204\n",
    "# origin='shared_s25_bias_benchmark'\n",
    "# names=[]\n",
    "# for factor in subFactors:\n",
    "#     filter_name=factor['factor_name']\n",
    "#     filter_factor(filter_name, origin, from_dt, to_dt, thredhold=0.95)\n",
    "#     new_name1='riskf_'+origin+'_'+filter_name+'_low95'\n",
    "#     new_name2='riskf_'+origin+'_'+filter_name+'_high95'\n",
    "#     print(new_name1)\n",
    "#     print(new_name2)\n",
    "#    names.append(new_name1, new_name2)\n",
    "    \n",
    "    "
   ]
  },
  {
   "cell_type": "markdown",
   "metadata": {},
   "source": [
    "### 多进程"
   ]
  },
  {
   "cell_type": "code",
   "execution_count": 11,
   "metadata": {},
   "outputs": [],
   "source": [
    "# def run_once(factor):\n",
    "#     from_dt=20201001\n",
    "#     to_dt=20210204\n",
    "#     origin='shared_s25_bias_benchmark'\n",
    "#     filter_name=factor['factor_name']\n",
    "#     filter_factor(filter_name, origin, from_dt, to_dt)\n",
    "#     new_name1='riskf_'+origin+'_'+filter_name+'_low'\n",
    "#     new_name2='riskf_'+origin+'_'+filter_name+'_high'\n",
    "#     print(new_name1)\n",
    "#     print(new_name2)\n",
    "#     names.append(new_name1)\n",
    "#     namnew_name2)"
   ]
  },
  {
   "cell_type": "code",
   "execution_count": 7,
   "metadata": {},
   "outputs": [],
   "source": [
    "def run_once(factor):\n",
    "    from_dt=20200518\n",
    "    to_dt=20210204\n",
    "    origin='new_filted_prd_factor_benchmark'\n",
    "    filter_name='neutralized_shared_alpha191_risk_'+factor\n",
    "#     filter_name = factor\n",
    "    filter_factor(filter_name, origin, from_dt, to_dt)"
   ]
  },
  {
   "cell_type": "code",
   "execution_count": null,
   "metadata": {},
   "outputs": [],
   "source": [
    "from multiprocessing import Pool\n",
    "with Pool(10) as p:\n",
    "    p.map(run_once,subFactors)"
   ]
  },
  {
   "cell_type": "code",
   "execution_count": null,
   "metadata": {},
   "outputs": [],
   "source": []
  },
  {
   "cell_type": "code",
   "execution_count": 9,
   "metadata": {},
   "outputs": [],
   "source": [
    "from data_provider.datafeed.universe import Universe\n",
    "names=Universe().get_user_factor_names()\n",
    "riskf_li = []\n",
    "for x in names:\n",
    "    if x[:17] == 'riskf_neutralized':\n",
    "        riskf_li.append(x)"
   ]
  },
  {
   "cell_type": "code",
   "execution_count": 11,
   "metadata": {},
   "outputs": [
    {
     "data": {
      "text/plain": [
       "322"
      ]
     },
     "execution_count": 11,
     "metadata": {},
     "output_type": "execute_result"
    }
   ],
   "source": [
    "len(riskf_li)"
   ]
  },
  {
   "cell_type": "code",
   "execution_count": null,
   "metadata": {},
   "outputs": [],
   "source": []
  }
 ],
 "metadata": {
  "kernelspec": {
   "display_name": "Python 3",
   "language": "python",
   "name": "python3"
  },
  "language_info": {
   "codemirror_mode": {
    "name": "ipython",
    "version": 3
   },
   "file_extension": ".py",
   "mimetype": "text/x-python",
   "name": "python",
   "nbconvert_exporter": "python",
   "pygments_lexer": "ipython3",
   "version": "3.6.2"
  }
 },
 "nbformat": 4,
 "nbformat_minor": 4
}
