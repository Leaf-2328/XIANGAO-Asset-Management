{
 "cells": [
  {
   "cell_type": "code",
   "execution_count": 1,
   "metadata": {},
   "outputs": [],
   "source": [
    "import matplotlib \n",
    "from smartbeta.backtest.group_factor_backtest import GroupFactorBackTest\n",
    "import time\n",
    "import pandas as pd\n",
    "import datetime\n",
    "import time\n",
    "from smartbeta.analyst import ReturnAnalyzer\n",
    "\n",
    "from data_provider.datafeed.universe import Universe\n",
    "from data_provider.nestlib.trading_cal import TradeCal\n",
    "from data_provider.datafeed.quote_feed import QuoteFeed\n",
    "from data_provider.nestlib.market_info import Frequency\n",
    "from smartbeta.factorbase import BaseFactor\n",
    "from smartbeta.smartfactor import SmartFactor\n",
    "from data_provider.nestlib.progress_bar import ProgressBar\n",
    "import numpy as np\n",
    "import pdb\n",
    "from smartbeta.backtest.factor_backtest import FactorBackTest\n",
    "import matplotlib.pyplot as plt\n",
    "from smartbeta.construction.filters import *\n",
    "from multiprocessing import Pool\n",
    "from functools import partial"
   ]
  },
  {
   "cell_type": "code",
   "execution_count": 2,
   "metadata": {},
   "outputs": [],
   "source": [
    "from backtest_batch_service_final import backtest_batch_service"
   ]
  },
  {
   "cell_type": "code",
   "execution_count": 3,
   "metadata": {},
   "outputs": [],
   "source": [
    "def backtest_factors(factor):\n",
    "    backtest_batch_service.run_backtest_batch(backtest_name,factor,start_date,end_date)\n",
    "    backtest_batch_service.result_analysis(backtest_name,factor)"
   ]
  },
  {
   "cell_type": "code",
   "execution_count": 4,
   "metadata": {},
   "outputs": [
    {
     "name": "stdout",
     "output_type": "stream",
     "text": [
      "loading dailyreturn time cost 1.76s\n",
      "loading dailyreturn time cost 1.71s\n",
      "loading dailyreturn time cost 1.69s\n",
      "loading dailyreturn time cost 1.68s\n",
      "loading dailyreturn time cost 1.77s\n",
      "加载中: riskf_alpha191_0.98_shared_s25_bias_benchmark_shared_alpha191_risk_017_low\n",
      "加载中: riskf_alpha191_0.98_shared_s25_bias_benchmark_shared_alpha191_risk_065_high\n",
      "加载中: riskf_alpha191_0.98_shared_s25_bias_benchmark_shared_alpha191_risk_017_high\n",
      "加载中: riskf_alpha191_0.98_shared_s25_bias_benchmark_shared_alpha191_risk_091_high\n",
      "加载中: shared_s25_bias_benchmark\n",
      "loading riskf_alpha191_0.98_shared_s25_bias_benchmark_shared_alpha191_risk_017_low time cost 0.81s\n",
      "因子加载完成\n",
      "\n"
     ]
    },
    {
     "data": {
      "text/html": [
       "<!DOCTYPE html>\n",
       "\n",
       "<div id=\"demo\"> \n",
       "\t\t<script type=\"text/javascript\">\n",
       "\n",
       "\t\t</script>\n",
       "\n",
       "\t\t<style type=\"text/css\">\n",
       "\t\t\t@keyframes progress-bar-stripes{\n",
       "\t\t\t0% {\n",
       "\t\t\t\tbackground-position: 80px 0;\n",
       "\t\t\t}\n",
       "\t\t\t100% {\n",
       "\t\t\t\tbackground-position: 0 0;\n",
       "\t\t\t}\n",
       "\t\t\t}\n",
       "\n",
       "\t\t\t#demo{\n",
       "\t\t\t}\n",
       "\t\t\t.jp-OutputArea-output .hidden{\n",
       "\t\t\t\tdisplay: none;\n",
       "\t\t\t}\n",
       "\t\t\t.container{\n",
       "\t\t\t\twidth: 100% !important;\n",
       "\t\t\t}\n",
       "\t\t\t.progress{\n",
       "\t\t\t\tdisplay: inline-block;\n",
       "\t\t\t\twidth: 60%;\n",
       "\t\t\t\theight: 6px;\n",
       "\t\t\t\tpadding: 1px;\n",
       "\t\t\t\toverflow: visible;\n",
       "\t\t\t\tborder-radius: 20px;\n",
       "\t\t\t\tborder: 1px solid #88bff0;\n",
       "\t\t\t\tbackground: #f6fbff;\n",
       "\t\t\t}\n",
       "\t\t\t.progress .progress-bar{\n",
       "\t\t\t\tborder-radius: 20px;\n",
       "\t\t\t\tposition: relative;\n",
       "\t\t\t\theight: 100%;\n",
       "\t\t\t\tbackground: #c5ddf5;\n",
       "\t\t\t\tbackground: rgb(103, 178, 248);\n",
       "\t\t\t\tbackground-size: 80px 80px;\n",
       "\t\t\t}\n",
       "\t\t\t.progress-value,.progress-status{\n",
       "\t\t\t\tdisplay: inline-block;\n",
       "\t\t\t\tpadding: 3px 7px;\n",
       "\t\t\t\tfont-size: 13px;\n",
       "\t\t\t}\n",
       "\t\t\t.progress .progress-value:after{\n",
       "\t\t\t\tcontent: \"\";\n",
       "\t\t\t\tborder-top: 10px solid #191919;\n",
       "\t\t\t\tborder-left: 10px solid transparent;\n",
       "\t\t\t\tborder-right: 10px solid transparent;\n",
       "\t\t\t\tposition: absolute;\n",
       "\t\t\t\tbottom: -6px;\n",
       "\t\t\t\tleft: 26%;\n",
       "\t\t\t}\n",
       "\t\t\t.progress-bar.active{\n",
       "\t\t\t\tanimation: reverse progress-bar-stripes 1s linear infinite;\n",
       "\t\t\t}\n",
       "\t\t\t@-webkit-keyframes animate-positive{\n",
       "\t\t\t\t0% { width: 0; }\n",
       "\t\t\t}\n",
       "\t\t\t@keyframes animate-positive{\n",
       "\t\t\t\t0% { width: 0; }\n",
       "\t\t\t}\n",
       "\t   </style>\n",
       "\t<div class=\"container\">\n",
       "\t\t<div class=\"row\">\n",
       "\t\t\t<!-- <div class=\"progress_status\"></div> -->\n",
       "\t\t\t<div id = \"08f9ee68-69af-11eb-8e63-0242ac120006\"  class=\"\">\n",
       "\t\t\t\t<div class=\"progress\">\n",
       "\t\t\t\t\t<div class=\"progress-bar progress-bar-info progress-bar-striped active\" style=\"width: 0.0%;\">\n",
       "\t\t\t\t\t</div>\t\t\t\t\t\n",
       "\t\t\t\t</div>\n",
       "\t\t\t\t<div class=\"progress-value\">0.0%</div>\n",
       "\t\t\t\t<div class=\"progress-status\"></div>\n",
       "\t\t\t\t\n",
       "\t\t\t</div>\n",
       "\t\t</div>\n",
       "\t</div>\n",
       "</div>"
      ],
      "text/plain": [
       "<IPython.core.display.HTML object>"
      ]
     },
     "metadata": {},
     "output_type": "display_data"
    },
    {
     "name": "stdout",
     "output_type": "stream",
     "text": [
      "loading riskf_alpha191_0.98_shared_s25_bias_benchmark_shared_alpha191_risk_017_high time cost 0.89s\n",
      "因子加载完成\n",
      "\n"
     ]
    },
    {
     "data": {
      "text/html": [
       "<!DOCTYPE html>\n",
       "\n",
       "<div id=\"demo\"> \n",
       "\t\t<script type=\"text/javascript\">\n",
       "\n",
       "\t\t</script>\n",
       "\n",
       "\t\t<style type=\"text/css\">\n",
       "\t\t\t@keyframes progress-bar-stripes{\n",
       "\t\t\t0% {\n",
       "\t\t\t\tbackground-position: 80px 0;\n",
       "\t\t\t}\n",
       "\t\t\t100% {\n",
       "\t\t\t\tbackground-position: 0 0;\n",
       "\t\t\t}\n",
       "\t\t\t}\n",
       "\n",
       "\t\t\t#demo{\n",
       "\t\t\t}\n",
       "\t\t\t.jp-OutputArea-output .hidden{\n",
       "\t\t\t\tdisplay: none;\n",
       "\t\t\t}\n",
       "\t\t\t.container{\n",
       "\t\t\t\twidth: 100% !important;\n",
       "\t\t\t}\n",
       "\t\t\t.progress{\n",
       "\t\t\t\tdisplay: inline-block;\n",
       "\t\t\t\twidth: 60%;\n",
       "\t\t\t\theight: 6px;\n",
       "\t\t\t\tpadding: 1px;\n",
       "\t\t\t\toverflow: visible;\n",
       "\t\t\t\tborder-radius: 20px;\n",
       "\t\t\t\tborder: 1px solid #88bff0;\n",
       "\t\t\t\tbackground: #f6fbff;\n",
       "\t\t\t}\n",
       "\t\t\t.progress .progress-bar{\n",
       "\t\t\t\tborder-radius: 20px;\n",
       "\t\t\t\tposition: relative;\n",
       "\t\t\t\theight: 100%;\n",
       "\t\t\t\tbackground: #c5ddf5;\n",
       "\t\t\t\tbackground: rgb(103, 178, 248);\n",
       "\t\t\t\tbackground-size: 80px 80px;\n",
       "\t\t\t}\n",
       "\t\t\t.progress-value,.progress-status{\n",
       "\t\t\t\tdisplay: inline-block;\n",
       "\t\t\t\tpadding: 3px 7px;\n",
       "\t\t\t\tfont-size: 13px;\n",
       "\t\t\t}\n",
       "\t\t\t.progress .progress-value:after{\n",
       "\t\t\t\tcontent: \"\";\n",
       "\t\t\t\tborder-top: 10px solid #191919;\n",
       "\t\t\t\tborder-left: 10px solid transparent;\n",
       "\t\t\t\tborder-right: 10px solid transparent;\n",
       "\t\t\t\tposition: absolute;\n",
       "\t\t\t\tbottom: -6px;\n",
       "\t\t\t\tleft: 26%;\n",
       "\t\t\t}\n",
       "\t\t\t.progress-bar.active{\n",
       "\t\t\t\tanimation: reverse progress-bar-stripes 1s linear infinite;\n",
       "\t\t\t}\n",
       "\t\t\t@-webkit-keyframes animate-positive{\n",
       "\t\t\t\t0% { width: 0; }\n",
       "\t\t\t}\n",
       "\t\t\t@keyframes animate-positive{\n",
       "\t\t\t\t0% { width: 0; }\n",
       "\t\t\t}\n",
       "\t   </style>\n",
       "\t<div class=\"container\">\n",
       "\t\t<div class=\"row\">\n",
       "\t\t\t<!-- <div class=\"progress_status\"></div> -->\n",
       "\t\t\t<div id = \"090cc3e4-69af-11eb-b347-0242ac120006\"  class=\"\">\n",
       "\t\t\t\t<div class=\"progress\">\n",
       "\t\t\t\t\t<div class=\"progress-bar progress-bar-info progress-bar-striped active\" style=\"width: 0.0%;\">\n",
       "\t\t\t\t\t</div>\t\t\t\t\t\n",
       "\t\t\t\t</div>\n",
       "\t\t\t\t<div class=\"progress-value\">0.0%</div>\n",
       "\t\t\t\t<div class=\"progress-status\"></div>\n",
       "\t\t\t\t\n",
       "\t\t\t</div>\n",
       "\t\t</div>\n",
       "\t</div>\n",
       "</div>"
      ],
      "text/plain": [
       "<IPython.core.display.HTML object>"
      ]
     },
     "metadata": {},
     "output_type": "display_data"
    },
    {
     "name": "stdout",
     "output_type": "stream",
     "text": [
      "loading riskf_alpha191_0.98_shared_s25_bias_benchmark_shared_alpha191_risk_065_high time cost 0.97s\n",
      "因子加载完成\n",
      "\n"
     ]
    },
    {
     "data": {
      "text/html": [
       "<!DOCTYPE html>\n",
       "\n",
       "<div id=\"demo\"> \n",
       "\t\t<script type=\"text/javascript\">\n",
       "\n",
       "\t\t</script>\n",
       "\n",
       "\t\t<style type=\"text/css\">\n",
       "\t\t\t@keyframes progress-bar-stripes{\n",
       "\t\t\t0% {\n",
       "\t\t\t\tbackground-position: 80px 0;\n",
       "\t\t\t}\n",
       "\t\t\t100% {\n",
       "\t\t\t\tbackground-position: 0 0;\n",
       "\t\t\t}\n",
       "\t\t\t}\n",
       "\n",
       "\t\t\t#demo{\n",
       "\t\t\t}\n",
       "\t\t\t.jp-OutputArea-output .hidden{\n",
       "\t\t\t\tdisplay: none;\n",
       "\t\t\t}\n",
       "\t\t\t.container{\n",
       "\t\t\t\twidth: 100% !important;\n",
       "\t\t\t}\n",
       "\t\t\t.progress{\n",
       "\t\t\t\tdisplay: inline-block;\n",
       "\t\t\t\twidth: 60%;\n",
       "\t\t\t\theight: 6px;\n",
       "\t\t\t\tpadding: 1px;\n",
       "\t\t\t\toverflow: visible;\n",
       "\t\t\t\tborder-radius: 20px;\n",
       "\t\t\t\tborder: 1px solid #88bff0;\n",
       "\t\t\t\tbackground: #f6fbff;\n",
       "\t\t\t}\n",
       "\t\t\t.progress .progress-bar{\n",
       "\t\t\t\tborder-radius: 20px;\n",
       "\t\t\t\tposition: relative;\n",
       "\t\t\t\theight: 100%;\n",
       "\t\t\t\tbackground: #c5ddf5;\n",
       "\t\t\t\tbackground: rgb(103, 178, 248);\n",
       "\t\t\t\tbackground-size: 80px 80px;\n",
       "\t\t\t}\n",
       "\t\t\t.progress-value,.progress-status{\n",
       "\t\t\t\tdisplay: inline-block;\n",
       "\t\t\t\tpadding: 3px 7px;\n",
       "\t\t\t\tfont-size: 13px;\n",
       "\t\t\t}\n",
       "\t\t\t.progress .progress-value:after{\n",
       "\t\t\t\tcontent: \"\";\n",
       "\t\t\t\tborder-top: 10px solid #191919;\n",
       "\t\t\t\tborder-left: 10px solid transparent;\n",
       "\t\t\t\tborder-right: 10px solid transparent;\n",
       "\t\t\t\tposition: absolute;\n",
       "\t\t\t\tbottom: -6px;\n",
       "\t\t\t\tleft: 26%;\n",
       "\t\t\t}\n",
       "\t\t\t.progress-bar.active{\n",
       "\t\t\t\tanimation: reverse progress-bar-stripes 1s linear infinite;\n",
       "\t\t\t}\n",
       "\t\t\t@-webkit-keyframes animate-positive{\n",
       "\t\t\t\t0% { width: 0; }\n",
       "\t\t\t}\n",
       "\t\t\t@keyframes animate-positive{\n",
       "\t\t\t\t0% { width: 0; }\n",
       "\t\t\t}\n",
       "\t   </style>\n",
       "\t<div class=\"container\">\n",
       "\t\t<div class=\"row\">\n",
       "\t\t\t<!-- <div class=\"progress_status\"></div> -->\n",
       "\t\t\t<div id = \"09192166-69af-11eb-90be-0242ac120006\"  class=\"\">\n",
       "\t\t\t\t<div class=\"progress\">\n",
       "\t\t\t\t\t<div class=\"progress-bar progress-bar-info progress-bar-striped active\" style=\"width: 0.0%;\">\n",
       "\t\t\t\t\t</div>\t\t\t\t\t\n",
       "\t\t\t\t</div>\n",
       "\t\t\t\t<div class=\"progress-value\">0.0%</div>\n",
       "\t\t\t\t<div class=\"progress-status\"></div>\n",
       "\t\t\t\t\n",
       "\t\t\t</div>\n",
       "\t\t</div>\n",
       "\t</div>\n",
       "</div>"
      ],
      "text/plain": [
       "<IPython.core.display.HTML object>"
      ]
     },
     "metadata": {},
     "output_type": "display_data"
    },
    {
     "name": "stdout",
     "output_type": "stream",
     "text": [
      "loading riskf_alpha191_0.98_shared_s25_bias_benchmark_shared_alpha191_risk_091_high time cost 1.08s\n",
      "因子加载完成\n",
      "\n"
     ]
    },
    {
     "data": {
      "text/html": [
       "<!DOCTYPE html>\n",
       "\n",
       "<div id=\"demo\"> \n",
       "\t\t<script type=\"text/javascript\">\n",
       "\n",
       "\t\t</script>\n",
       "\n",
       "\t\t<style type=\"text/css\">\n",
       "\t\t\t@keyframes progress-bar-stripes{\n",
       "\t\t\t0% {\n",
       "\t\t\t\tbackground-position: 80px 0;\n",
       "\t\t\t}\n",
       "\t\t\t100% {\n",
       "\t\t\t\tbackground-position: 0 0;\n",
       "\t\t\t}\n",
       "\t\t\t}\n",
       "\n",
       "\t\t\t#demo{\n",
       "\t\t\t}\n",
       "\t\t\t.jp-OutputArea-output .hidden{\n",
       "\t\t\t\tdisplay: none;\n",
       "\t\t\t}\n",
       "\t\t\t.container{\n",
       "\t\t\t\twidth: 100% !important;\n",
       "\t\t\t}\n",
       "\t\t\t.progress{\n",
       "\t\t\t\tdisplay: inline-block;\n",
       "\t\t\t\twidth: 60%;\n",
       "\t\t\t\theight: 6px;\n",
       "\t\t\t\tpadding: 1px;\n",
       "\t\t\t\toverflow: visible;\n",
       "\t\t\t\tborder-radius: 20px;\n",
       "\t\t\t\tborder: 1px solid #88bff0;\n",
       "\t\t\t\tbackground: #f6fbff;\n",
       "\t\t\t}\n",
       "\t\t\t.progress .progress-bar{\n",
       "\t\t\t\tborder-radius: 20px;\n",
       "\t\t\t\tposition: relative;\n",
       "\t\t\t\theight: 100%;\n",
       "\t\t\t\tbackground: #c5ddf5;\n",
       "\t\t\t\tbackground: rgb(103, 178, 248);\n",
       "\t\t\t\tbackground-size: 80px 80px;\n",
       "\t\t\t}\n",
       "\t\t\t.progress-value,.progress-status{\n",
       "\t\t\t\tdisplay: inline-block;\n",
       "\t\t\t\tpadding: 3px 7px;\n",
       "\t\t\t\tfont-size: 13px;\n",
       "\t\t\t}\n",
       "\t\t\t.progress .progress-value:after{\n",
       "\t\t\t\tcontent: \"\";\n",
       "\t\t\t\tborder-top: 10px solid #191919;\n",
       "\t\t\t\tborder-left: 10px solid transparent;\n",
       "\t\t\t\tborder-right: 10px solid transparent;\n",
       "\t\t\t\tposition: absolute;\n",
       "\t\t\t\tbottom: -6px;\n",
       "\t\t\t\tleft: 26%;\n",
       "\t\t\t}\n",
       "\t\t\t.progress-bar.active{\n",
       "\t\t\t\tanimation: reverse progress-bar-stripes 1s linear infinite;\n",
       "\t\t\t}\n",
       "\t\t\t@-webkit-keyframes animate-positive{\n",
       "\t\t\t\t0% { width: 0; }\n",
       "\t\t\t}\n",
       "\t\t\t@keyframes animate-positive{\n",
       "\t\t\t\t0% { width: 0; }\n",
       "\t\t\t}\n",
       "\t   </style>\n",
       "\t<div class=\"container\">\n",
       "\t\t<div class=\"row\">\n",
       "\t\t\t<!-- <div class=\"progress_status\"></div> -->\n",
       "\t\t\t<div id = \"093512b8-69af-11eb-9e9d-0242ac120006\"  class=\"\">\n",
       "\t\t\t\t<div class=\"progress\">\n",
       "\t\t\t\t\t<div class=\"progress-bar progress-bar-info progress-bar-striped active\" style=\"width: 0.0%;\">\n",
       "\t\t\t\t\t</div>\t\t\t\t\t\n",
       "\t\t\t\t</div>\n",
       "\t\t\t\t<div class=\"progress-value\">0.0%</div>\n",
       "\t\t\t\t<div class=\"progress-status\"></div>\n",
       "\t\t\t\t\n",
       "\t\t\t</div>\n",
       "\t\t</div>\n",
       "\t</div>\n",
       "</div>"
      ],
      "text/plain": [
       "<IPython.core.display.HTML object>"
      ]
     },
     "metadata": {},
     "output_type": "display_data"
    },
    {
     "name": "stdout",
     "output_type": "stream",
     "text": [
      "Warning: 20201009: 仅含46只股票!\n",
      "Warning: 20201009: 仅含46只股票!\n",
      "Warning: 20201012: 仅含10只股票!\n",
      "Warning: 20201012: 仅含10只股票!\n",
      "Warning: 20201013: 仅含7只股票!\n",
      "Warning: 20201013: 仅含7只股票!\n"
     ]
    },
    {
     "data": {
      "text/html": [
       "<script id = 'progressbar_update_script' type=\"text/javascript\">\n",
       "    var id = '08f9ee68-69af-11eb-8e63-0242ac120006';\n",
       "    var width = '4.8' + '%';\n",
       "    var finish_info = ''\n",
       "    var bar = document.getElementById(id);\n",
       "    var progress_bar = bar.querySelector('.progress-bar');\n",
       "    var progress_value = bar.querySelector('.progress-value');\n",
       "    var progress_status = bar.querySelector('.progress-status');\n",
       "    var selfscripts = document.querySelector('#progressbar_update_script');\n",
       "    \n",
       "    update()\n",
       "    \n",
       "\n",
       "    \n",
       "    var output = selfscripts.parentElement;\n",
       "    var outputarea_child = output.parentElement;\n",
       "    outputarea_child.style.display = 'none';\n",
       "    var outputarea = outputarea_child.parentElement;\n",
       "    output.removeChild(selfscripts);\n",
       "    // outputarea.removeChild(outputarea_child);\n",
       "\n",
       "    function update(){\n",
       "        progress_bar.style.width = width;\n",
       "        progress_value.innerHTML = width;\n",
       "    }  \n",
       "\n",
       "    function finish(){\n",
       "        progress_bar.style.width = width;\n",
       "        progress_value.innerHTML = width;\n",
       "        progress_status.innerHTML = finish_info;\n",
       "    } \n",
       "\n",
       "\n",
       "\n",
       "</script>"
      ],
      "text/plain": [
       "<IPython.core.display.HTML object>"
      ]
     },
     "metadata": {},
     "output_type": "display_data"
    },
    {
     "data": {
      "text/html": [
       "<script id = 'progressbar_update_script' type=\"text/javascript\">\n",
       "    var id = '09192166-69af-11eb-90be-0242ac120006';\n",
       "    var width = '4.8' + '%';\n",
       "    var finish_info = ''\n",
       "    var bar = document.getElementById(id);\n",
       "    var progress_bar = bar.querySelector('.progress-bar');\n",
       "    var progress_value = bar.querySelector('.progress-value');\n",
       "    var progress_status = bar.querySelector('.progress-status');\n",
       "    var selfscripts = document.querySelector('#progressbar_update_script');\n",
       "    \n",
       "    update()\n",
       "    \n",
       "\n",
       "    \n",
       "    var output = selfscripts.parentElement;\n",
       "    var outputarea_child = output.parentElement;\n",
       "    outputarea_child.style.display = 'none';\n",
       "    var outputarea = outputarea_child.parentElement;\n",
       "    output.removeChild(selfscripts);\n",
       "    // outputarea.removeChild(outputarea_child);\n",
       "\n",
       "    function update(){\n",
       "        progress_bar.style.width = width;\n",
       "        progress_value.innerHTML = width;\n",
       "    }  \n",
       "\n",
       "    function finish(){\n",
       "        progress_bar.style.width = width;\n",
       "        progress_value.innerHTML = width;\n",
       "        progress_status.innerHTML = finish_info;\n",
       "    } \n",
       "\n",
       "\n",
       "\n",
       "</script>"
      ],
      "text/plain": [
       "<IPython.core.display.HTML object>"
      ]
     },
     "metadata": {},
     "output_type": "display_data"
    },
    {
     "name": "stdout",
     "output_type": "stream",
     "text": [
      "Warning: 20201014: 仅含18只股票!\n",
      "Warning: 20201014: 仅含18只股票!\n"
     ]
    },
    {
     "data": {
      "text/html": [
       "<script id = 'progressbar_update_script' type=\"text/javascript\">\n",
       "    var id = '090cc3e4-69af-11eb-b347-0242ac120006';\n",
       "    var width = '6.0' + '%';\n",
       "    var finish_info = ''\n",
       "    var bar = document.getElementById(id);\n",
       "    var progress_bar = bar.querySelector('.progress-bar');\n",
       "    var progress_value = bar.querySelector('.progress-value');\n",
       "    var progress_status = bar.querySelector('.progress-status');\n",
       "    var selfscripts = document.querySelector('#progressbar_update_script');\n",
       "    \n",
       "    update()\n",
       "    \n",
       "\n",
       "    \n",
       "    var output = selfscripts.parentElement;\n",
       "    var outputarea_child = output.parentElement;\n",
       "    outputarea_child.style.display = 'none';\n",
       "    var outputarea = outputarea_child.parentElement;\n",
       "    output.removeChild(selfscripts);\n",
       "    // outputarea.removeChild(outputarea_child);\n",
       "\n",
       "    function update(){\n",
       "        progress_bar.style.width = width;\n",
       "        progress_value.innerHTML = width;\n",
       "    }  \n",
       "\n",
       "    function finish(){\n",
       "        progress_bar.style.width = width;\n",
       "        progress_value.innerHTML = width;\n",
       "        progress_status.innerHTML = finish_info;\n",
       "    } \n",
       "\n",
       "\n",
       "\n",
       "</script>"
      ],
      "text/plain": [
       "<IPython.core.display.HTML object>"
      ]
     },
     "metadata": {},
     "output_type": "display_data"
    },
    {
     "data": {
      "text/html": [
       "<script id = 'progressbar_update_script' type=\"text/javascript\">\n",
       "    var id = '093512b8-69af-11eb-9e9d-0242ac120006';\n",
       "    var width = '4.8' + '%';\n",
       "    var finish_info = ''\n",
       "    var bar = document.getElementById(id);\n",
       "    var progress_bar = bar.querySelector('.progress-bar');\n",
       "    var progress_value = bar.querySelector('.progress-value');\n",
       "    var progress_status = bar.querySelector('.progress-status');\n",
       "    var selfscripts = document.querySelector('#progressbar_update_script');\n",
       "    \n",
       "    update()\n",
       "    \n",
       "\n",
       "    \n",
       "    var output = selfscripts.parentElement;\n",
       "    var outputarea_child = output.parentElement;\n",
       "    outputarea_child.style.display = 'none';\n",
       "    var outputarea = outputarea_child.parentElement;\n",
       "    output.removeChild(selfscripts);\n",
       "    // outputarea.removeChild(outputarea_child);\n",
       "\n",
       "    function update(){\n",
       "        progress_bar.style.width = width;\n",
       "        progress_value.innerHTML = width;\n",
       "    }  \n",
       "\n",
       "    function finish(){\n",
       "        progress_bar.style.width = width;\n",
       "        progress_value.innerHTML = width;\n",
       "        progress_status.innerHTML = finish_info;\n",
       "    } \n",
       "\n",
       "\n",
       "\n",
       "</script>"
      ],
      "text/plain": [
       "<IPython.core.display.HTML object>"
      ]
     },
     "metadata": {},
     "output_type": "display_data"
    },
    {
     "name": "stdout",
     "output_type": "stream",
     "text": [
      "Warning: 20201015: 仅含19只股票!\n",
      "Warning: 20201015: 仅含19只股票!\n",
      "Warning: 20201016: 仅含55只股票!\n",
      "Warning: 20201016: 仅含55只股票!\n",
      "Warning: 20201019: 仅含17只股票!\n",
      "Warning: 20201019: 仅含17只股票!\n"
     ]
    },
    {
     "data": {
      "text/html": [
       "<script id = 'progressbar_update_script' type=\"text/javascript\">\n",
       "    var id = '08f9ee68-69af-11eb-8e63-0242ac120006';\n",
       "    var width = '9.5' + '%';\n",
       "    var finish_info = ''\n",
       "    var bar = document.getElementById(id);\n",
       "    var progress_bar = bar.querySelector('.progress-bar');\n",
       "    var progress_value = bar.querySelector('.progress-value');\n",
       "    var progress_status = bar.querySelector('.progress-status');\n",
       "    var selfscripts = document.querySelector('#progressbar_update_script');\n",
       "    \n",
       "    update()\n",
       "    \n",
       "\n",
       "    \n",
       "    var output = selfscripts.parentElement;\n",
       "    var outputarea_child = output.parentElement;\n",
       "    outputarea_child.style.display = 'none';\n",
       "    var outputarea = outputarea_child.parentElement;\n",
       "    output.removeChild(selfscripts);\n",
       "    // outputarea.removeChild(outputarea_child);\n",
       "\n",
       "    function update(){\n",
       "        progress_bar.style.width = width;\n",
       "        progress_value.innerHTML = width;\n",
       "    }  \n",
       "\n",
       "    function finish(){\n",
       "        progress_bar.style.width = width;\n",
       "        progress_value.innerHTML = width;\n",
       "        progress_status.innerHTML = finish_info;\n",
       "    } \n",
       "\n",
       "\n",
       "\n",
       "</script>"
      ],
      "text/plain": [
       "<IPython.core.display.HTML object>"
      ]
     },
     "metadata": {},
     "output_type": "display_data"
    },
    {
     "name": "stdout",
     "output_type": "stream",
     "text": [
      "loading shared_s25_bias_benchmark time cost 0.88s\n",
      "因子加载完成\n"
     ]
    },
    {
     "data": {
      "text/html": [
       "<script id = 'progressbar_update_script' type=\"text/javascript\">\n",
       "    var id = '09192166-69af-11eb-90be-0242ac120006';\n",
       "    var width = '8.3' + '%';\n",
       "    var finish_info = ''\n",
       "    var bar = document.getElementById(id);\n",
       "    var progress_bar = bar.querySelector('.progress-bar');\n",
       "    var progress_value = bar.querySelector('.progress-value');\n",
       "    var progress_status = bar.querySelector('.progress-status');\n",
       "    var selfscripts = document.querySelector('#progressbar_update_script');\n",
       "    \n",
       "    update()\n",
       "    \n",
       "\n",
       "    \n",
       "    var output = selfscripts.parentElement;\n",
       "    var outputarea_child = output.parentElement;\n",
       "    outputarea_child.style.display = 'none';\n",
       "    var outputarea = outputarea_child.parentElement;\n",
       "    output.removeChild(selfscripts);\n",
       "    // outputarea.removeChild(outputarea_child);\n",
       "\n",
       "    function update(){\n",
       "        progress_bar.style.width = width;\n",
       "        progress_value.innerHTML = width;\n",
       "    }  \n",
       "\n",
       "    function finish(){\n",
       "        progress_bar.style.width = width;\n",
       "        progress_value.innerHTML = width;\n",
       "        progress_status.innerHTML = finish_info;\n",
       "    } \n",
       "\n",
       "\n",
       "\n",
       "</script>"
      ],
      "text/plain": [
       "<IPython.core.display.HTML object>"
      ]
     },
     "metadata": {},
     "output_type": "display_data"
    },
    {
     "name": "stdout",
     "output_type": "stream",
     "text": [
      "\n"
     ]
    },
    {
     "data": {
      "text/html": [
       "<!DOCTYPE html>\n",
       "\n",
       "<div id=\"demo\"> \n",
       "\t\t<script type=\"text/javascript\">\n",
       "\n",
       "\t\t</script>\n",
       "\n",
       "\t\t<style type=\"text/css\">\n",
       "\t\t\t@keyframes progress-bar-stripes{\n",
       "\t\t\t0% {\n",
       "\t\t\t\tbackground-position: 80px 0;\n",
       "\t\t\t}\n",
       "\t\t\t100% {\n",
       "\t\t\t\tbackground-position: 0 0;\n",
       "\t\t\t}\n",
       "\t\t\t}\n",
       "\n",
       "\t\t\t#demo{\n",
       "\t\t\t}\n",
       "\t\t\t.jp-OutputArea-output .hidden{\n",
       "\t\t\t\tdisplay: none;\n",
       "\t\t\t}\n",
       "\t\t\t.container{\n",
       "\t\t\t\twidth: 100% !important;\n",
       "\t\t\t}\n",
       "\t\t\t.progress{\n",
       "\t\t\t\tdisplay: inline-block;\n",
       "\t\t\t\twidth: 60%;\n",
       "\t\t\t\theight: 6px;\n",
       "\t\t\t\tpadding: 1px;\n",
       "\t\t\t\toverflow: visible;\n",
       "\t\t\t\tborder-radius: 20px;\n",
       "\t\t\t\tborder: 1px solid #88bff0;\n",
       "\t\t\t\tbackground: #f6fbff;\n",
       "\t\t\t}\n",
       "\t\t\t.progress .progress-bar{\n",
       "\t\t\t\tborder-radius: 20px;\n",
       "\t\t\t\tposition: relative;\n",
       "\t\t\t\theight: 100%;\n",
       "\t\t\t\tbackground: #c5ddf5;\n",
       "\t\t\t\tbackground: rgb(103, 178, 248);\n",
       "\t\t\t\tbackground-size: 80px 80px;\n",
       "\t\t\t}\n",
       "\t\t\t.progress-value,.progress-status{\n",
       "\t\t\t\tdisplay: inline-block;\n",
       "\t\t\t\tpadding: 3px 7px;\n",
       "\t\t\t\tfont-size: 13px;\n",
       "\t\t\t}\n",
       "\t\t\t.progress .progress-value:after{\n",
       "\t\t\t\tcontent: \"\";\n",
       "\t\t\t\tborder-top: 10px solid #191919;\n",
       "\t\t\t\tborder-left: 10px solid transparent;\n",
       "\t\t\t\tborder-right: 10px solid transparent;\n",
       "\t\t\t\tposition: absolute;\n",
       "\t\t\t\tbottom: -6px;\n",
       "\t\t\t\tleft: 26%;\n",
       "\t\t\t}\n",
       "\t\t\t.progress-bar.active{\n",
       "\t\t\t\tanimation: reverse progress-bar-stripes 1s linear infinite;\n",
       "\t\t\t}\n",
       "\t\t\t@-webkit-keyframes animate-positive{\n",
       "\t\t\t\t0% { width: 0; }\n",
       "\t\t\t}\n",
       "\t\t\t@keyframes animate-positive{\n",
       "\t\t\t\t0% { width: 0; }\n",
       "\t\t\t}\n",
       "\t   </style>\n",
       "\t<div class=\"container\">\n",
       "\t\t<div class=\"row\">\n",
       "\t\t\t<!-- <div class=\"progress_status\"></div> -->\n",
       "\t\t\t<div id = \"0a5c2410-69af-11eb-b552-0242ac120006\"  class=\"\">\n",
       "\t\t\t\t<div class=\"progress\">\n",
       "\t\t\t\t\t<div class=\"progress-bar progress-bar-info progress-bar-striped active\" style=\"width: 0.0%;\">\n",
       "\t\t\t\t\t</div>\t\t\t\t\t\n",
       "\t\t\t\t</div>\n",
       "\t\t\t\t<div class=\"progress-value\">0.0%</div>\n",
       "\t\t\t\t<div class=\"progress-status\"></div>\n",
       "\t\t\t\t\n",
       "\t\t\t</div>\n",
       "\t\t</div>\n",
       "\t</div>\n",
       "</div>"
      ],
      "text/plain": [
       "<IPython.core.display.HTML object>"
      ]
     },
     "metadata": {},
     "output_type": "display_data"
    },
    {
     "name": "stdout",
     "output_type": "stream",
     "text": [
      "Warning: 20201020: 仅含46只股票!\n",
      "Warning: 20201020: 仅含46只股票!\n"
     ]
    },
    {
     "data": {
      "text/html": [
       "<script id = 'progressbar_update_script' type=\"text/javascript\">\n",
       "    var id = '090cc3e4-69af-11eb-b347-0242ac120006';\n",
       "    var width = '10.7' + '%';\n",
       "    var finish_info = ''\n",
       "    var bar = document.getElementById(id);\n",
       "    var progress_bar = bar.querySelector('.progress-bar');\n",
       "    var progress_value = bar.querySelector('.progress-value');\n",
       "    var progress_status = bar.querySelector('.progress-status');\n",
       "    var selfscripts = document.querySelector('#progressbar_update_script');\n",
       "    \n",
       "    update()\n",
       "    \n",
       "\n",
       "    \n",
       "    var output = selfscripts.parentElement;\n",
       "    var outputarea_child = output.parentElement;\n",
       "    outputarea_child.style.display = 'none';\n",
       "    var outputarea = outputarea_child.parentElement;\n",
       "    output.removeChild(selfscripts);\n",
       "    // outputarea.removeChild(outputarea_child);\n",
       "\n",
       "    function update(){\n",
       "        progress_bar.style.width = width;\n",
       "        progress_value.innerHTML = width;\n",
       "    }  \n",
       "\n",
       "    function finish(){\n",
       "        progress_bar.style.width = width;\n",
       "        progress_value.innerHTML = width;\n",
       "        progress_status.innerHTML = finish_info;\n",
       "    } \n",
       "\n",
       "\n",
       "\n",
       "</script>"
      ],
      "text/plain": [
       "<IPython.core.display.HTML object>"
      ]
     },
     "metadata": {},
     "output_type": "display_data"
    },
    {
     "name": "stdout",
     "output_type": "stream",
     "text": [
      "Warning: 20201021: 仅含41只股票!\n",
      "Warning: 20201021: 仅含41只股票!\n"
     ]
    },
    {
     "data": {
      "text/html": [
       "<script id = 'progressbar_update_script' type=\"text/javascript\">\n",
       "    var id = '093512b8-69af-11eb-9e9d-0242ac120006';\n",
       "    var width = '9.5' + '%';\n",
       "    var finish_info = ''\n",
       "    var bar = document.getElementById(id);\n",
       "    var progress_bar = bar.querySelector('.progress-bar');\n",
       "    var progress_value = bar.querySelector('.progress-value');\n",
       "    var progress_status = bar.querySelector('.progress-status');\n",
       "    var selfscripts = document.querySelector('#progressbar_update_script');\n",
       "    \n",
       "    update()\n",
       "    \n",
       "\n",
       "    \n",
       "    var output = selfscripts.parentElement;\n",
       "    var outputarea_child = output.parentElement;\n",
       "    outputarea_child.style.display = 'none';\n",
       "    var outputarea = outputarea_child.parentElement;\n",
       "    output.removeChild(selfscripts);\n",
       "    // outputarea.removeChild(outputarea_child);\n",
       "\n",
       "    function update(){\n",
       "        progress_bar.style.width = width;\n",
       "        progress_value.innerHTML = width;\n",
       "    }  \n",
       "\n",
       "    function finish(){\n",
       "        progress_bar.style.width = width;\n",
       "        progress_value.innerHTML = width;\n",
       "        progress_status.innerHTML = finish_info;\n",
       "    } \n",
       "\n",
       "\n",
       "\n",
       "</script>"
      ],
      "text/plain": [
       "<IPython.core.display.HTML object>"
      ]
     },
     "metadata": {},
     "output_type": "display_data"
    },
    {
     "name": "stdout",
     "output_type": "stream",
     "text": [
      "Warning: 20201022: 仅含42只股票!\n",
      "Warning: 20201022: 仅含42只股票!\n",
      "Warning: 20201023: 仅含13只股票!\n",
      "Warning: 20201023: 仅含13只股票!\n"
     ]
    },
    {
     "data": {
      "text/html": [
       "<script id = 'progressbar_update_script' type=\"text/javascript\">\n",
       "    var id = '08f9ee68-69af-11eb-8e63-0242ac120006';\n",
       "    var width = '14.3' + '%';\n",
       "    var finish_info = ''\n",
       "    var bar = document.getElementById(id);\n",
       "    var progress_bar = bar.querySelector('.progress-bar');\n",
       "    var progress_value = bar.querySelector('.progress-value');\n",
       "    var progress_status = bar.querySelector('.progress-status');\n",
       "    var selfscripts = document.querySelector('#progressbar_update_script');\n",
       "    \n",
       "    update()\n",
       "    \n",
       "\n",
       "    \n",
       "    var output = selfscripts.parentElement;\n",
       "    var outputarea_child = output.parentElement;\n",
       "    outputarea_child.style.display = 'none';\n",
       "    var outputarea = outputarea_child.parentElement;\n",
       "    output.removeChild(selfscripts);\n",
       "    // outputarea.removeChild(outputarea_child);\n",
       "\n",
       "    function update(){\n",
       "        progress_bar.style.width = width;\n",
       "        progress_value.innerHTML = width;\n",
       "    }  \n",
       "\n",
       "    function finish(){\n",
       "        progress_bar.style.width = width;\n",
       "        progress_value.innerHTML = width;\n",
       "        progress_status.innerHTML = finish_info;\n",
       "    } \n",
       "\n",
       "\n",
       "\n",
       "</script>"
      ],
      "text/plain": [
       "<IPython.core.display.HTML object>"
      ]
     },
     "metadata": {},
     "output_type": "display_data"
    },
    {
     "data": {
      "text/html": [
       "<script id = 'progressbar_update_script' type=\"text/javascript\">\n",
       "    var id = '09192166-69af-11eb-90be-0242ac120006';\n",
       "    var width = '11.9' + '%';\n",
       "    var finish_info = ''\n",
       "    var bar = document.getElementById(id);\n",
       "    var progress_bar = bar.querySelector('.progress-bar');\n",
       "    var progress_value = bar.querySelector('.progress-value');\n",
       "    var progress_status = bar.querySelector('.progress-status');\n",
       "    var selfscripts = document.querySelector('#progressbar_update_script');\n",
       "    \n",
       "    update()\n",
       "    \n",
       "\n",
       "    \n",
       "    var output = selfscripts.parentElement;\n",
       "    var outputarea_child = output.parentElement;\n",
       "    outputarea_child.style.display = 'none';\n",
       "    var outputarea = outputarea_child.parentElement;\n",
       "    output.removeChild(selfscripts);\n",
       "    // outputarea.removeChild(outputarea_child);\n",
       "\n",
       "    function update(){\n",
       "        progress_bar.style.width = width;\n",
       "        progress_value.innerHTML = width;\n",
       "    }  \n",
       "\n",
       "    function finish(){\n",
       "        progress_bar.style.width = width;\n",
       "        progress_value.innerHTML = width;\n",
       "        progress_status.innerHTML = finish_info;\n",
       "    } \n",
       "\n",
       "\n",
       "\n",
       "</script>"
      ],
      "text/plain": [
       "<IPython.core.display.HTML object>"
      ]
     },
     "metadata": {},
     "output_type": "display_data"
    },
    {
     "data": {
      "text/html": [
       "<script id = 'progressbar_update_script' type=\"text/javascript\">\n",
       "    var id = '0a5c2410-69af-11eb-b552-0242ac120006';\n",
       "    var width = '4.8' + '%';\n",
       "    var finish_info = ''\n",
       "    var bar = document.getElementById(id);\n",
       "    var progress_bar = bar.querySelector('.progress-bar');\n",
       "    var progress_value = bar.querySelector('.progress-value');\n",
       "    var progress_status = bar.querySelector('.progress-status');\n",
       "    var selfscripts = document.querySelector('#progressbar_update_script');\n",
       "    \n",
       "    update()\n",
       "    \n",
       "\n",
       "    \n",
       "    var output = selfscripts.parentElement;\n",
       "    var outputarea_child = output.parentElement;\n",
       "    outputarea_child.style.display = 'none';\n",
       "    var outputarea = outputarea_child.parentElement;\n",
       "    output.removeChild(selfscripts);\n",
       "    // outputarea.removeChild(outputarea_child);\n",
       "\n",
       "    function update(){\n",
       "        progress_bar.style.width = width;\n",
       "        progress_value.innerHTML = width;\n",
       "    }  \n",
       "\n",
       "    function finish(){\n",
       "        progress_bar.style.width = width;\n",
       "        progress_value.innerHTML = width;\n",
       "        progress_status.innerHTML = finish_info;\n",
       "    } \n",
       "\n",
       "\n",
       "\n",
       "</script>"
      ],
      "text/plain": [
       "<IPython.core.display.HTML object>"
      ]
     },
     "metadata": {},
     "output_type": "display_data"
    },
    {
     "name": "stdout",
     "output_type": "stream",
     "text": [
      "Warning: 20201026: 仅含21只股票!\n",
      "Warning: 20201026: 仅含21只股票!\n"
     ]
    },
    {
     "data": {
      "text/html": [
       "<script id = 'progressbar_update_script' type=\"text/javascript\">\n",
       "    var id = '090cc3e4-69af-11eb-b347-0242ac120006';\n",
       "    var width = '15.5' + '%';\n",
       "    var finish_info = ''\n",
       "    var bar = document.getElementById(id);\n",
       "    var progress_bar = bar.querySelector('.progress-bar');\n",
       "    var progress_value = bar.querySelector('.progress-value');\n",
       "    var progress_status = bar.querySelector('.progress-status');\n",
       "    var selfscripts = document.querySelector('#progressbar_update_script');\n",
       "    \n",
       "    update()\n",
       "    \n",
       "\n",
       "    \n",
       "    var output = selfscripts.parentElement;\n",
       "    var outputarea_child = output.parentElement;\n",
       "    outputarea_child.style.display = 'none';\n",
       "    var outputarea = outputarea_child.parentElement;\n",
       "    output.removeChild(selfscripts);\n",
       "    // outputarea.removeChild(outputarea_child);\n",
       "\n",
       "    function update(){\n",
       "        progress_bar.style.width = width;\n",
       "        progress_value.innerHTML = width;\n",
       "    }  \n",
       "\n",
       "    function finish(){\n",
       "        progress_bar.style.width = width;\n",
       "        progress_value.innerHTML = width;\n",
       "        progress_status.innerHTML = finish_info;\n",
       "    } \n",
       "\n",
       "\n",
       "\n",
       "</script>"
      ],
      "text/plain": [
       "<IPython.core.display.HTML object>"
      ]
     },
     "metadata": {},
     "output_type": "display_data"
    },
    {
     "name": "stdout",
     "output_type": "stream",
     "text": [
      "Warning: 20201027: 仅含21只股票!\n",
      "Warning: 20201027: 仅含21只股票!\n"
     ]
    },
    {
     "data": {
      "text/html": [
       "<script id = 'progressbar_update_script' type=\"text/javascript\">\n",
       "    var id = '093512b8-69af-11eb-9e9d-0242ac120006';\n",
       "    var width = '13.1' + '%';\n",
       "    var finish_info = ''\n",
       "    var bar = document.getElementById(id);\n",
       "    var progress_bar = bar.querySelector('.progress-bar');\n",
       "    var progress_value = bar.querySelector('.progress-value');\n",
       "    var progress_status = bar.querySelector('.progress-status');\n",
       "    var selfscripts = document.querySelector('#progressbar_update_script');\n",
       "    \n",
       "    update()\n",
       "    \n",
       "\n",
       "    \n",
       "    var output = selfscripts.parentElement;\n",
       "    var outputarea_child = output.parentElement;\n",
       "    outputarea_child.style.display = 'none';\n",
       "    var outputarea = outputarea_child.parentElement;\n",
       "    output.removeChild(selfscripts);\n",
       "    // outputarea.removeChild(outputarea_child);\n",
       "\n",
       "    function update(){\n",
       "        progress_bar.style.width = width;\n",
       "        progress_value.innerHTML = width;\n",
       "    }  \n",
       "\n",
       "    function finish(){\n",
       "        progress_bar.style.width = width;\n",
       "        progress_value.innerHTML = width;\n",
       "        progress_status.innerHTML = finish_info;\n",
       "    } \n",
       "\n",
       "\n",
       "\n",
       "</script>"
      ],
      "text/plain": [
       "<IPython.core.display.HTML object>"
      ]
     },
     "metadata": {},
     "output_type": "display_data"
    },
    {
     "name": "stdout",
     "output_type": "stream",
     "text": [
      "Warning: 20201028: 仅含25只股票!\n"
     ]
    },
    {
     "data": {
      "text/html": [
       "<script id = 'progressbar_update_script' type=\"text/javascript\">\n",
       "    var id = '08f9ee68-69af-11eb-8e63-0242ac120006';\n",
       "    var width = '17.9' + '%';\n",
       "    var finish_info = ''\n",
       "    var bar = document.getElementById(id);\n",
       "    var progress_bar = bar.querySelector('.progress-bar');\n",
       "    var progress_value = bar.querySelector('.progress-value');\n",
       "    var progress_status = bar.querySelector('.progress-status');\n",
       "    var selfscripts = document.querySelector('#progressbar_update_script');\n",
       "    \n",
       "    update()\n",
       "    \n",
       "\n",
       "    \n",
       "    var output = selfscripts.parentElement;\n",
       "    var outputarea_child = output.parentElement;\n",
       "    outputarea_child.style.display = 'none';\n",
       "    var outputarea = outputarea_child.parentElement;\n",
       "    output.removeChild(selfscripts);\n",
       "    // outputarea.removeChild(outputarea_child);\n",
       "\n",
       "    function update(){\n",
       "        progress_bar.style.width = width;\n",
       "        progress_value.innerHTML = width;\n",
       "    }  \n",
       "\n",
       "    function finish(){\n",
       "        progress_bar.style.width = width;\n",
       "        progress_value.innerHTML = width;\n",
       "        progress_status.innerHTML = finish_info;\n",
       "    } \n",
       "\n",
       "\n",
       "\n",
       "</script>"
      ],
      "text/plain": [
       "<IPython.core.display.HTML object>"
      ]
     },
     "metadata": {},
     "output_type": "display_data"
    },
    {
     "name": "stdout",
     "output_type": "stream",
     "text": [
      "Warning: 20201028: 仅含25只股票!\n"
     ]
    },
    {
     "data": {
      "text/html": [
       "<script id = 'progressbar_update_script' type=\"text/javascript\">\n",
       "    var id = '09192166-69af-11eb-90be-0242ac120006';\n",
       "    var width = '14.3' + '%';\n",
       "    var finish_info = ''\n",
       "    var bar = document.getElementById(id);\n",
       "    var progress_bar = bar.querySelector('.progress-bar');\n",
       "    var progress_value = bar.querySelector('.progress-value');\n",
       "    var progress_status = bar.querySelector('.progress-status');\n",
       "    var selfscripts = document.querySelector('#progressbar_update_script');\n",
       "    \n",
       "    update()\n",
       "    \n",
       "\n",
       "    \n",
       "    var output = selfscripts.parentElement;\n",
       "    var outputarea_child = output.parentElement;\n",
       "    outputarea_child.style.display = 'none';\n",
       "    var outputarea = outputarea_child.parentElement;\n",
       "    output.removeChild(selfscripts);\n",
       "    // outputarea.removeChild(outputarea_child);\n",
       "\n",
       "    function update(){\n",
       "        progress_bar.style.width = width;\n",
       "        progress_value.innerHTML = width;\n",
       "    }  \n",
       "\n",
       "    function finish(){\n",
       "        progress_bar.style.width = width;\n",
       "        progress_value.innerHTML = width;\n",
       "        progress_status.innerHTML = finish_info;\n",
       "    } \n",
       "\n",
       "\n",
       "\n",
       "</script>"
      ],
      "text/plain": [
       "<IPython.core.display.HTML object>"
      ]
     },
     "metadata": {},
     "output_type": "display_data"
    },
    {
     "data": {
      "text/html": [
       "<script id = 'progressbar_update_script' type=\"text/javascript\">\n",
       "    var id = '0a5c2410-69af-11eb-b552-0242ac120006';\n",
       "    var width = '8.3' + '%';\n",
       "    var finish_info = ''\n",
       "    var bar = document.getElementById(id);\n",
       "    var progress_bar = bar.querySelector('.progress-bar');\n",
       "    var progress_value = bar.querySelector('.progress-value');\n",
       "    var progress_status = bar.querySelector('.progress-status');\n",
       "    var selfscripts = document.querySelector('#progressbar_update_script');\n",
       "    \n",
       "    update()\n",
       "    \n",
       "\n",
       "    \n",
       "    var output = selfscripts.parentElement;\n",
       "    var outputarea_child = output.parentElement;\n",
       "    outputarea_child.style.display = 'none';\n",
       "    var outputarea = outputarea_child.parentElement;\n",
       "    output.removeChild(selfscripts);\n",
       "    // outputarea.removeChild(outputarea_child);\n",
       "\n",
       "    function update(){\n",
       "        progress_bar.style.width = width;\n",
       "        progress_value.innerHTML = width;\n",
       "    }  \n",
       "\n",
       "    function finish(){\n",
       "        progress_bar.style.width = width;\n",
       "        progress_value.innerHTML = width;\n",
       "        progress_status.innerHTML = finish_info;\n",
       "    } \n",
       "\n",
       "\n",
       "\n",
       "</script>"
      ],
      "text/plain": [
       "<IPython.core.display.HTML object>"
      ]
     },
     "metadata": {},
     "output_type": "display_data"
    },
    {
     "name": "stdout",
     "output_type": "stream",
     "text": [
      "Warning: 20201029: 仅含27只股票!\n",
      "Warning: 20201029: 仅含27只股票!\n"
     ]
    },
    {
     "data": {
      "text/html": [
       "<script id = 'progressbar_update_script' type=\"text/javascript\">\n",
       "    var id = '090cc3e4-69af-11eb-b347-0242ac120006';\n",
       "    var width = '19.0' + '%';\n",
       "    var finish_info = ''\n",
       "    var bar = document.getElementById(id);\n",
       "    var progress_bar = bar.querySelector('.progress-bar');\n",
       "    var progress_value = bar.querySelector('.progress-value');\n",
       "    var progress_status = bar.querySelector('.progress-status');\n",
       "    var selfscripts = document.querySelector('#progressbar_update_script');\n",
       "    \n",
       "    update()\n",
       "    \n",
       "\n",
       "    \n",
       "    var output = selfscripts.parentElement;\n",
       "    var outputarea_child = output.parentElement;\n",
       "    outputarea_child.style.display = 'none';\n",
       "    var outputarea = outputarea_child.parentElement;\n",
       "    output.removeChild(selfscripts);\n",
       "    // outputarea.removeChild(outputarea_child);\n",
       "\n",
       "    function update(){\n",
       "        progress_bar.style.width = width;\n",
       "        progress_value.innerHTML = width;\n",
       "    }  \n",
       "\n",
       "    function finish(){\n",
       "        progress_bar.style.width = width;\n",
       "        progress_value.innerHTML = width;\n",
       "        progress_status.innerHTML = finish_info;\n",
       "    } \n",
       "\n",
       "\n",
       "\n",
       "</script>"
      ],
      "text/plain": [
       "<IPython.core.display.HTML object>"
      ]
     },
     "metadata": {},
     "output_type": "display_data"
    },
    {
     "name": "stdout",
     "output_type": "stream",
     "text": [
      "Warning: 20201030: 仅含12只股票!\n",
      "Warning: 20201030: 仅含12只股票!\n",
      "Warning: 20201102: 仅含14只股票!\n",
      "Warning: 20201102: 仅含14只股票!\n"
     ]
    },
    {
     "data": {
      "text/html": [
       "<script id = 'progressbar_update_script' type=\"text/javascript\">\n",
       "    var id = '093512b8-69af-11eb-9e9d-0242ac120006';\n",
       "    var width = '16.7' + '%';\n",
       "    var finish_info = ''\n",
       "    var bar = document.getElementById(id);\n",
       "    var progress_bar = bar.querySelector('.progress-bar');\n",
       "    var progress_value = bar.querySelector('.progress-value');\n",
       "    var progress_status = bar.querySelector('.progress-status');\n",
       "    var selfscripts = document.querySelector('#progressbar_update_script');\n",
       "    \n",
       "    update()\n",
       "    \n",
       "\n",
       "    \n",
       "    var output = selfscripts.parentElement;\n",
       "    var outputarea_child = output.parentElement;\n",
       "    outputarea_child.style.display = 'none';\n",
       "    var outputarea = outputarea_child.parentElement;\n",
       "    output.removeChild(selfscripts);\n",
       "    // outputarea.removeChild(outputarea_child);\n",
       "\n",
       "    function update(){\n",
       "        progress_bar.style.width = width;\n",
       "        progress_value.innerHTML = width;\n",
       "    }  \n",
       "\n",
       "    function finish(){\n",
       "        progress_bar.style.width = width;\n",
       "        progress_value.innerHTML = width;\n",
       "        progress_status.innerHTML = finish_info;\n",
       "    } \n",
       "\n",
       "\n",
       "\n",
       "</script>"
      ],
      "text/plain": [
       "<IPython.core.display.HTML object>"
      ]
     },
     "metadata": {},
     "output_type": "display_data"
    },
    {
     "data": {
      "text/html": [
       "<script id = 'progressbar_update_script' type=\"text/javascript\">\n",
       "    var id = '09192166-69af-11eb-90be-0242ac120006';\n",
       "    var width = '17.9' + '%';\n",
       "    var finish_info = ''\n",
       "    var bar = document.getElementById(id);\n",
       "    var progress_bar = bar.querySelector('.progress-bar');\n",
       "    var progress_value = bar.querySelector('.progress-value');\n",
       "    var progress_status = bar.querySelector('.progress-status');\n",
       "    var selfscripts = document.querySelector('#progressbar_update_script');\n",
       "    \n",
       "    update()\n",
       "    \n",
       "\n",
       "    \n",
       "    var output = selfscripts.parentElement;\n",
       "    var outputarea_child = output.parentElement;\n",
       "    outputarea_child.style.display = 'none';\n",
       "    var outputarea = outputarea_child.parentElement;\n",
       "    output.removeChild(selfscripts);\n",
       "    // outputarea.removeChild(outputarea_child);\n",
       "\n",
       "    function update(){\n",
       "        progress_bar.style.width = width;\n",
       "        progress_value.innerHTML = width;\n",
       "    }  \n",
       "\n",
       "    function finish(){\n",
       "        progress_bar.style.width = width;\n",
       "        progress_value.innerHTML = width;\n",
       "        progress_status.innerHTML = finish_info;\n",
       "    } \n",
       "\n",
       "\n",
       "\n",
       "</script>"
      ],
      "text/plain": [
       "<IPython.core.display.HTML object>"
      ]
     },
     "metadata": {},
     "output_type": "display_data"
    },
    {
     "name": "stdout",
     "output_type": "stream",
     "text": [
      "Warning: 20201103: 仅含31只股票!\n"
     ]
    },
    {
     "data": {
      "text/html": [
       "<script id = 'progressbar_update_script' type=\"text/javascript\">\n",
       "    var id = '08f9ee68-69af-11eb-8e63-0242ac120006';\n",
       "    var width = '22.6' + '%';\n",
       "    var finish_info = ''\n",
       "    var bar = document.getElementById(id);\n",
       "    var progress_bar = bar.querySelector('.progress-bar');\n",
       "    var progress_value = bar.querySelector('.progress-value');\n",
       "    var progress_status = bar.querySelector('.progress-status');\n",
       "    var selfscripts = document.querySelector('#progressbar_update_script');\n",
       "    \n",
       "    update()\n",
       "    \n",
       "\n",
       "    \n",
       "    var output = selfscripts.parentElement;\n",
       "    var outputarea_child = output.parentElement;\n",
       "    outputarea_child.style.display = 'none';\n",
       "    var outputarea = outputarea_child.parentElement;\n",
       "    output.removeChild(selfscripts);\n",
       "    // outputarea.removeChild(outputarea_child);\n",
       "\n",
       "    function update(){\n",
       "        progress_bar.style.width = width;\n",
       "        progress_value.innerHTML = width;\n",
       "    }  \n",
       "\n",
       "    function finish(){\n",
       "        progress_bar.style.width = width;\n",
       "        progress_value.innerHTML = width;\n",
       "        progress_status.innerHTML = finish_info;\n",
       "    } \n",
       "\n",
       "\n",
       "\n",
       "</script>"
      ],
      "text/plain": [
       "<IPython.core.display.HTML object>"
      ]
     },
     "metadata": {},
     "output_type": "display_data"
    },
    {
     "name": "stdout",
     "output_type": "stream",
     "text": [
      "Warning: 20201103: 仅含31只股票!\n"
     ]
    },
    {
     "data": {
      "text/html": [
       "<script id = 'progressbar_update_script' type=\"text/javascript\">\n",
       "    var id = '090cc3e4-69af-11eb-b347-0242ac120006';\n",
       "    var width = '22.6' + '%';\n",
       "    var finish_info = ''\n",
       "    var bar = document.getElementById(id);\n",
       "    var progress_bar = bar.querySelector('.progress-bar');\n",
       "    var progress_value = bar.querySelector('.progress-value');\n",
       "    var progress_status = bar.querySelector('.progress-status');\n",
       "    var selfscripts = document.querySelector('#progressbar_update_script');\n",
       "    \n",
       "    update()\n",
       "    \n",
       "\n",
       "    \n",
       "    var output = selfscripts.parentElement;\n",
       "    var outputarea_child = output.parentElement;\n",
       "    outputarea_child.style.display = 'none';\n",
       "    var outputarea = outputarea_child.parentElement;\n",
       "    output.removeChild(selfscripts);\n",
       "    // outputarea.removeChild(outputarea_child);\n",
       "\n",
       "    function update(){\n",
       "        progress_bar.style.width = width;\n",
       "        progress_value.innerHTML = width;\n",
       "    }  \n",
       "\n",
       "    function finish(){\n",
       "        progress_bar.style.width = width;\n",
       "        progress_value.innerHTML = width;\n",
       "        progress_status.innerHTML = finish_info;\n",
       "    } \n",
       "\n",
       "\n",
       "\n",
       "</script>"
      ],
      "text/plain": [
       "<IPython.core.display.HTML object>"
      ]
     },
     "metadata": {},
     "output_type": "display_data"
    },
    {
     "data": {
      "text/html": [
       "<script id = 'progressbar_update_script' type=\"text/javascript\">\n",
       "    var id = '0a5c2410-69af-11eb-b552-0242ac120006';\n",
       "    var width = '11.9' + '%';\n",
       "    var finish_info = ''\n",
       "    var bar = document.getElementById(id);\n",
       "    var progress_bar = bar.querySelector('.progress-bar');\n",
       "    var progress_value = bar.querySelector('.progress-value');\n",
       "    var progress_status = bar.querySelector('.progress-status');\n",
       "    var selfscripts = document.querySelector('#progressbar_update_script');\n",
       "    \n",
       "    update()\n",
       "    \n",
       "\n",
       "    \n",
       "    var output = selfscripts.parentElement;\n",
       "    var outputarea_child = output.parentElement;\n",
       "    outputarea_child.style.display = 'none';\n",
       "    var outputarea = outputarea_child.parentElement;\n",
       "    output.removeChild(selfscripts);\n",
       "    // outputarea.removeChild(outputarea_child);\n",
       "\n",
       "    function update(){\n",
       "        progress_bar.style.width = width;\n",
       "        progress_value.innerHTML = width;\n",
       "    }  \n",
       "\n",
       "    function finish(){\n",
       "        progress_bar.style.width = width;\n",
       "        progress_value.innerHTML = width;\n",
       "        progress_status.innerHTML = finish_info;\n",
       "    } \n",
       "\n",
       "\n",
       "\n",
       "</script>"
      ],
      "text/plain": [
       "<IPython.core.display.HTML object>"
      ]
     },
     "metadata": {},
     "output_type": "display_data"
    },
    {
     "name": "stdout",
     "output_type": "stream",
     "text": [
      "Warning: 20201104: 仅含28只股票!\n",
      "Warning: 20201104: 仅含28只股票!\n",
      "Warning: 20201105: 仅含37只股票!\n",
      "Warning: 20201105: 仅含37只股票!\n"
     ]
    },
    {
     "data": {
      "text/html": [
       "<script id = 'progressbar_update_script' type=\"text/javascript\">\n",
       "    var id = '093512b8-69af-11eb-9e9d-0242ac120006';\n",
       "    var width = '20.2' + '%';\n",
       "    var finish_info = ''\n",
       "    var bar = document.getElementById(id);\n",
       "    var progress_bar = bar.querySelector('.progress-bar');\n",
       "    var progress_value = bar.querySelector('.progress-value');\n",
       "    var progress_status = bar.querySelector('.progress-status');\n",
       "    var selfscripts = document.querySelector('#progressbar_update_script');\n",
       "    \n",
       "    update()\n",
       "    \n",
       "\n",
       "    \n",
       "    var output = selfscripts.parentElement;\n",
       "    var outputarea_child = output.parentElement;\n",
       "    outputarea_child.style.display = 'none';\n",
       "    var outputarea = outputarea_child.parentElement;\n",
       "    output.removeChild(selfscripts);\n",
       "    // outputarea.removeChild(outputarea_child);\n",
       "\n",
       "    function update(){\n",
       "        progress_bar.style.width = width;\n",
       "        progress_value.innerHTML = width;\n",
       "    }  \n",
       "\n",
       "    function finish(){\n",
       "        progress_bar.style.width = width;\n",
       "        progress_value.innerHTML = width;\n",
       "        progress_status.innerHTML = finish_info;\n",
       "    } \n",
       "\n",
       "\n",
       "\n",
       "</script>"
      ],
      "text/plain": [
       "<IPython.core.display.HTML object>"
      ]
     },
     "metadata": {},
     "output_type": "display_data"
    },
    {
     "name": "stdout",
     "output_type": "stream",
     "text": [
      "Warning: 20201106: 仅含43只股票!\n",
      "Warning: 20201106: 仅含43只股票!\n"
     ]
    },
    {
     "data": {
      "text/html": [
       "<script id = 'progressbar_update_script' type=\"text/javascript\">\n",
       "    var id = '08f9ee68-69af-11eb-8e63-0242ac120006';\n",
       "    var width = '26.2' + '%';\n",
       "    var finish_info = ''\n",
       "    var bar = document.getElementById(id);\n",
       "    var progress_bar = bar.querySelector('.progress-bar');\n",
       "    var progress_value = bar.querySelector('.progress-value');\n",
       "    var progress_status = bar.querySelector('.progress-status');\n",
       "    var selfscripts = document.querySelector('#progressbar_update_script');\n",
       "    \n",
       "    update()\n",
       "    \n",
       "\n",
       "    \n",
       "    var output = selfscripts.parentElement;\n",
       "    var outputarea_child = output.parentElement;\n",
       "    outputarea_child.style.display = 'none';\n",
       "    var outputarea = outputarea_child.parentElement;\n",
       "    output.removeChild(selfscripts);\n",
       "    // outputarea.removeChild(outputarea_child);\n",
       "\n",
       "    function update(){\n",
       "        progress_bar.style.width = width;\n",
       "        progress_value.innerHTML = width;\n",
       "    }  \n",
       "\n",
       "    function finish(){\n",
       "        progress_bar.style.width = width;\n",
       "        progress_value.innerHTML = width;\n",
       "        progress_status.innerHTML = finish_info;\n",
       "    } \n",
       "\n",
       "\n",
       "\n",
       "</script>"
      ],
      "text/plain": [
       "<IPython.core.display.HTML object>"
      ]
     },
     "metadata": {},
     "output_type": "display_data"
    },
    {
     "data": {
      "text/html": [
       "<script id = 'progressbar_update_script' type=\"text/javascript\">\n",
       "    var id = '09192166-69af-11eb-90be-0242ac120006';\n",
       "    var width = '21.4' + '%';\n",
       "    var finish_info = ''\n",
       "    var bar = document.getElementById(id);\n",
       "    var progress_bar = bar.querySelector('.progress-bar');\n",
       "    var progress_value = bar.querySelector('.progress-value');\n",
       "    var progress_status = bar.querySelector('.progress-status');\n",
       "    var selfscripts = document.querySelector('#progressbar_update_script');\n",
       "    \n",
       "    update()\n",
       "    \n",
       "\n",
       "    \n",
       "    var output = selfscripts.parentElement;\n",
       "    var outputarea_child = output.parentElement;\n",
       "    outputarea_child.style.display = 'none';\n",
       "    var outputarea = outputarea_child.parentElement;\n",
       "    output.removeChild(selfscripts);\n",
       "    // outputarea.removeChild(outputarea_child);\n",
       "\n",
       "    function update(){\n",
       "        progress_bar.style.width = width;\n",
       "        progress_value.innerHTML = width;\n",
       "    }  \n",
       "\n",
       "    function finish(){\n",
       "        progress_bar.style.width = width;\n",
       "        progress_value.innerHTML = width;\n",
       "        progress_status.innerHTML = finish_info;\n",
       "    } \n",
       "\n",
       "\n",
       "\n",
       "</script>"
      ],
      "text/plain": [
       "<IPython.core.display.HTML object>"
      ]
     },
     "metadata": {},
     "output_type": "display_data"
    },
    {
     "name": "stdout",
     "output_type": "stream",
     "text": [
      "Warning: 20201109: 仅含14只股票!\n",
      "Warning: 20201109: 仅含14只股票!\n"
     ]
    },
    {
     "data": {
      "text/html": [
       "<script id = 'progressbar_update_script' type=\"text/javascript\">\n",
       "    var id = '090cc3e4-69af-11eb-b347-0242ac120006';\n",
       "    var width = '27.4' + '%';\n",
       "    var finish_info = ''\n",
       "    var bar = document.getElementById(id);\n",
       "    var progress_bar = bar.querySelector('.progress-bar');\n",
       "    var progress_value = bar.querySelector('.progress-value');\n",
       "    var progress_status = bar.querySelector('.progress-status');\n",
       "    var selfscripts = document.querySelector('#progressbar_update_script');\n",
       "    \n",
       "    update()\n",
       "    \n",
       "\n",
       "    \n",
       "    var output = selfscripts.parentElement;\n",
       "    var outputarea_child = output.parentElement;\n",
       "    outputarea_child.style.display = 'none';\n",
       "    var outputarea = outputarea_child.parentElement;\n",
       "    output.removeChild(selfscripts);\n",
       "    // outputarea.removeChild(outputarea_child);\n",
       "\n",
       "    function update(){\n",
       "        progress_bar.style.width = width;\n",
       "        progress_value.innerHTML = width;\n",
       "    }  \n",
       "\n",
       "    function finish(){\n",
       "        progress_bar.style.width = width;\n",
       "        progress_value.innerHTML = width;\n",
       "        progress_status.innerHTML = finish_info;\n",
       "    } \n",
       "\n",
       "\n",
       "\n",
       "</script>"
      ],
      "text/plain": [
       "<IPython.core.display.HTML object>"
      ]
     },
     "metadata": {},
     "output_type": "display_data"
    },
    {
     "data": {
      "text/html": [
       "<script id = 'progressbar_update_script' type=\"text/javascript\">\n",
       "    var id = '0a5c2410-69af-11eb-b552-0242ac120006';\n",
       "    var width = '16.7' + '%';\n",
       "    var finish_info = ''\n",
       "    var bar = document.getElementById(id);\n",
       "    var progress_bar = bar.querySelector('.progress-bar');\n",
       "    var progress_value = bar.querySelector('.progress-value');\n",
       "    var progress_status = bar.querySelector('.progress-status');\n",
       "    var selfscripts = document.querySelector('#progressbar_update_script');\n",
       "    \n",
       "    update()\n",
       "    \n",
       "\n",
       "    \n",
       "    var output = selfscripts.parentElement;\n",
       "    var outputarea_child = output.parentElement;\n",
       "    outputarea_child.style.display = 'none';\n",
       "    var outputarea = outputarea_child.parentElement;\n",
       "    output.removeChild(selfscripts);\n",
       "    // outputarea.removeChild(outputarea_child);\n",
       "\n",
       "    function update(){\n",
       "        progress_bar.style.width = width;\n",
       "        progress_value.innerHTML = width;\n",
       "    }  \n",
       "\n",
       "    function finish(){\n",
       "        progress_bar.style.width = width;\n",
       "        progress_value.innerHTML = width;\n",
       "        progress_status.innerHTML = finish_info;\n",
       "    } \n",
       "\n",
       "\n",
       "\n",
       "</script>"
      ],
      "text/plain": [
       "<IPython.core.display.HTML object>"
      ]
     },
     "metadata": {},
     "output_type": "display_data"
    },
    {
     "name": "stdout",
     "output_type": "stream",
     "text": [
      "Warning: 20201110: 仅含44只股票!\n",
      "Warning: 20201110: 仅含44只股票!\n",
      "Warning: 20201111: 仅含39只股票!\n",
      "Warning: 20201111: 仅含39只股票!\n"
     ]
    },
    {
     "data": {
      "text/html": [
       "<script id = 'progressbar_update_script' type=\"text/javascript\">\n",
       "    var id = '093512b8-69af-11eb-9e9d-0242ac120006';\n",
       "    var width = '25.0' + '%';\n",
       "    var finish_info = ''\n",
       "    var bar = document.getElementById(id);\n",
       "    var progress_bar = bar.querySelector('.progress-bar');\n",
       "    var progress_value = bar.querySelector('.progress-value');\n",
       "    var progress_status = bar.querySelector('.progress-status');\n",
       "    var selfscripts = document.querySelector('#progressbar_update_script');\n",
       "    \n",
       "    update()\n",
       "    \n",
       "\n",
       "    \n",
       "    var output = selfscripts.parentElement;\n",
       "    var outputarea_child = output.parentElement;\n",
       "    outputarea_child.style.display = 'none';\n",
       "    var outputarea = outputarea_child.parentElement;\n",
       "    output.removeChild(selfscripts);\n",
       "    // outputarea.removeChild(outputarea_child);\n",
       "\n",
       "    function update(){\n",
       "        progress_bar.style.width = width;\n",
       "        progress_value.innerHTML = width;\n",
       "    }  \n",
       "\n",
       "    function finish(){\n",
       "        progress_bar.style.width = width;\n",
       "        progress_value.innerHTML = width;\n",
       "        progress_status.innerHTML = finish_info;\n",
       "    } \n",
       "\n",
       "\n",
       "\n",
       "</script>"
      ],
      "text/plain": [
       "<IPython.core.display.HTML object>"
      ]
     },
     "metadata": {},
     "output_type": "display_data"
    },
    {
     "name": "stdout",
     "output_type": "stream",
     "text": [
      "Warning: 20201112: 仅含34只股票!\n",
      "Warning: 20201112: 仅含34只股票!\n"
     ]
    },
    {
     "data": {
      "text/html": [
       "<script id = 'progressbar_update_script' type=\"text/javascript\">\n",
       "    var id = '09192166-69af-11eb-90be-0242ac120006';\n",
       "    var width = '25.0' + '%';\n",
       "    var finish_info = ''\n",
       "    var bar = document.getElementById(id);\n",
       "    var progress_bar = bar.querySelector('.progress-bar');\n",
       "    var progress_value = bar.querySelector('.progress-value');\n",
       "    var progress_status = bar.querySelector('.progress-status');\n",
       "    var selfscripts = document.querySelector('#progressbar_update_script');\n",
       "    \n",
       "    update()\n",
       "    \n",
       "\n",
       "    \n",
       "    var output = selfscripts.parentElement;\n",
       "    var outputarea_child = output.parentElement;\n",
       "    outputarea_child.style.display = 'none';\n",
       "    var outputarea = outputarea_child.parentElement;\n",
       "    output.removeChild(selfscripts);\n",
       "    // outputarea.removeChild(outputarea_child);\n",
       "\n",
       "    function update(){\n",
       "        progress_bar.style.width = width;\n",
       "        progress_value.innerHTML = width;\n",
       "    }  \n",
       "\n",
       "    function finish(){\n",
       "        progress_bar.style.width = width;\n",
       "        progress_value.innerHTML = width;\n",
       "        progress_status.innerHTML = finish_info;\n",
       "    } \n",
       "\n",
       "\n",
       "\n",
       "</script>"
      ],
      "text/plain": [
       "<IPython.core.display.HTML object>"
      ]
     },
     "metadata": {},
     "output_type": "display_data"
    },
    {
     "data": {
      "text/html": [
       "<script id = 'progressbar_update_script' type=\"text/javascript\">\n",
       "    var id = '08f9ee68-69af-11eb-8e63-0242ac120006';\n",
       "    var width = '31.0' + '%';\n",
       "    var finish_info = ''\n",
       "    var bar = document.getElementById(id);\n",
       "    var progress_bar = bar.querySelector('.progress-bar');\n",
       "    var progress_value = bar.querySelector('.progress-value');\n",
       "    var progress_status = bar.querySelector('.progress-status');\n",
       "    var selfscripts = document.querySelector('#progressbar_update_script');\n",
       "    \n",
       "    update()\n",
       "    \n",
       "\n",
       "    \n",
       "    var output = selfscripts.parentElement;\n",
       "    var outputarea_child = output.parentElement;\n",
       "    outputarea_child.style.display = 'none';\n",
       "    var outputarea = outputarea_child.parentElement;\n",
       "    output.removeChild(selfscripts);\n",
       "    // outputarea.removeChild(outputarea_child);\n",
       "\n",
       "    function update(){\n",
       "        progress_bar.style.width = width;\n",
       "        progress_value.innerHTML = width;\n",
       "    }  \n",
       "\n",
       "    function finish(){\n",
       "        progress_bar.style.width = width;\n",
       "        progress_value.innerHTML = width;\n",
       "        progress_status.innerHTML = finish_info;\n",
       "    } \n",
       "\n",
       "\n",
       "\n",
       "</script>"
      ],
      "text/plain": [
       "<IPython.core.display.HTML object>"
      ]
     },
     "metadata": {},
     "output_type": "display_data"
    },
    {
     "name": "stdout",
     "output_type": "stream",
     "text": [
      "Warning: 20201113: 仅含42只股票!\n"
     ]
    },
    {
     "data": {
      "text/html": [
       "<script id = 'progressbar_update_script' type=\"text/javascript\">\n",
       "    var id = '090cc3e4-69af-11eb-b347-0242ac120006';\n",
       "    var width = '32.1' + '%';\n",
       "    var finish_info = ''\n",
       "    var bar = document.getElementById(id);\n",
       "    var progress_bar = bar.querySelector('.progress-bar');\n",
       "    var progress_value = bar.querySelector('.progress-value');\n",
       "    var progress_status = bar.querySelector('.progress-status');\n",
       "    var selfscripts = document.querySelector('#progressbar_update_script');\n",
       "    \n",
       "    update()\n",
       "    \n",
       "\n",
       "    \n",
       "    var output = selfscripts.parentElement;\n",
       "    var outputarea_child = output.parentElement;\n",
       "    outputarea_child.style.display = 'none';\n",
       "    var outputarea = outputarea_child.parentElement;\n",
       "    output.removeChild(selfscripts);\n",
       "    // outputarea.removeChild(outputarea_child);\n",
       "\n",
       "    function update(){\n",
       "        progress_bar.style.width = width;\n",
       "        progress_value.innerHTML = width;\n",
       "    }  \n",
       "\n",
       "    function finish(){\n",
       "        progress_bar.style.width = width;\n",
       "        progress_value.innerHTML = width;\n",
       "        progress_status.innerHTML = finish_info;\n",
       "    } \n",
       "\n",
       "\n",
       "\n",
       "</script>"
      ],
      "text/plain": [
       "<IPython.core.display.HTML object>"
      ]
     },
     "metadata": {},
     "output_type": "display_data"
    },
    {
     "name": "stdout",
     "output_type": "stream",
     "text": [
      "Warning: 20201113: 仅含42只股票!\n"
     ]
    },
    {
     "data": {
      "text/html": [
       "<script id = 'progressbar_update_script' type=\"text/javascript\">\n",
       "    var id = '0a5c2410-69af-11eb-b552-0242ac120006';\n",
       "    var width = '20.2' + '%';\n",
       "    var finish_info = ''\n",
       "    var bar = document.getElementById(id);\n",
       "    var progress_bar = bar.querySelector('.progress-bar');\n",
       "    var progress_value = bar.querySelector('.progress-value');\n",
       "    var progress_status = bar.querySelector('.progress-status');\n",
       "    var selfscripts = document.querySelector('#progressbar_update_script');\n",
       "    \n",
       "    update()\n",
       "    \n",
       "\n",
       "    \n",
       "    var output = selfscripts.parentElement;\n",
       "    var outputarea_child = output.parentElement;\n",
       "    outputarea_child.style.display = 'none';\n",
       "    var outputarea = outputarea_child.parentElement;\n",
       "    output.removeChild(selfscripts);\n",
       "    // outputarea.removeChild(outputarea_child);\n",
       "\n",
       "    function update(){\n",
       "        progress_bar.style.width = width;\n",
       "        progress_value.innerHTML = width;\n",
       "    }  \n",
       "\n",
       "    function finish(){\n",
       "        progress_bar.style.width = width;\n",
       "        progress_value.innerHTML = width;\n",
       "        progress_status.innerHTML = finish_info;\n",
       "    } \n",
       "\n",
       "\n",
       "\n",
       "</script>"
      ],
      "text/plain": [
       "<IPython.core.display.HTML object>"
      ]
     },
     "metadata": {},
     "output_type": "display_data"
    },
    {
     "name": "stdout",
     "output_type": "stream",
     "text": [
      "Warning: 20201116: 仅含23只股票!\n",
      "Warning: 20201116: 仅含23只股票!\n",
      "Warning: 20201117: 仅含21只股票!\n",
      "Warning: 20201117: 仅含21只股票!\n",
      "Warning: 20201118: 仅含22只股票!\n"
     ]
    },
    {
     "data": {
      "text/html": [
       "<script id = 'progressbar_update_script' type=\"text/javascript\">\n",
       "    var id = '08f9ee68-69af-11eb-8e63-0242ac120006';\n",
       "    var width = '35.7' + '%';\n",
       "    var finish_info = ''\n",
       "    var bar = document.getElementById(id);\n",
       "    var progress_bar = bar.querySelector('.progress-bar');\n",
       "    var progress_value = bar.querySelector('.progress-value');\n",
       "    var progress_status = bar.querySelector('.progress-status');\n",
       "    var selfscripts = document.querySelector('#progressbar_update_script');\n",
       "    \n",
       "    update()\n",
       "    \n",
       "\n",
       "    \n",
       "    var output = selfscripts.parentElement;\n",
       "    var outputarea_child = output.parentElement;\n",
       "    outputarea_child.style.display = 'none';\n",
       "    var outputarea = outputarea_child.parentElement;\n",
       "    output.removeChild(selfscripts);\n",
       "    // outputarea.removeChild(outputarea_child);\n",
       "\n",
       "    function update(){\n",
       "        progress_bar.style.width = width;\n",
       "        progress_value.innerHTML = width;\n",
       "    }  \n",
       "\n",
       "    function finish(){\n",
       "        progress_bar.style.width = width;\n",
       "        progress_value.innerHTML = width;\n",
       "        progress_status.innerHTML = finish_info;\n",
       "    } \n",
       "\n",
       "\n",
       "\n",
       "</script>"
      ],
      "text/plain": [
       "<IPython.core.display.HTML object>"
      ]
     },
     "metadata": {},
     "output_type": "display_data"
    },
    {
     "data": {
      "text/html": [
       "<script id = 'progressbar_update_script' type=\"text/javascript\">\n",
       "    var id = '09192166-69af-11eb-90be-0242ac120006';\n",
       "    var width = '28.6' + '%';\n",
       "    var finish_info = ''\n",
       "    var bar = document.getElementById(id);\n",
       "    var progress_bar = bar.querySelector('.progress-bar');\n",
       "    var progress_value = bar.querySelector('.progress-value');\n",
       "    var progress_status = bar.querySelector('.progress-status');\n",
       "    var selfscripts = document.querySelector('#progressbar_update_script');\n",
       "    \n",
       "    update()\n",
       "    \n",
       "\n",
       "    \n",
       "    var output = selfscripts.parentElement;\n",
       "    var outputarea_child = output.parentElement;\n",
       "    outputarea_child.style.display = 'none';\n",
       "    var outputarea = outputarea_child.parentElement;\n",
       "    output.removeChild(selfscripts);\n",
       "    // outputarea.removeChild(outputarea_child);\n",
       "\n",
       "    function update(){\n",
       "        progress_bar.style.width = width;\n",
       "        progress_value.innerHTML = width;\n",
       "    }  \n",
       "\n",
       "    function finish(){\n",
       "        progress_bar.style.width = width;\n",
       "        progress_value.innerHTML = width;\n",
       "        progress_status.innerHTML = finish_info;\n",
       "    } \n",
       "\n",
       "\n",
       "\n",
       "</script>"
      ],
      "text/plain": [
       "<IPython.core.display.HTML object>"
      ]
     },
     "metadata": {},
     "output_type": "display_data"
    },
    {
     "name": "stdout",
     "output_type": "stream",
     "text": [
      "Warning: 20201118: 仅含22只股票!\n"
     ]
    },
    {
     "data": {
      "text/html": [
       "<script id = 'progressbar_update_script' type=\"text/javascript\">\n",
       "    var id = '093512b8-69af-11eb-9e9d-0242ac120006';\n",
       "    var width = '29.8' + '%';\n",
       "    var finish_info = ''\n",
       "    var bar = document.getElementById(id);\n",
       "    var progress_bar = bar.querySelector('.progress-bar');\n",
       "    var progress_value = bar.querySelector('.progress-value');\n",
       "    var progress_status = bar.querySelector('.progress-status');\n",
       "    var selfscripts = document.querySelector('#progressbar_update_script');\n",
       "    \n",
       "    update()\n",
       "    \n",
       "\n",
       "    \n",
       "    var output = selfscripts.parentElement;\n",
       "    var outputarea_child = output.parentElement;\n",
       "    outputarea_child.style.display = 'none';\n",
       "    var outputarea = outputarea_child.parentElement;\n",
       "    output.removeChild(selfscripts);\n",
       "    // outputarea.removeChild(outputarea_child);\n",
       "\n",
       "    function update(){\n",
       "        progress_bar.style.width = width;\n",
       "        progress_value.innerHTML = width;\n",
       "    }  \n",
       "\n",
       "    function finish(){\n",
       "        progress_bar.style.width = width;\n",
       "        progress_value.innerHTML = width;\n",
       "        progress_status.innerHTML = finish_info;\n",
       "    } \n",
       "\n",
       "\n",
       "\n",
       "</script>"
      ],
      "text/plain": [
       "<IPython.core.display.HTML object>"
      ]
     },
     "metadata": {},
     "output_type": "display_data"
    },
    {
     "name": "stdout",
     "output_type": "stream",
     "text": [
      "Warning: 20201119: 仅含38只股票!\n",
      "Warning: 20201119: 仅含38只股票!\n"
     ]
    },
    {
     "data": {
      "text/html": [
       "<script id = 'progressbar_update_script' type=\"text/javascript\">\n",
       "    var id = '090cc3e4-69af-11eb-b347-0242ac120006';\n",
       "    var width = '36.9' + '%';\n",
       "    var finish_info = ''\n",
       "    var bar = document.getElementById(id);\n",
       "    var progress_bar = bar.querySelector('.progress-bar');\n",
       "    var progress_value = bar.querySelector('.progress-value');\n",
       "    var progress_status = bar.querySelector('.progress-status');\n",
       "    var selfscripts = document.querySelector('#progressbar_update_script');\n",
       "    \n",
       "    update()\n",
       "    \n",
       "\n",
       "    \n",
       "    var output = selfscripts.parentElement;\n",
       "    var outputarea_child = output.parentElement;\n",
       "    outputarea_child.style.display = 'none';\n",
       "    var outputarea = outputarea_child.parentElement;\n",
       "    output.removeChild(selfscripts);\n",
       "    // outputarea.removeChild(outputarea_child);\n",
       "\n",
       "    function update(){\n",
       "        progress_bar.style.width = width;\n",
       "        progress_value.innerHTML = width;\n",
       "    }  \n",
       "\n",
       "    function finish(){\n",
       "        progress_bar.style.width = width;\n",
       "        progress_value.innerHTML = width;\n",
       "        progress_status.innerHTML = finish_info;\n",
       "    } \n",
       "\n",
       "\n",
       "\n",
       "</script>"
      ],
      "text/plain": [
       "<IPython.core.display.HTML object>"
      ]
     },
     "metadata": {},
     "output_type": "display_data"
    },
    {
     "data": {
      "text/html": [
       "<script id = 'progressbar_update_script' type=\"text/javascript\">\n",
       "    var id = '0a5c2410-69af-11eb-b552-0242ac120006';\n",
       "    var width = '25.0' + '%';\n",
       "    var finish_info = ''\n",
       "    var bar = document.getElementById(id);\n",
       "    var progress_bar = bar.querySelector('.progress-bar');\n",
       "    var progress_value = bar.querySelector('.progress-value');\n",
       "    var progress_status = bar.querySelector('.progress-status');\n",
       "    var selfscripts = document.querySelector('#progressbar_update_script');\n",
       "    \n",
       "    update()\n",
       "    \n",
       "\n",
       "    \n",
       "    var output = selfscripts.parentElement;\n",
       "    var outputarea_child = output.parentElement;\n",
       "    outputarea_child.style.display = 'none';\n",
       "    var outputarea = outputarea_child.parentElement;\n",
       "    output.removeChild(selfscripts);\n",
       "    // outputarea.removeChild(outputarea_child);\n",
       "\n",
       "    function update(){\n",
       "        progress_bar.style.width = width;\n",
       "        progress_value.innerHTML = width;\n",
       "    }  \n",
       "\n",
       "    function finish(){\n",
       "        progress_bar.style.width = width;\n",
       "        progress_value.innerHTML = width;\n",
       "        progress_status.innerHTML = finish_info;\n",
       "    } \n",
       "\n",
       "\n",
       "\n",
       "</script>"
      ],
      "text/plain": [
       "<IPython.core.display.HTML object>"
      ]
     },
     "metadata": {},
     "output_type": "display_data"
    },
    {
     "name": "stdout",
     "output_type": "stream",
     "text": [
      "Warning: 20201120: 仅含32只股票!\n",
      "Warning: 20201120: 仅含32只股票!\n",
      "Warning: 20201123: 仅含43只股票!\n",
      "Warning: 20201123: 仅含43只股票!\n"
     ]
    },
    {
     "data": {
      "text/html": [
       "<script id = 'progressbar_update_script' type=\"text/javascript\">\n",
       "    var id = '09192166-69af-11eb-90be-0242ac120006';\n",
       "    var width = '32.1' + '%';\n",
       "    var finish_info = ''\n",
       "    var bar = document.getElementById(id);\n",
       "    var progress_bar = bar.querySelector('.progress-bar');\n",
       "    var progress_value = bar.querySelector('.progress-value');\n",
       "    var progress_status = bar.querySelector('.progress-status');\n",
       "    var selfscripts = document.querySelector('#progressbar_update_script');\n",
       "    \n",
       "    update()\n",
       "    \n",
       "\n",
       "    \n",
       "    var output = selfscripts.parentElement;\n",
       "    var outputarea_child = output.parentElement;\n",
       "    outputarea_child.style.display = 'none';\n",
       "    var outputarea = outputarea_child.parentElement;\n",
       "    output.removeChild(selfscripts);\n",
       "    // outputarea.removeChild(outputarea_child);\n",
       "\n",
       "    function update(){\n",
       "        progress_bar.style.width = width;\n",
       "        progress_value.innerHTML = width;\n",
       "    }  \n",
       "\n",
       "    function finish(){\n",
       "        progress_bar.style.width = width;\n",
       "        progress_value.innerHTML = width;\n",
       "        progress_status.innerHTML = finish_info;\n",
       "    } \n",
       "\n",
       "\n",
       "\n",
       "</script>"
      ],
      "text/plain": [
       "<IPython.core.display.HTML object>"
      ]
     },
     "metadata": {},
     "output_type": "display_data"
    },
    {
     "name": "stdout",
     "output_type": "stream",
     "text": [
      "Warning: 20201124: 仅含49只股票!\n"
     ]
    },
    {
     "data": {
      "text/html": [
       "<script id = 'progressbar_update_script' type=\"text/javascript\">\n",
       "    var id = '08f9ee68-69af-11eb-8e63-0242ac120006';\n",
       "    var width = '40.5' + '%';\n",
       "    var finish_info = ''\n",
       "    var bar = document.getElementById(id);\n",
       "    var progress_bar = bar.querySelector('.progress-bar');\n",
       "    var progress_value = bar.querySelector('.progress-value');\n",
       "    var progress_status = bar.querySelector('.progress-status');\n",
       "    var selfscripts = document.querySelector('#progressbar_update_script');\n",
       "    \n",
       "    update()\n",
       "    \n",
       "\n",
       "    \n",
       "    var output = selfscripts.parentElement;\n",
       "    var outputarea_child = output.parentElement;\n",
       "    outputarea_child.style.display = 'none';\n",
       "    var outputarea = outputarea_child.parentElement;\n",
       "    output.removeChild(selfscripts);\n",
       "    // outputarea.removeChild(outputarea_child);\n",
       "\n",
       "    function update(){\n",
       "        progress_bar.style.width = width;\n",
       "        progress_value.innerHTML = width;\n",
       "    }  \n",
       "\n",
       "    function finish(){\n",
       "        progress_bar.style.width = width;\n",
       "        progress_value.innerHTML = width;\n",
       "        progress_status.innerHTML = finish_info;\n",
       "    } \n",
       "\n",
       "\n",
       "\n",
       "</script>"
      ],
      "text/plain": [
       "<IPython.core.display.HTML object>"
      ]
     },
     "metadata": {},
     "output_type": "display_data"
    },
    {
     "name": "stdout",
     "output_type": "stream",
     "text": [
      "Warning: 20201124: 仅含49只股票!\n",
      "Warning: 20201125: 仅含40只股票!\n"
     ]
    },
    {
     "data": {
      "text/html": [
       "<script id = 'progressbar_update_script' type=\"text/javascript\">\n",
       "    var id = '093512b8-69af-11eb-9e9d-0242ac120006';\n",
       "    var width = '34.5' + '%';\n",
       "    var finish_info = ''\n",
       "    var bar = document.getElementById(id);\n",
       "    var progress_bar = bar.querySelector('.progress-bar');\n",
       "    var progress_value = bar.querySelector('.progress-value');\n",
       "    var progress_status = bar.querySelector('.progress-status');\n",
       "    var selfscripts = document.querySelector('#progressbar_update_script');\n",
       "    \n",
       "    update()\n",
       "    \n",
       "\n",
       "    \n",
       "    var output = selfscripts.parentElement;\n",
       "    var outputarea_child = output.parentElement;\n",
       "    outputarea_child.style.display = 'none';\n",
       "    var outputarea = outputarea_child.parentElement;\n",
       "    output.removeChild(selfscripts);\n",
       "    // outputarea.removeChild(outputarea_child);\n",
       "\n",
       "    function update(){\n",
       "        progress_bar.style.width = width;\n",
       "        progress_value.innerHTML = width;\n",
       "    }  \n",
       "\n",
       "    function finish(){\n",
       "        progress_bar.style.width = width;\n",
       "        progress_value.innerHTML = width;\n",
       "        progress_status.innerHTML = finish_info;\n",
       "    } \n",
       "\n",
       "\n",
       "\n",
       "</script>"
      ],
      "text/plain": [
       "<IPython.core.display.HTML object>"
      ]
     },
     "metadata": {},
     "output_type": "display_data"
    },
    {
     "name": "stdout",
     "output_type": "stream",
     "text": [
      "Warning: 20201125: 仅含40只股票!\n"
     ]
    },
    {
     "data": {
      "text/html": [
       "<script id = 'progressbar_update_script' type=\"text/javascript\">\n",
       "    var id = '090cc3e4-69af-11eb-b347-0242ac120006';\n",
       "    var width = '41.7' + '%';\n",
       "    var finish_info = ''\n",
       "    var bar = document.getElementById(id);\n",
       "    var progress_bar = bar.querySelector('.progress-bar');\n",
       "    var progress_value = bar.querySelector('.progress-value');\n",
       "    var progress_status = bar.querySelector('.progress-status');\n",
       "    var selfscripts = document.querySelector('#progressbar_update_script');\n",
       "    \n",
       "    update()\n",
       "    \n",
       "\n",
       "    \n",
       "    var output = selfscripts.parentElement;\n",
       "    var outputarea_child = output.parentElement;\n",
       "    outputarea_child.style.display = 'none';\n",
       "    var outputarea = outputarea_child.parentElement;\n",
       "    output.removeChild(selfscripts);\n",
       "    // outputarea.removeChild(outputarea_child);\n",
       "\n",
       "    function update(){\n",
       "        progress_bar.style.width = width;\n",
       "        progress_value.innerHTML = width;\n",
       "    }  \n",
       "\n",
       "    function finish(){\n",
       "        progress_bar.style.width = width;\n",
       "        progress_value.innerHTML = width;\n",
       "        progress_status.innerHTML = finish_info;\n",
       "    } \n",
       "\n",
       "\n",
       "\n",
       "</script>"
      ],
      "text/plain": [
       "<IPython.core.display.HTML object>"
      ]
     },
     "metadata": {},
     "output_type": "display_data"
    },
    {
     "data": {
      "text/html": [
       "<script id = 'progressbar_update_script' type=\"text/javascript\">\n",
       "    var id = '0a5c2410-69af-11eb-b552-0242ac120006';\n",
       "    var width = '28.6' + '%';\n",
       "    var finish_info = ''\n",
       "    var bar = document.getElementById(id);\n",
       "    var progress_bar = bar.querySelector('.progress-bar');\n",
       "    var progress_value = bar.querySelector('.progress-value');\n",
       "    var progress_status = bar.querySelector('.progress-status');\n",
       "    var selfscripts = document.querySelector('#progressbar_update_script');\n",
       "    \n",
       "    update()\n",
       "    \n",
       "\n",
       "    \n",
       "    var output = selfscripts.parentElement;\n",
       "    var outputarea_child = output.parentElement;\n",
       "    outputarea_child.style.display = 'none';\n",
       "    var outputarea = outputarea_child.parentElement;\n",
       "    output.removeChild(selfscripts);\n",
       "    // outputarea.removeChild(outputarea_child);\n",
       "\n",
       "    function update(){\n",
       "        progress_bar.style.width = width;\n",
       "        progress_value.innerHTML = width;\n",
       "    }  \n",
       "\n",
       "    function finish(){\n",
       "        progress_bar.style.width = width;\n",
       "        progress_value.innerHTML = width;\n",
       "        progress_status.innerHTML = finish_info;\n",
       "    } \n",
       "\n",
       "\n",
       "\n",
       "</script>"
      ],
      "text/plain": [
       "<IPython.core.display.HTML object>"
      ]
     },
     "metadata": {},
     "output_type": "display_data"
    },
    {
     "name": "stdout",
     "output_type": "stream",
     "text": [
      "Warning: 20201126: 仅含38只股票!\n",
      "Warning: 20201126: 仅含38只股票!\n",
      "Warning: 20201127: 仅含31只股票!\n",
      "Warning: 20201127: 仅含31只股票!\n"
     ]
    },
    {
     "data": {
      "text/html": [
       "<script id = 'progressbar_update_script' type=\"text/javascript\">\n",
       "    var id = '09192166-69af-11eb-90be-0242ac120006';\n",
       "    var width = '35.7' + '%';\n",
       "    var finish_info = ''\n",
       "    var bar = document.getElementById(id);\n",
       "    var progress_bar = bar.querySelector('.progress-bar');\n",
       "    var progress_value = bar.querySelector('.progress-value');\n",
       "    var progress_status = bar.querySelector('.progress-status');\n",
       "    var selfscripts = document.querySelector('#progressbar_update_script');\n",
       "    \n",
       "    update()\n",
       "    \n",
       "\n",
       "    \n",
       "    var output = selfscripts.parentElement;\n",
       "    var outputarea_child = output.parentElement;\n",
       "    outputarea_child.style.display = 'none';\n",
       "    var outputarea = outputarea_child.parentElement;\n",
       "    output.removeChild(selfscripts);\n",
       "    // outputarea.removeChild(outputarea_child);\n",
       "\n",
       "    function update(){\n",
       "        progress_bar.style.width = width;\n",
       "        progress_value.innerHTML = width;\n",
       "    }  \n",
       "\n",
       "    function finish(){\n",
       "        progress_bar.style.width = width;\n",
       "        progress_value.innerHTML = width;\n",
       "        progress_status.innerHTML = finish_info;\n",
       "    } \n",
       "\n",
       "\n",
       "\n",
       "</script>"
      ],
      "text/plain": [
       "<IPython.core.display.HTML object>"
      ]
     },
     "metadata": {},
     "output_type": "display_data"
    },
    {
     "name": "stdout",
     "output_type": "stream",
     "text": [
      "Warning: 20201130: 仅含37只股票!\n"
     ]
    },
    {
     "data": {
      "text/html": [
       "<script id = 'progressbar_update_script' type=\"text/javascript\">\n",
       "    var id = '08f9ee68-69af-11eb-8e63-0242ac120006';\n",
       "    var width = '45.2' + '%';\n",
       "    var finish_info = ''\n",
       "    var bar = document.getElementById(id);\n",
       "    var progress_bar = bar.querySelector('.progress-bar');\n",
       "    var progress_value = bar.querySelector('.progress-value');\n",
       "    var progress_status = bar.querySelector('.progress-status');\n",
       "    var selfscripts = document.querySelector('#progressbar_update_script');\n",
       "    \n",
       "    update()\n",
       "    \n",
       "\n",
       "    \n",
       "    var output = selfscripts.parentElement;\n",
       "    var outputarea_child = output.parentElement;\n",
       "    outputarea_child.style.display = 'none';\n",
       "    var outputarea = outputarea_child.parentElement;\n",
       "    output.removeChild(selfscripts);\n",
       "    // outputarea.removeChild(outputarea_child);\n",
       "\n",
       "    function update(){\n",
       "        progress_bar.style.width = width;\n",
       "        progress_value.innerHTML = width;\n",
       "    }  \n",
       "\n",
       "    function finish(){\n",
       "        progress_bar.style.width = width;\n",
       "        progress_value.innerHTML = width;\n",
       "        progress_status.innerHTML = finish_info;\n",
       "    } \n",
       "\n",
       "\n",
       "\n",
       "</script>"
      ],
      "text/plain": [
       "<IPython.core.display.HTML object>"
      ]
     },
     "metadata": {},
     "output_type": "display_data"
    },
    {
     "name": "stdout",
     "output_type": "stream",
     "text": [
      "Warning: 20201130: 仅含37只股票!\n"
     ]
    },
    {
     "data": {
      "text/html": [
       "<script id = 'progressbar_update_script' type=\"text/javascript\">\n",
       "    var id = '093512b8-69af-11eb-9e9d-0242ac120006';\n",
       "    var width = '38.1' + '%';\n",
       "    var finish_info = ''\n",
       "    var bar = document.getElementById(id);\n",
       "    var progress_bar = bar.querySelector('.progress-bar');\n",
       "    var progress_value = bar.querySelector('.progress-value');\n",
       "    var progress_status = bar.querySelector('.progress-status');\n",
       "    var selfscripts = document.querySelector('#progressbar_update_script');\n",
       "    \n",
       "    update()\n",
       "    \n",
       "\n",
       "    \n",
       "    var output = selfscripts.parentElement;\n",
       "    var outputarea_child = output.parentElement;\n",
       "    outputarea_child.style.display = 'none';\n",
       "    var outputarea = outputarea_child.parentElement;\n",
       "    output.removeChild(selfscripts);\n",
       "    // outputarea.removeChild(outputarea_child);\n",
       "\n",
       "    function update(){\n",
       "        progress_bar.style.width = width;\n",
       "        progress_value.innerHTML = width;\n",
       "    }  \n",
       "\n",
       "    function finish(){\n",
       "        progress_bar.style.width = width;\n",
       "        progress_value.innerHTML = width;\n",
       "        progress_status.innerHTML = finish_info;\n",
       "    } \n",
       "\n",
       "\n",
       "\n",
       "</script>"
      ],
      "text/plain": [
       "<IPython.core.display.HTML object>"
      ]
     },
     "metadata": {},
     "output_type": "display_data"
    },
    {
     "data": {
      "text/html": [
       "<script id = 'progressbar_update_script' type=\"text/javascript\">\n",
       "    var id = '0a5c2410-69af-11eb-b552-0242ac120006';\n",
       "    var width = '32.1' + '%';\n",
       "    var finish_info = ''\n",
       "    var bar = document.getElementById(id);\n",
       "    var progress_bar = bar.querySelector('.progress-bar');\n",
       "    var progress_value = bar.querySelector('.progress-value');\n",
       "    var progress_status = bar.querySelector('.progress-status');\n",
       "    var selfscripts = document.querySelector('#progressbar_update_script');\n",
       "    \n",
       "    update()\n",
       "    \n",
       "\n",
       "    \n",
       "    var output = selfscripts.parentElement;\n",
       "    var outputarea_child = output.parentElement;\n",
       "    outputarea_child.style.display = 'none';\n",
       "    var outputarea = outputarea_child.parentElement;\n",
       "    output.removeChild(selfscripts);\n",
       "    // outputarea.removeChild(outputarea_child);\n",
       "\n",
       "    function update(){\n",
       "        progress_bar.style.width = width;\n",
       "        progress_value.innerHTML = width;\n",
       "    }  \n",
       "\n",
       "    function finish(){\n",
       "        progress_bar.style.width = width;\n",
       "        progress_value.innerHTML = width;\n",
       "        progress_status.innerHTML = finish_info;\n",
       "    } \n",
       "\n",
       "\n",
       "\n",
       "</script>"
      ],
      "text/plain": [
       "<IPython.core.display.HTML object>"
      ]
     },
     "metadata": {},
     "output_type": "display_data"
    },
    {
     "name": "stdout",
     "output_type": "stream",
     "text": [
      "Warning: 20201201: 仅含44只股票!\n",
      "Warning: 20201201: 仅含44只股票!\n"
     ]
    },
    {
     "data": {
      "text/html": [
       "<script id = 'progressbar_update_script' type=\"text/javascript\">\n",
       "    var id = '090cc3e4-69af-11eb-b347-0242ac120006';\n",
       "    var width = '46.4' + '%';\n",
       "    var finish_info = ''\n",
       "    var bar = document.getElementById(id);\n",
       "    var progress_bar = bar.querySelector('.progress-bar');\n",
       "    var progress_value = bar.querySelector('.progress-value');\n",
       "    var progress_status = bar.querySelector('.progress-status');\n",
       "    var selfscripts = document.querySelector('#progressbar_update_script');\n",
       "    \n",
       "    update()\n",
       "    \n",
       "\n",
       "    \n",
       "    var output = selfscripts.parentElement;\n",
       "    var outputarea_child = output.parentElement;\n",
       "    outputarea_child.style.display = 'none';\n",
       "    var outputarea = outputarea_child.parentElement;\n",
       "    output.removeChild(selfscripts);\n",
       "    // outputarea.removeChild(outputarea_child);\n",
       "\n",
       "    function update(){\n",
       "        progress_bar.style.width = width;\n",
       "        progress_value.innerHTML = width;\n",
       "    }  \n",
       "\n",
       "    function finish(){\n",
       "        progress_bar.style.width = width;\n",
       "        progress_value.innerHTML = width;\n",
       "        progress_status.innerHTML = finish_info;\n",
       "    } \n",
       "\n",
       "\n",
       "\n",
       "</script>"
      ],
      "text/plain": [
       "<IPython.core.display.HTML object>"
      ]
     },
     "metadata": {},
     "output_type": "display_data"
    },
    {
     "name": "stdout",
     "output_type": "stream",
     "text": [
      "Warning: 20201202: 仅含30只股票!\n",
      "Warning: 20201202: 仅含30只股票!\n",
      "Warning: 20201203: 仅含54只股票!\n"
     ]
    },
    {
     "data": {
      "text/html": [
       "<script id = 'progressbar_update_script' type=\"text/javascript\">\n",
       "    var id = '08f9ee68-69af-11eb-8e63-0242ac120006';\n",
       "    var width = '48.8' + '%';\n",
       "    var finish_info = ''\n",
       "    var bar = document.getElementById(id);\n",
       "    var progress_bar = bar.querySelector('.progress-bar');\n",
       "    var progress_value = bar.querySelector('.progress-value');\n",
       "    var progress_status = bar.querySelector('.progress-status');\n",
       "    var selfscripts = document.querySelector('#progressbar_update_script');\n",
       "    \n",
       "    update()\n",
       "    \n",
       "\n",
       "    \n",
       "    var output = selfscripts.parentElement;\n",
       "    var outputarea_child = output.parentElement;\n",
       "    outputarea_child.style.display = 'none';\n",
       "    var outputarea = outputarea_child.parentElement;\n",
       "    output.removeChild(selfscripts);\n",
       "    // outputarea.removeChild(outputarea_child);\n",
       "\n",
       "    function update(){\n",
       "        progress_bar.style.width = width;\n",
       "        progress_value.innerHTML = width;\n",
       "    }  \n",
       "\n",
       "    function finish(){\n",
       "        progress_bar.style.width = width;\n",
       "        progress_value.innerHTML = width;\n",
       "        progress_status.innerHTML = finish_info;\n",
       "    } \n",
       "\n",
       "\n",
       "\n",
       "</script>"
      ],
      "text/plain": [
       "<IPython.core.display.HTML object>"
      ]
     },
     "metadata": {},
     "output_type": "display_data"
    },
    {
     "name": "stdout",
     "output_type": "stream",
     "text": [
      "Warning: 20201203: 仅含54只股票!\n"
     ]
    },
    {
     "data": {
      "text/html": [
       "<script id = 'progressbar_update_script' type=\"text/javascript\">\n",
       "    var id = '09192166-69af-11eb-90be-0242ac120006';\n",
       "    var width = '39.3' + '%';\n",
       "    var finish_info = ''\n",
       "    var bar = document.getElementById(id);\n",
       "    var progress_bar = bar.querySelector('.progress-bar');\n",
       "    var progress_value = bar.querySelector('.progress-value');\n",
       "    var progress_status = bar.querySelector('.progress-status');\n",
       "    var selfscripts = document.querySelector('#progressbar_update_script');\n",
       "    \n",
       "    update()\n",
       "    \n",
       "\n",
       "    \n",
       "    var output = selfscripts.parentElement;\n",
       "    var outputarea_child = output.parentElement;\n",
       "    outputarea_child.style.display = 'none';\n",
       "    var outputarea = outputarea_child.parentElement;\n",
       "    output.removeChild(selfscripts);\n",
       "    // outputarea.removeChild(outputarea_child);\n",
       "\n",
       "    function update(){\n",
       "        progress_bar.style.width = width;\n",
       "        progress_value.innerHTML = width;\n",
       "    }  \n",
       "\n",
       "    function finish(){\n",
       "        progress_bar.style.width = width;\n",
       "        progress_value.innerHTML = width;\n",
       "        progress_status.innerHTML = finish_info;\n",
       "    } \n",
       "\n",
       "\n",
       "\n",
       "</script>"
      ],
      "text/plain": [
       "<IPython.core.display.HTML object>"
      ]
     },
     "metadata": {},
     "output_type": "display_data"
    },
    {
     "name": "stdout",
     "output_type": "stream",
     "text": [
      "Warning: 20201204: 仅含58只股票!\n",
      "Warning: 20201204: 仅含58只股票!\n"
     ]
    },
    {
     "data": {
      "text/html": [
       "<script id = 'progressbar_update_script' type=\"text/javascript\">\n",
       "    var id = '0a5c2410-69af-11eb-b552-0242ac120006';\n",
       "    var width = '35.7' + '%';\n",
       "    var finish_info = ''\n",
       "    var bar = document.getElementById(id);\n",
       "    var progress_bar = bar.querySelector('.progress-bar');\n",
       "    var progress_value = bar.querySelector('.progress-value');\n",
       "    var progress_status = bar.querySelector('.progress-status');\n",
       "    var selfscripts = document.querySelector('#progressbar_update_script');\n",
       "    \n",
       "    update()\n",
       "    \n",
       "\n",
       "    \n",
       "    var output = selfscripts.parentElement;\n",
       "    var outputarea_child = output.parentElement;\n",
       "    outputarea_child.style.display = 'none';\n",
       "    var outputarea = outputarea_child.parentElement;\n",
       "    output.removeChild(selfscripts);\n",
       "    // outputarea.removeChild(outputarea_child);\n",
       "\n",
       "    function update(){\n",
       "        progress_bar.style.width = width;\n",
       "        progress_value.innerHTML = width;\n",
       "    }  \n",
       "\n",
       "    function finish(){\n",
       "        progress_bar.style.width = width;\n",
       "        progress_value.innerHTML = width;\n",
       "        progress_status.innerHTML = finish_info;\n",
       "    } \n",
       "\n",
       "\n",
       "\n",
       "</script>"
      ],
      "text/plain": [
       "<IPython.core.display.HTML object>"
      ]
     },
     "metadata": {},
     "output_type": "display_data"
    },
    {
     "data": {
      "text/html": [
       "<script id = 'progressbar_update_script' type=\"text/javascript\">\n",
       "    var id = '093512b8-69af-11eb-9e9d-0242ac120006';\n",
       "    var width = '41.7' + '%';\n",
       "    var finish_info = ''\n",
       "    var bar = document.getElementById(id);\n",
       "    var progress_bar = bar.querySelector('.progress-bar');\n",
       "    var progress_value = bar.querySelector('.progress-value');\n",
       "    var progress_status = bar.querySelector('.progress-status');\n",
       "    var selfscripts = document.querySelector('#progressbar_update_script');\n",
       "    \n",
       "    update()\n",
       "    \n",
       "\n",
       "    \n",
       "    var output = selfscripts.parentElement;\n",
       "    var outputarea_child = output.parentElement;\n",
       "    outputarea_child.style.display = 'none';\n",
       "    var outputarea = outputarea_child.parentElement;\n",
       "    output.removeChild(selfscripts);\n",
       "    // outputarea.removeChild(outputarea_child);\n",
       "\n",
       "    function update(){\n",
       "        progress_bar.style.width = width;\n",
       "        progress_value.innerHTML = width;\n",
       "    }  \n",
       "\n",
       "    function finish(){\n",
       "        progress_bar.style.width = width;\n",
       "        progress_value.innerHTML = width;\n",
       "        progress_status.innerHTML = finish_info;\n",
       "    } \n",
       "\n",
       "\n",
       "\n",
       "</script>"
      ],
      "text/plain": [
       "<IPython.core.display.HTML object>"
      ]
     },
     "metadata": {},
     "output_type": "display_data"
    },
    {
     "name": "stdout",
     "output_type": "stream",
     "text": [
      "Warning: 20201207: 仅含49只股票!\n"
     ]
    },
    {
     "data": {
      "text/html": [
       "<script id = 'progressbar_update_script' type=\"text/javascript\">\n",
       "    var id = '090cc3e4-69af-11eb-b347-0242ac120006';\n",
       "    var width = '51.2' + '%';\n",
       "    var finish_info = ''\n",
       "    var bar = document.getElementById(id);\n",
       "    var progress_bar = bar.querySelector('.progress-bar');\n",
       "    var progress_value = bar.querySelector('.progress-value');\n",
       "    var progress_status = bar.querySelector('.progress-status');\n",
       "    var selfscripts = document.querySelector('#progressbar_update_script');\n",
       "    \n",
       "    update()\n",
       "    \n",
       "\n",
       "    \n",
       "    var output = selfscripts.parentElement;\n",
       "    var outputarea_child = output.parentElement;\n",
       "    outputarea_child.style.display = 'none';\n",
       "    var outputarea = outputarea_child.parentElement;\n",
       "    output.removeChild(selfscripts);\n",
       "    // outputarea.removeChild(outputarea_child);\n",
       "\n",
       "    function update(){\n",
       "        progress_bar.style.width = width;\n",
       "        progress_value.innerHTML = width;\n",
       "    }  \n",
       "\n",
       "    function finish(){\n",
       "        progress_bar.style.width = width;\n",
       "        progress_value.innerHTML = width;\n",
       "        progress_status.innerHTML = finish_info;\n",
       "    } \n",
       "\n",
       "\n",
       "\n",
       "</script>"
      ],
      "text/plain": [
       "<IPython.core.display.HTML object>"
      ]
     },
     "metadata": {},
     "output_type": "display_data"
    },
    {
     "name": "stdout",
     "output_type": "stream",
     "text": [
      "Warning: 20201207: 仅含49只股票!\n",
      "Warning: 20201208: 仅含29只股票!\n",
      "Warning: 20201208: 仅含29只股票!\n"
     ]
    },
    {
     "data": {
      "text/html": [
       "<script id = 'progressbar_update_script' type=\"text/javascript\">\n",
       "    var id = '08f9ee68-69af-11eb-8e63-0242ac120006';\n",
       "    var width = '52.4' + '%';\n",
       "    var finish_info = ''\n",
       "    var bar = document.getElementById(id);\n",
       "    var progress_bar = bar.querySelector('.progress-bar');\n",
       "    var progress_value = bar.querySelector('.progress-value');\n",
       "    var progress_status = bar.querySelector('.progress-status');\n",
       "    var selfscripts = document.querySelector('#progressbar_update_script');\n",
       "    \n",
       "    update()\n",
       "    \n",
       "\n",
       "    \n",
       "    var output = selfscripts.parentElement;\n",
       "    var outputarea_child = output.parentElement;\n",
       "    outputarea_child.style.display = 'none';\n",
       "    var outputarea = outputarea_child.parentElement;\n",
       "    output.removeChild(selfscripts);\n",
       "    // outputarea.removeChild(outputarea_child);\n",
       "\n",
       "    function update(){\n",
       "        progress_bar.style.width = width;\n",
       "        progress_value.innerHTML = width;\n",
       "    }  \n",
       "\n",
       "    function finish(){\n",
       "        progress_bar.style.width = width;\n",
       "        progress_value.innerHTML = width;\n",
       "        progress_status.innerHTML = finish_info;\n",
       "    } \n",
       "\n",
       "\n",
       "\n",
       "</script>"
      ],
      "text/plain": [
       "<IPython.core.display.HTML object>"
      ]
     },
     "metadata": {},
     "output_type": "display_data"
    },
    {
     "data": {
      "text/html": [
       "<script id = 'progressbar_update_script' type=\"text/javascript\">\n",
       "    var id = '09192166-69af-11eb-90be-0242ac120006';\n",
       "    var width = '42.9' + '%';\n",
       "    var finish_info = ''\n",
       "    var bar = document.getElementById(id);\n",
       "    var progress_bar = bar.querySelector('.progress-bar');\n",
       "    var progress_value = bar.querySelector('.progress-value');\n",
       "    var progress_status = bar.querySelector('.progress-status');\n",
       "    var selfscripts = document.querySelector('#progressbar_update_script');\n",
       "    \n",
       "    update()\n",
       "    \n",
       "\n",
       "    \n",
       "    var output = selfscripts.parentElement;\n",
       "    var outputarea_child = output.parentElement;\n",
       "    outputarea_child.style.display = 'none';\n",
       "    var outputarea = outputarea_child.parentElement;\n",
       "    output.removeChild(selfscripts);\n",
       "    // outputarea.removeChild(outputarea_child);\n",
       "\n",
       "    function update(){\n",
       "        progress_bar.style.width = width;\n",
       "        progress_value.innerHTML = width;\n",
       "    }  \n",
       "\n",
       "    function finish(){\n",
       "        progress_bar.style.width = width;\n",
       "        progress_value.innerHTML = width;\n",
       "        progress_status.innerHTML = finish_info;\n",
       "    } \n",
       "\n",
       "\n",
       "\n",
       "</script>"
      ],
      "text/plain": [
       "<IPython.core.display.HTML object>"
      ]
     },
     "metadata": {},
     "output_type": "display_data"
    },
    {
     "name": "stdout",
     "output_type": "stream",
     "text": [
      "Warning: 20201209: 仅含11只股票!\n",
      "Warning: 20201209: 仅含11只股票!\n"
     ]
    },
    {
     "data": {
      "text/html": [
       "<script id = 'progressbar_update_script' type=\"text/javascript\">\n",
       "    var id = '0a5c2410-69af-11eb-b552-0242ac120006';\n",
       "    var width = '39.3' + '%';\n",
       "    var finish_info = ''\n",
       "    var bar = document.getElementById(id);\n",
       "    var progress_bar = bar.querySelector('.progress-bar');\n",
       "    var progress_value = bar.querySelector('.progress-value');\n",
       "    var progress_status = bar.querySelector('.progress-status');\n",
       "    var selfscripts = document.querySelector('#progressbar_update_script');\n",
       "    \n",
       "    update()\n",
       "    \n",
       "\n",
       "    \n",
       "    var output = selfscripts.parentElement;\n",
       "    var outputarea_child = output.parentElement;\n",
       "    outputarea_child.style.display = 'none';\n",
       "    var outputarea = outputarea_child.parentElement;\n",
       "    output.removeChild(selfscripts);\n",
       "    // outputarea.removeChild(outputarea_child);\n",
       "\n",
       "    function update(){\n",
       "        progress_bar.style.width = width;\n",
       "        progress_value.innerHTML = width;\n",
       "    }  \n",
       "\n",
       "    function finish(){\n",
       "        progress_bar.style.width = width;\n",
       "        progress_value.innerHTML = width;\n",
       "        progress_status.innerHTML = finish_info;\n",
       "    } \n",
       "\n",
       "\n",
       "\n",
       "</script>"
      ],
      "text/plain": [
       "<IPython.core.display.HTML object>"
      ]
     },
     "metadata": {},
     "output_type": "display_data"
    },
    {
     "data": {
      "text/html": [
       "<script id = 'progressbar_update_script' type=\"text/javascript\">\n",
       "    var id = '093512b8-69af-11eb-9e9d-0242ac120006';\n",
       "    var width = '45.2' + '%';\n",
       "    var finish_info = ''\n",
       "    var bar = document.getElementById(id);\n",
       "    var progress_bar = bar.querySelector('.progress-bar');\n",
       "    var progress_value = bar.querySelector('.progress-value');\n",
       "    var progress_status = bar.querySelector('.progress-status');\n",
       "    var selfscripts = document.querySelector('#progressbar_update_script');\n",
       "    \n",
       "    update()\n",
       "    \n",
       "\n",
       "    \n",
       "    var output = selfscripts.parentElement;\n",
       "    var outputarea_child = output.parentElement;\n",
       "    outputarea_child.style.display = 'none';\n",
       "    var outputarea = outputarea_child.parentElement;\n",
       "    output.removeChild(selfscripts);\n",
       "    // outputarea.removeChild(outputarea_child);\n",
       "\n",
       "    function update(){\n",
       "        progress_bar.style.width = width;\n",
       "        progress_value.innerHTML = width;\n",
       "    }  \n",
       "\n",
       "    function finish(){\n",
       "        progress_bar.style.width = width;\n",
       "        progress_value.innerHTML = width;\n",
       "        progress_status.innerHTML = finish_info;\n",
       "    } \n",
       "\n",
       "\n",
       "\n",
       "</script>"
      ],
      "text/plain": [
       "<IPython.core.display.HTML object>"
      ]
     },
     "metadata": {},
     "output_type": "display_data"
    },
    {
     "name": "stdout",
     "output_type": "stream",
     "text": [
      "Warning: 20201210: 仅含11只股票!\n",
      "Warning: 20201210: 仅含11只股票!\n"
     ]
    },
    {
     "data": {
      "text/html": [
       "<script id = 'progressbar_update_script' type=\"text/javascript\">\n",
       "    var id = '090cc3e4-69af-11eb-b347-0242ac120006';\n",
       "    var width = '54.8' + '%';\n",
       "    var finish_info = ''\n",
       "    var bar = document.getElementById(id);\n",
       "    var progress_bar = bar.querySelector('.progress-bar');\n",
       "    var progress_value = bar.querySelector('.progress-value');\n",
       "    var progress_status = bar.querySelector('.progress-status');\n",
       "    var selfscripts = document.querySelector('#progressbar_update_script');\n",
       "    \n",
       "    update()\n",
       "    \n",
       "\n",
       "    \n",
       "    var output = selfscripts.parentElement;\n",
       "    var outputarea_child = output.parentElement;\n",
       "    outputarea_child.style.display = 'none';\n",
       "    var outputarea = outputarea_child.parentElement;\n",
       "    output.removeChild(selfscripts);\n",
       "    // outputarea.removeChild(outputarea_child);\n",
       "\n",
       "    function update(){\n",
       "        progress_bar.style.width = width;\n",
       "        progress_value.innerHTML = width;\n",
       "    }  \n",
       "\n",
       "    function finish(){\n",
       "        progress_bar.style.width = width;\n",
       "        progress_value.innerHTML = width;\n",
       "        progress_status.innerHTML = finish_info;\n",
       "    } \n",
       "\n",
       "\n",
       "\n",
       "</script>"
      ],
      "text/plain": [
       "<IPython.core.display.HTML object>"
      ]
     },
     "metadata": {},
     "output_type": "display_data"
    },
    {
     "name": "stdout",
     "output_type": "stream",
     "text": [
      "Warning: 20201211: 仅含4只股票!\n"
     ]
    },
    {
     "data": {
      "text/html": [
       "<script id = 'progressbar_update_script' type=\"text/javascript\">\n",
       "    var id = '08f9ee68-69af-11eb-8e63-0242ac120006';\n",
       "    var width = '56.0' + '%';\n",
       "    var finish_info = ''\n",
       "    var bar = document.getElementById(id);\n",
       "    var progress_bar = bar.querySelector('.progress-bar');\n",
       "    var progress_value = bar.querySelector('.progress-value');\n",
       "    var progress_status = bar.querySelector('.progress-status');\n",
       "    var selfscripts = document.querySelector('#progressbar_update_script');\n",
       "    \n",
       "    update()\n",
       "    \n",
       "\n",
       "    \n",
       "    var output = selfscripts.parentElement;\n",
       "    var outputarea_child = output.parentElement;\n",
       "    outputarea_child.style.display = 'none';\n",
       "    var outputarea = outputarea_child.parentElement;\n",
       "    output.removeChild(selfscripts);\n",
       "    // outputarea.removeChild(outputarea_child);\n",
       "\n",
       "    function update(){\n",
       "        progress_bar.style.width = width;\n",
       "        progress_value.innerHTML = width;\n",
       "    }  \n",
       "\n",
       "    function finish(){\n",
       "        progress_bar.style.width = width;\n",
       "        progress_value.innerHTML = width;\n",
       "        progress_status.innerHTML = finish_info;\n",
       "    } \n",
       "\n",
       "\n",
       "\n",
       "</script>"
      ],
      "text/plain": [
       "<IPython.core.display.HTML object>"
      ]
     },
     "metadata": {},
     "output_type": "display_data"
    },
    {
     "name": "stdout",
     "output_type": "stream",
     "text": [
      "Warning: 20201211: 仅含4只股票!\n"
     ]
    },
    {
     "data": {
      "text/html": [
       "<script id = 'progressbar_update_script' type=\"text/javascript\">\n",
       "    var id = '09192166-69af-11eb-90be-0242ac120006';\n",
       "    var width = '46.4' + '%';\n",
       "    var finish_info = ''\n",
       "    var bar = document.getElementById(id);\n",
       "    var progress_bar = bar.querySelector('.progress-bar');\n",
       "    var progress_value = bar.querySelector('.progress-value');\n",
       "    var progress_status = bar.querySelector('.progress-status');\n",
       "    var selfscripts = document.querySelector('#progressbar_update_script');\n",
       "    \n",
       "    update()\n",
       "    \n",
       "\n",
       "    \n",
       "    var output = selfscripts.parentElement;\n",
       "    var outputarea_child = output.parentElement;\n",
       "    outputarea_child.style.display = 'none';\n",
       "    var outputarea = outputarea_child.parentElement;\n",
       "    output.removeChild(selfscripts);\n",
       "    // outputarea.removeChild(outputarea_child);\n",
       "\n",
       "    function update(){\n",
       "        progress_bar.style.width = width;\n",
       "        progress_value.innerHTML = width;\n",
       "    }  \n",
       "\n",
       "    function finish(){\n",
       "        progress_bar.style.width = width;\n",
       "        progress_value.innerHTML = width;\n",
       "        progress_status.innerHTML = finish_info;\n",
       "    } \n",
       "\n",
       "\n",
       "\n",
       "</script>"
      ],
      "text/plain": [
       "<IPython.core.display.HTML object>"
      ]
     },
     "metadata": {},
     "output_type": "display_data"
    },
    {
     "name": "stdout",
     "output_type": "stream",
     "text": [
      "Warning: 20201214: 仅含14只股票!\n",
      "Warning: 20201214: 仅含14只股票!\n"
     ]
    },
    {
     "data": {
      "text/html": [
       "<script id = 'progressbar_update_script' type=\"text/javascript\">\n",
       "    var id = '0a5c2410-69af-11eb-b552-0242ac120006';\n",
       "    var width = '42.9' + '%';\n",
       "    var finish_info = ''\n",
       "    var bar = document.getElementById(id);\n",
       "    var progress_bar = bar.querySelector('.progress-bar');\n",
       "    var progress_value = bar.querySelector('.progress-value');\n",
       "    var progress_status = bar.querySelector('.progress-status');\n",
       "    var selfscripts = document.querySelector('#progressbar_update_script');\n",
       "    \n",
       "    update()\n",
       "    \n",
       "\n",
       "    \n",
       "    var output = selfscripts.parentElement;\n",
       "    var outputarea_child = output.parentElement;\n",
       "    outputarea_child.style.display = 'none';\n",
       "    var outputarea = outputarea_child.parentElement;\n",
       "    output.removeChild(selfscripts);\n",
       "    // outputarea.removeChild(outputarea_child);\n",
       "\n",
       "    function update(){\n",
       "        progress_bar.style.width = width;\n",
       "        progress_value.innerHTML = width;\n",
       "    }  \n",
       "\n",
       "    function finish(){\n",
       "        progress_bar.style.width = width;\n",
       "        progress_value.innerHTML = width;\n",
       "        progress_status.innerHTML = finish_info;\n",
       "    } \n",
       "\n",
       "\n",
       "\n",
       "</script>"
      ],
      "text/plain": [
       "<IPython.core.display.HTML object>"
      ]
     },
     "metadata": {},
     "output_type": "display_data"
    },
    {
     "name": "stdout",
     "output_type": "stream",
     "text": [
      "Warning: 20201215: 仅含11只股票!\n",
      "Warning: 20201215: 仅含11只股票!\n"
     ]
    },
    {
     "data": {
      "text/html": [
       "<script id = 'progressbar_update_script' type=\"text/javascript\">\n",
       "    var id = '090cc3e4-69af-11eb-b347-0242ac120006';\n",
       "    var width = '58.3' + '%';\n",
       "    var finish_info = ''\n",
       "    var bar = document.getElementById(id);\n",
       "    var progress_bar = bar.querySelector('.progress-bar');\n",
       "    var progress_value = bar.querySelector('.progress-value');\n",
       "    var progress_status = bar.querySelector('.progress-status');\n",
       "    var selfscripts = document.querySelector('#progressbar_update_script');\n",
       "    \n",
       "    update()\n",
       "    \n",
       "\n",
       "    \n",
       "    var output = selfscripts.parentElement;\n",
       "    var outputarea_child = output.parentElement;\n",
       "    outputarea_child.style.display = 'none';\n",
       "    var outputarea = outputarea_child.parentElement;\n",
       "    output.removeChild(selfscripts);\n",
       "    // outputarea.removeChild(outputarea_child);\n",
       "\n",
       "    function update(){\n",
       "        progress_bar.style.width = width;\n",
       "        progress_value.innerHTML = width;\n",
       "    }  \n",
       "\n",
       "    function finish(){\n",
       "        progress_bar.style.width = width;\n",
       "        progress_value.innerHTML = width;\n",
       "        progress_status.innerHTML = finish_info;\n",
       "    } \n",
       "\n",
       "\n",
       "\n",
       "</script>"
      ],
      "text/plain": [
       "<IPython.core.display.HTML object>"
      ]
     },
     "metadata": {},
     "output_type": "display_data"
    },
    {
     "data": {
      "text/html": [
       "<script id = 'progressbar_update_script' type=\"text/javascript\">\n",
       "    var id = '093512b8-69af-11eb-9e9d-0242ac120006';\n",
       "    var width = '48.8' + '%';\n",
       "    var finish_info = ''\n",
       "    var bar = document.getElementById(id);\n",
       "    var progress_bar = bar.querySelector('.progress-bar');\n",
       "    var progress_value = bar.querySelector('.progress-value');\n",
       "    var progress_status = bar.querySelector('.progress-status');\n",
       "    var selfscripts = document.querySelector('#progressbar_update_script');\n",
       "    \n",
       "    update()\n",
       "    \n",
       "\n",
       "    \n",
       "    var output = selfscripts.parentElement;\n",
       "    var outputarea_child = output.parentElement;\n",
       "    outputarea_child.style.display = 'none';\n",
       "    var outputarea = outputarea_child.parentElement;\n",
       "    output.removeChild(selfscripts);\n",
       "    // outputarea.removeChild(outputarea_child);\n",
       "\n",
       "    function update(){\n",
       "        progress_bar.style.width = width;\n",
       "        progress_value.innerHTML = width;\n",
       "    }  \n",
       "\n",
       "    function finish(){\n",
       "        progress_bar.style.width = width;\n",
       "        progress_value.innerHTML = width;\n",
       "        progress_status.innerHTML = finish_info;\n",
       "    } \n",
       "\n",
       "\n",
       "\n",
       "</script>"
      ],
      "text/plain": [
       "<IPython.core.display.HTML object>"
      ]
     },
     "metadata": {},
     "output_type": "display_data"
    },
    {
     "name": "stdout",
     "output_type": "stream",
     "text": [
      "Warning: 20201216: 仅含9只股票!\n"
     ]
    },
    {
     "data": {
      "text/html": [
       "<script id = 'progressbar_update_script' type=\"text/javascript\">\n",
       "    var id = '08f9ee68-69af-11eb-8e63-0242ac120006';\n",
       "    var width = '59.5' + '%';\n",
       "    var finish_info = ''\n",
       "    var bar = document.getElementById(id);\n",
       "    var progress_bar = bar.querySelector('.progress-bar');\n",
       "    var progress_value = bar.querySelector('.progress-value');\n",
       "    var progress_status = bar.querySelector('.progress-status');\n",
       "    var selfscripts = document.querySelector('#progressbar_update_script');\n",
       "    \n",
       "    update()\n",
       "    \n",
       "\n",
       "    \n",
       "    var output = selfscripts.parentElement;\n",
       "    var outputarea_child = output.parentElement;\n",
       "    outputarea_child.style.display = 'none';\n",
       "    var outputarea = outputarea_child.parentElement;\n",
       "    output.removeChild(selfscripts);\n",
       "    // outputarea.removeChild(outputarea_child);\n",
       "\n",
       "    function update(){\n",
       "        progress_bar.style.width = width;\n",
       "        progress_value.innerHTML = width;\n",
       "    }  \n",
       "\n",
       "    function finish(){\n",
       "        progress_bar.style.width = width;\n",
       "        progress_value.innerHTML = width;\n",
       "        progress_status.innerHTML = finish_info;\n",
       "    } \n",
       "\n",
       "\n",
       "\n",
       "</script>"
      ],
      "text/plain": [
       "<IPython.core.display.HTML object>"
      ]
     },
     "metadata": {},
     "output_type": "display_data"
    },
    {
     "name": "stdout",
     "output_type": "stream",
     "text": [
      "Warning: 20201216: 仅含9只股票!\n",
      "Warning: 20201217: 仅含23只股票!\n",
      "Warning: 20201217: 仅含23只股票!\n"
     ]
    },
    {
     "data": {
      "text/html": [
       "<script id = 'progressbar_update_script' type=\"text/javascript\">\n",
       "    var id = '09192166-69af-11eb-90be-0242ac120006';\n",
       "    var width = '50.0' + '%';\n",
       "    var finish_info = ''\n",
       "    var bar = document.getElementById(id);\n",
       "    var progress_bar = bar.querySelector('.progress-bar');\n",
       "    var progress_value = bar.querySelector('.progress-value');\n",
       "    var progress_status = bar.querySelector('.progress-status');\n",
       "    var selfscripts = document.querySelector('#progressbar_update_script');\n",
       "    \n",
       "    update()\n",
       "    \n",
       "\n",
       "    \n",
       "    var output = selfscripts.parentElement;\n",
       "    var outputarea_child = output.parentElement;\n",
       "    outputarea_child.style.display = 'none';\n",
       "    var outputarea = outputarea_child.parentElement;\n",
       "    output.removeChild(selfscripts);\n",
       "    // outputarea.removeChild(outputarea_child);\n",
       "\n",
       "    function update(){\n",
       "        progress_bar.style.width = width;\n",
       "        progress_value.innerHTML = width;\n",
       "    }  \n",
       "\n",
       "    function finish(){\n",
       "        progress_bar.style.width = width;\n",
       "        progress_value.innerHTML = width;\n",
       "        progress_status.innerHTML = finish_info;\n",
       "    } \n",
       "\n",
       "\n",
       "\n",
       "</script>"
      ],
      "text/plain": [
       "<IPython.core.display.HTML object>"
      ]
     },
     "metadata": {},
     "output_type": "display_data"
    },
    {
     "name": "stdout",
     "output_type": "stream",
     "text": [
      "Warning: 20201218: 仅含35只股票!\n"
     ]
    },
    {
     "data": {
      "text/html": [
       "<script id = 'progressbar_update_script' type=\"text/javascript\">\n",
       "    var id = '090cc3e4-69af-11eb-b347-0242ac120006';\n",
       "    var width = '61.9' + '%';\n",
       "    var finish_info = ''\n",
       "    var bar = document.getElementById(id);\n",
       "    var progress_bar = bar.querySelector('.progress-bar');\n",
       "    var progress_value = bar.querySelector('.progress-value');\n",
       "    var progress_status = bar.querySelector('.progress-status');\n",
       "    var selfscripts = document.querySelector('#progressbar_update_script');\n",
       "    \n",
       "    update()\n",
       "    \n",
       "\n",
       "    \n",
       "    var output = selfscripts.parentElement;\n",
       "    var outputarea_child = output.parentElement;\n",
       "    outputarea_child.style.display = 'none';\n",
       "    var outputarea = outputarea_child.parentElement;\n",
       "    output.removeChild(selfscripts);\n",
       "    // outputarea.removeChild(outputarea_child);\n",
       "\n",
       "    function update(){\n",
       "        progress_bar.style.width = width;\n",
       "        progress_value.innerHTML = width;\n",
       "    }  \n",
       "\n",
       "    function finish(){\n",
       "        progress_bar.style.width = width;\n",
       "        progress_value.innerHTML = width;\n",
       "        progress_status.innerHTML = finish_info;\n",
       "    } \n",
       "\n",
       "\n",
       "\n",
       "</script>"
      ],
      "text/plain": [
       "<IPython.core.display.HTML object>"
      ]
     },
     "metadata": {},
     "output_type": "display_data"
    },
    {
     "name": "stdout",
     "output_type": "stream",
     "text": [
      "Warning: 20201218: 仅含35只股票!\n"
     ]
    },
    {
     "data": {
      "text/html": [
       "<script id = 'progressbar_update_script' type=\"text/javascript\">\n",
       "    var id = '0a5c2410-69af-11eb-b552-0242ac120006';\n",
       "    var width = '46.4' + '%';\n",
       "    var finish_info = ''\n",
       "    var bar = document.getElementById(id);\n",
       "    var progress_bar = bar.querySelector('.progress-bar');\n",
       "    var progress_value = bar.querySelector('.progress-value');\n",
       "    var progress_status = bar.querySelector('.progress-status');\n",
       "    var selfscripts = document.querySelector('#progressbar_update_script');\n",
       "    \n",
       "    update()\n",
       "    \n",
       "\n",
       "    \n",
       "    var output = selfscripts.parentElement;\n",
       "    var outputarea_child = output.parentElement;\n",
       "    outputarea_child.style.display = 'none';\n",
       "    var outputarea = outputarea_child.parentElement;\n",
       "    output.removeChild(selfscripts);\n",
       "    // outputarea.removeChild(outputarea_child);\n",
       "\n",
       "    function update(){\n",
       "        progress_bar.style.width = width;\n",
       "        progress_value.innerHTML = width;\n",
       "    }  \n",
       "\n",
       "    function finish(){\n",
       "        progress_bar.style.width = width;\n",
       "        progress_value.innerHTML = width;\n",
       "        progress_status.innerHTML = finish_info;\n",
       "    } \n",
       "\n",
       "\n",
       "\n",
       "</script>"
      ],
      "text/plain": [
       "<IPython.core.display.HTML object>"
      ]
     },
     "metadata": {},
     "output_type": "display_data"
    },
    {
     "data": {
      "text/html": [
       "<script id = 'progressbar_update_script' type=\"text/javascript\">\n",
       "    var id = '093512b8-69af-11eb-9e9d-0242ac120006';\n",
       "    var width = '52.4' + '%';\n",
       "    var finish_info = ''\n",
       "    var bar = document.getElementById(id);\n",
       "    var progress_bar = bar.querySelector('.progress-bar');\n",
       "    var progress_value = bar.querySelector('.progress-value');\n",
       "    var progress_status = bar.querySelector('.progress-status');\n",
       "    var selfscripts = document.querySelector('#progressbar_update_script');\n",
       "    \n",
       "    update()\n",
       "    \n",
       "\n",
       "    \n",
       "    var output = selfscripts.parentElement;\n",
       "    var outputarea_child = output.parentElement;\n",
       "    outputarea_child.style.display = 'none';\n",
       "    var outputarea = outputarea_child.parentElement;\n",
       "    output.removeChild(selfscripts);\n",
       "    // outputarea.removeChild(outputarea_child);\n",
       "\n",
       "    function update(){\n",
       "        progress_bar.style.width = width;\n",
       "        progress_value.innerHTML = width;\n",
       "    }  \n",
       "\n",
       "    function finish(){\n",
       "        progress_bar.style.width = width;\n",
       "        progress_value.innerHTML = width;\n",
       "        progress_status.innerHTML = finish_info;\n",
       "    } \n",
       "\n",
       "\n",
       "\n",
       "</script>"
      ],
      "text/plain": [
       "<IPython.core.display.HTML object>"
      ]
     },
     "metadata": {},
     "output_type": "display_data"
    },
    {
     "name": "stdout",
     "output_type": "stream",
     "text": [
      "Warning: 20201221: 仅含24只股票!\n",
      "Warning: 20201221: 仅含24只股票!\n"
     ]
    },
    {
     "data": {
      "text/html": [
       "<script id = 'progressbar_update_script' type=\"text/javascript\">\n",
       "    var id = '08f9ee68-69af-11eb-8e63-0242ac120006';\n",
       "    var width = '63.1' + '%';\n",
       "    var finish_info = ''\n",
       "    var bar = document.getElementById(id);\n",
       "    var progress_bar = bar.querySelector('.progress-bar');\n",
       "    var progress_value = bar.querySelector('.progress-value');\n",
       "    var progress_status = bar.querySelector('.progress-status');\n",
       "    var selfscripts = document.querySelector('#progressbar_update_script');\n",
       "    \n",
       "    update()\n",
       "    \n",
       "\n",
       "    \n",
       "    var output = selfscripts.parentElement;\n",
       "    var outputarea_child = output.parentElement;\n",
       "    outputarea_child.style.display = 'none';\n",
       "    var outputarea = outputarea_child.parentElement;\n",
       "    output.removeChild(selfscripts);\n",
       "    // outputarea.removeChild(outputarea_child);\n",
       "\n",
       "    function update(){\n",
       "        progress_bar.style.width = width;\n",
       "        progress_value.innerHTML = width;\n",
       "    }  \n",
       "\n",
       "    function finish(){\n",
       "        progress_bar.style.width = width;\n",
       "        progress_value.innerHTML = width;\n",
       "        progress_status.innerHTML = finish_info;\n",
       "    } \n",
       "\n",
       "\n",
       "\n",
       "</script>"
      ],
      "text/plain": [
       "<IPython.core.display.HTML object>"
      ]
     },
     "metadata": {},
     "output_type": "display_data"
    },
    {
     "name": "stdout",
     "output_type": "stream",
     "text": [
      "Warning: 20201222: 仅含17只股票!\n",
      "Warning: 20201222: 仅含17只股票!\n"
     ]
    },
    {
     "data": {
      "text/html": [
       "<script id = 'progressbar_update_script' type=\"text/javascript\">\n",
       "    var id = '09192166-69af-11eb-90be-0242ac120006';\n",
       "    var width = '53.6' + '%';\n",
       "    var finish_info = ''\n",
       "    var bar = document.getElementById(id);\n",
       "    var progress_bar = bar.querySelector('.progress-bar');\n",
       "    var progress_value = bar.querySelector('.progress-value');\n",
       "    var progress_status = bar.querySelector('.progress-status');\n",
       "    var selfscripts = document.querySelector('#progressbar_update_script');\n",
       "    \n",
       "    update()\n",
       "    \n",
       "\n",
       "    \n",
       "    var output = selfscripts.parentElement;\n",
       "    var outputarea_child = output.parentElement;\n",
       "    outputarea_child.style.display = 'none';\n",
       "    var outputarea = outputarea_child.parentElement;\n",
       "    output.removeChild(selfscripts);\n",
       "    // outputarea.removeChild(outputarea_child);\n",
       "\n",
       "    function update(){\n",
       "        progress_bar.style.width = width;\n",
       "        progress_value.innerHTML = width;\n",
       "    }  \n",
       "\n",
       "    function finish(){\n",
       "        progress_bar.style.width = width;\n",
       "        progress_value.innerHTML = width;\n",
       "        progress_status.innerHTML = finish_info;\n",
       "    } \n",
       "\n",
       "\n",
       "\n",
       "</script>"
      ],
      "text/plain": [
       "<IPython.core.display.HTML object>"
      ]
     },
     "metadata": {},
     "output_type": "display_data"
    },
    {
     "name": "stdout",
     "output_type": "stream",
     "text": [
      "Warning: 20201223: 仅含31只股票!\n"
     ]
    },
    {
     "data": {
      "text/html": [
       "<script id = 'progressbar_update_script' type=\"text/javascript\">\n",
       "    var id = '090cc3e4-69af-11eb-b347-0242ac120006';\n",
       "    var width = '65.5' + '%';\n",
       "    var finish_info = ''\n",
       "    var bar = document.getElementById(id);\n",
       "    var progress_bar = bar.querySelector('.progress-bar');\n",
       "    var progress_value = bar.querySelector('.progress-value');\n",
       "    var progress_status = bar.querySelector('.progress-status');\n",
       "    var selfscripts = document.querySelector('#progressbar_update_script');\n",
       "    \n",
       "    update()\n",
       "    \n",
       "\n",
       "    \n",
       "    var output = selfscripts.parentElement;\n",
       "    var outputarea_child = output.parentElement;\n",
       "    outputarea_child.style.display = 'none';\n",
       "    var outputarea = outputarea_child.parentElement;\n",
       "    output.removeChild(selfscripts);\n",
       "    // outputarea.removeChild(outputarea_child);\n",
       "\n",
       "    function update(){\n",
       "        progress_bar.style.width = width;\n",
       "        progress_value.innerHTML = width;\n",
       "    }  \n",
       "\n",
       "    function finish(){\n",
       "        progress_bar.style.width = width;\n",
       "        progress_value.innerHTML = width;\n",
       "        progress_status.innerHTML = finish_info;\n",
       "    } \n",
       "\n",
       "\n",
       "\n",
       "</script>"
      ],
      "text/plain": [
       "<IPython.core.display.HTML object>"
      ]
     },
     "metadata": {},
     "output_type": "display_data"
    },
    {
     "name": "stdout",
     "output_type": "stream",
     "text": [
      "Warning: 20201223: 仅含31只股票!\n"
     ]
    },
    {
     "data": {
      "text/html": [
       "<script id = 'progressbar_update_script' type=\"text/javascript\">\n",
       "    var id = '0a5c2410-69af-11eb-b552-0242ac120006';\n",
       "    var width = '50.0' + '%';\n",
       "    var finish_info = ''\n",
       "    var bar = document.getElementById(id);\n",
       "    var progress_bar = bar.querySelector('.progress-bar');\n",
       "    var progress_value = bar.querySelector('.progress-value');\n",
       "    var progress_status = bar.querySelector('.progress-status');\n",
       "    var selfscripts = document.querySelector('#progressbar_update_script');\n",
       "    \n",
       "    update()\n",
       "    \n",
       "\n",
       "    \n",
       "    var output = selfscripts.parentElement;\n",
       "    var outputarea_child = output.parentElement;\n",
       "    outputarea_child.style.display = 'none';\n",
       "    var outputarea = outputarea_child.parentElement;\n",
       "    output.removeChild(selfscripts);\n",
       "    // outputarea.removeChild(outputarea_child);\n",
       "\n",
       "    function update(){\n",
       "        progress_bar.style.width = width;\n",
       "        progress_value.innerHTML = width;\n",
       "    }  \n",
       "\n",
       "    function finish(){\n",
       "        progress_bar.style.width = width;\n",
       "        progress_value.innerHTML = width;\n",
       "        progress_status.innerHTML = finish_info;\n",
       "    } \n",
       "\n",
       "\n",
       "\n",
       "</script>"
      ],
      "text/plain": [
       "<IPython.core.display.HTML object>"
      ]
     },
     "metadata": {},
     "output_type": "display_data"
    },
    {
     "name": "stdout",
     "output_type": "stream",
     "text": [
      "Warning: 20201224: 仅含9只股票!\n"
     ]
    },
    {
     "data": {
      "text/html": [
       "<script id = 'progressbar_update_script' type=\"text/javascript\">\n",
       "    var id = '093512b8-69af-11eb-9e9d-0242ac120006';\n",
       "    var width = '56.0' + '%';\n",
       "    var finish_info = ''\n",
       "    var bar = document.getElementById(id);\n",
       "    var progress_bar = bar.querySelector('.progress-bar');\n",
       "    var progress_value = bar.querySelector('.progress-value');\n",
       "    var progress_status = bar.querySelector('.progress-status');\n",
       "    var selfscripts = document.querySelector('#progressbar_update_script');\n",
       "    \n",
       "    update()\n",
       "    \n",
       "\n",
       "    \n",
       "    var output = selfscripts.parentElement;\n",
       "    var outputarea_child = output.parentElement;\n",
       "    outputarea_child.style.display = 'none';\n",
       "    var outputarea = outputarea_child.parentElement;\n",
       "    output.removeChild(selfscripts);\n",
       "    // outputarea.removeChild(outputarea_child);\n",
       "\n",
       "    function update(){\n",
       "        progress_bar.style.width = width;\n",
       "        progress_value.innerHTML = width;\n",
       "    }  \n",
       "\n",
       "    function finish(){\n",
       "        progress_bar.style.width = width;\n",
       "        progress_value.innerHTML = width;\n",
       "        progress_status.innerHTML = finish_info;\n",
       "    } \n",
       "\n",
       "\n",
       "\n",
       "</script>"
      ],
      "text/plain": [
       "<IPython.core.display.HTML object>"
      ]
     },
     "metadata": {},
     "output_type": "display_data"
    },
    {
     "name": "stdout",
     "output_type": "stream",
     "text": [
      "Warning: 20201224: 仅含9只股票!\n",
      "Warning: 20201225: 仅含14只股票!\n",
      "Warning: 20201225: 仅含14只股票!\n"
     ]
    },
    {
     "data": {
      "text/html": [
       "<script id = 'progressbar_update_script' type=\"text/javascript\">\n",
       "    var id = '08f9ee68-69af-11eb-8e63-0242ac120006';\n",
       "    var width = '67.9' + '%';\n",
       "    var finish_info = ''\n",
       "    var bar = document.getElementById(id);\n",
       "    var progress_bar = bar.querySelector('.progress-bar');\n",
       "    var progress_value = bar.querySelector('.progress-value');\n",
       "    var progress_status = bar.querySelector('.progress-status');\n",
       "    var selfscripts = document.querySelector('#progressbar_update_script');\n",
       "    \n",
       "    update()\n",
       "    \n",
       "\n",
       "    \n",
       "    var output = selfscripts.parentElement;\n",
       "    var outputarea_child = output.parentElement;\n",
       "    outputarea_child.style.display = 'none';\n",
       "    var outputarea = outputarea_child.parentElement;\n",
       "    output.removeChild(selfscripts);\n",
       "    // outputarea.removeChild(outputarea_child);\n",
       "\n",
       "    function update(){\n",
       "        progress_bar.style.width = width;\n",
       "        progress_value.innerHTML = width;\n",
       "    }  \n",
       "\n",
       "    function finish(){\n",
       "        progress_bar.style.width = width;\n",
       "        progress_value.innerHTML = width;\n",
       "        progress_status.innerHTML = finish_info;\n",
       "    } \n",
       "\n",
       "\n",
       "\n",
       "</script>"
      ],
      "text/plain": [
       "<IPython.core.display.HTML object>"
      ]
     },
     "metadata": {},
     "output_type": "display_data"
    },
    {
     "name": "stdout",
     "output_type": "stream",
     "text": [
      "Warning: 20201228: 仅含11只股票!\n",
      "Warning: 20201228: 仅含11只股票!\n"
     ]
    },
    {
     "data": {
      "text/html": [
       "<script id = 'progressbar_update_script' type=\"text/javascript\">\n",
       "    var id = '09192166-69af-11eb-90be-0242ac120006';\n",
       "    var width = '57.1' + '%';\n",
       "    var finish_info = ''\n",
       "    var bar = document.getElementById(id);\n",
       "    var progress_bar = bar.querySelector('.progress-bar');\n",
       "    var progress_value = bar.querySelector('.progress-value');\n",
       "    var progress_status = bar.querySelector('.progress-status');\n",
       "    var selfscripts = document.querySelector('#progressbar_update_script');\n",
       "    \n",
       "    update()\n",
       "    \n",
       "\n",
       "    \n",
       "    var output = selfscripts.parentElement;\n",
       "    var outputarea_child = output.parentElement;\n",
       "    outputarea_child.style.display = 'none';\n",
       "    var outputarea = outputarea_child.parentElement;\n",
       "    output.removeChild(selfscripts);\n",
       "    // outputarea.removeChild(outputarea_child);\n",
       "\n",
       "    function update(){\n",
       "        progress_bar.style.width = width;\n",
       "        progress_value.innerHTML = width;\n",
       "    }  \n",
       "\n",
       "    function finish(){\n",
       "        progress_bar.style.width = width;\n",
       "        progress_value.innerHTML = width;\n",
       "        progress_status.innerHTML = finish_info;\n",
       "    } \n",
       "\n",
       "\n",
       "\n",
       "</script>"
      ],
      "text/plain": [
       "<IPython.core.display.HTML object>"
      ]
     },
     "metadata": {},
     "output_type": "display_data"
    },
    {
     "name": "stdout",
     "output_type": "stream",
     "text": [
      "Warning: 20201229: 仅含21只股票!\n"
     ]
    },
    {
     "data": {
      "text/html": [
       "<script id = 'progressbar_update_script' type=\"text/javascript\">\n",
       "    var id = '090cc3e4-69af-11eb-b347-0242ac120006';\n",
       "    var width = '70.2' + '%';\n",
       "    var finish_info = ''\n",
       "    var bar = document.getElementById(id);\n",
       "    var progress_bar = bar.querySelector('.progress-bar');\n",
       "    var progress_value = bar.querySelector('.progress-value');\n",
       "    var progress_status = bar.querySelector('.progress-status');\n",
       "    var selfscripts = document.querySelector('#progressbar_update_script');\n",
       "    \n",
       "    update()\n",
       "    \n",
       "\n",
       "    \n",
       "    var output = selfscripts.parentElement;\n",
       "    var outputarea_child = output.parentElement;\n",
       "    outputarea_child.style.display = 'none';\n",
       "    var outputarea = outputarea_child.parentElement;\n",
       "    output.removeChild(selfscripts);\n",
       "    // outputarea.removeChild(outputarea_child);\n",
       "\n",
       "    function update(){\n",
       "        progress_bar.style.width = width;\n",
       "        progress_value.innerHTML = width;\n",
       "    }  \n",
       "\n",
       "    function finish(){\n",
       "        progress_bar.style.width = width;\n",
       "        progress_value.innerHTML = width;\n",
       "        progress_status.innerHTML = finish_info;\n",
       "    } \n",
       "\n",
       "\n",
       "\n",
       "</script>"
      ],
      "text/plain": [
       "<IPython.core.display.HTML object>"
      ]
     },
     "metadata": {},
     "output_type": "display_data"
    },
    {
     "name": "stdout",
     "output_type": "stream",
     "text": [
      "Warning: 20201229: 仅含21只股票!\n"
     ]
    },
    {
     "data": {
      "text/html": [
       "<script id = 'progressbar_update_script' type=\"text/javascript\">\n",
       "    var id = '093512b8-69af-11eb-9e9d-0242ac120006';\n",
       "    var width = '59.5' + '%';\n",
       "    var finish_info = ''\n",
       "    var bar = document.getElementById(id);\n",
       "    var progress_bar = bar.querySelector('.progress-bar');\n",
       "    var progress_value = bar.querySelector('.progress-value');\n",
       "    var progress_status = bar.querySelector('.progress-status');\n",
       "    var selfscripts = document.querySelector('#progressbar_update_script');\n",
       "    \n",
       "    update()\n",
       "    \n",
       "\n",
       "    \n",
       "    var output = selfscripts.parentElement;\n",
       "    var outputarea_child = output.parentElement;\n",
       "    outputarea_child.style.display = 'none';\n",
       "    var outputarea = outputarea_child.parentElement;\n",
       "    output.removeChild(selfscripts);\n",
       "    // outputarea.removeChild(outputarea_child);\n",
       "\n",
       "    function update(){\n",
       "        progress_bar.style.width = width;\n",
       "        progress_value.innerHTML = width;\n",
       "    }  \n",
       "\n",
       "    function finish(){\n",
       "        progress_bar.style.width = width;\n",
       "        progress_value.innerHTML = width;\n",
       "        progress_status.innerHTML = finish_info;\n",
       "    } \n",
       "\n",
       "\n",
       "\n",
       "</script>"
      ],
      "text/plain": [
       "<IPython.core.display.HTML object>"
      ]
     },
     "metadata": {},
     "output_type": "display_data"
    },
    {
     "data": {
      "text/html": [
       "<script id = 'progressbar_update_script' type=\"text/javascript\">\n",
       "    var id = '0a5c2410-69af-11eb-b552-0242ac120006';\n",
       "    var width = '53.6' + '%';\n",
       "    var finish_info = ''\n",
       "    var bar = document.getElementById(id);\n",
       "    var progress_bar = bar.querySelector('.progress-bar');\n",
       "    var progress_value = bar.querySelector('.progress-value');\n",
       "    var progress_status = bar.querySelector('.progress-status');\n",
       "    var selfscripts = document.querySelector('#progressbar_update_script');\n",
       "    \n",
       "    update()\n",
       "    \n",
       "\n",
       "    \n",
       "    var output = selfscripts.parentElement;\n",
       "    var outputarea_child = output.parentElement;\n",
       "    outputarea_child.style.display = 'none';\n",
       "    var outputarea = outputarea_child.parentElement;\n",
       "    output.removeChild(selfscripts);\n",
       "    // outputarea.removeChild(outputarea_child);\n",
       "\n",
       "    function update(){\n",
       "        progress_bar.style.width = width;\n",
       "        progress_value.innerHTML = width;\n",
       "    }  \n",
       "\n",
       "    function finish(){\n",
       "        progress_bar.style.width = width;\n",
       "        progress_value.innerHTML = width;\n",
       "        progress_status.innerHTML = finish_info;\n",
       "    } \n",
       "\n",
       "\n",
       "\n",
       "</script>"
      ],
      "text/plain": [
       "<IPython.core.display.HTML object>"
      ]
     },
     "metadata": {},
     "output_type": "display_data"
    },
    {
     "name": "stdout",
     "output_type": "stream",
     "text": [
      "Warning: 20201230: 仅含34只股票!\n",
      "Warning: 20201230: 仅含34只股票!\n"
     ]
    },
    {
     "data": {
      "text/html": [
       "<script id = 'progressbar_update_script' type=\"text/javascript\">\n",
       "    var id = '08f9ee68-69af-11eb-8e63-0242ac120006';\n",
       "    var width = '71.4' + '%';\n",
       "    var finish_info = ''\n",
       "    var bar = document.getElementById(id);\n",
       "    var progress_bar = bar.querySelector('.progress-bar');\n",
       "    var progress_value = bar.querySelector('.progress-value');\n",
       "    var progress_status = bar.querySelector('.progress-status');\n",
       "    var selfscripts = document.querySelector('#progressbar_update_script');\n",
       "    \n",
       "    update()\n",
       "    \n",
       "\n",
       "    \n",
       "    var output = selfscripts.parentElement;\n",
       "    var outputarea_child = output.parentElement;\n",
       "    outputarea_child.style.display = 'none';\n",
       "    var outputarea = outputarea_child.parentElement;\n",
       "    output.removeChild(selfscripts);\n",
       "    // outputarea.removeChild(outputarea_child);\n",
       "\n",
       "    function update(){\n",
       "        progress_bar.style.width = width;\n",
       "        progress_value.innerHTML = width;\n",
       "    }  \n",
       "\n",
       "    function finish(){\n",
       "        progress_bar.style.width = width;\n",
       "        progress_value.innerHTML = width;\n",
       "        progress_status.innerHTML = finish_info;\n",
       "    } \n",
       "\n",
       "\n",
       "\n",
       "</script>"
      ],
      "text/plain": [
       "<IPython.core.display.HTML object>"
      ]
     },
     "metadata": {},
     "output_type": "display_data"
    },
    {
     "name": "stdout",
     "output_type": "stream",
     "text": [
      "Warning: 20201231: 仅含23只股票!\n",
      "Warning: 20201231: 仅含23只股票!\n"
     ]
    },
    {
     "data": {
      "text/html": [
       "<script id = 'progressbar_update_script' type=\"text/javascript\">\n",
       "    var id = '09192166-69af-11eb-90be-0242ac120006';\n",
       "    var width = '60.7' + '%';\n",
       "    var finish_info = ''\n",
       "    var bar = document.getElementById(id);\n",
       "    var progress_bar = bar.querySelector('.progress-bar');\n",
       "    var progress_value = bar.querySelector('.progress-value');\n",
       "    var progress_status = bar.querySelector('.progress-status');\n",
       "    var selfscripts = document.querySelector('#progressbar_update_script');\n",
       "    \n",
       "    update()\n",
       "    \n",
       "\n",
       "    \n",
       "    var output = selfscripts.parentElement;\n",
       "    var outputarea_child = output.parentElement;\n",
       "    outputarea_child.style.display = 'none';\n",
       "    var outputarea = outputarea_child.parentElement;\n",
       "    output.removeChild(selfscripts);\n",
       "    // outputarea.removeChild(outputarea_child);\n",
       "\n",
       "    function update(){\n",
       "        progress_bar.style.width = width;\n",
       "        progress_value.innerHTML = width;\n",
       "    }  \n",
       "\n",
       "    function finish(){\n",
       "        progress_bar.style.width = width;\n",
       "        progress_value.innerHTML = width;\n",
       "        progress_status.innerHTML = finish_info;\n",
       "    } \n",
       "\n",
       "\n",
       "\n",
       "</script>"
      ],
      "text/plain": [
       "<IPython.core.display.HTML object>"
      ]
     },
     "metadata": {},
     "output_type": "display_data"
    },
    {
     "name": "stdout",
     "output_type": "stream",
     "text": [
      "Warning: 20210104: 仅含33只股票!\n",
      "Warning: 20210104: 仅含33只股票!\n"
     ]
    },
    {
     "data": {
      "text/html": [
       "<script id = 'progressbar_update_script' type=\"text/javascript\">\n",
       "    var id = '090cc3e4-69af-11eb-b347-0242ac120006';\n",
       "    var width = '73.8' + '%';\n",
       "    var finish_info = ''\n",
       "    var bar = document.getElementById(id);\n",
       "    var progress_bar = bar.querySelector('.progress-bar');\n",
       "    var progress_value = bar.querySelector('.progress-value');\n",
       "    var progress_status = bar.querySelector('.progress-status');\n",
       "    var selfscripts = document.querySelector('#progressbar_update_script');\n",
       "    \n",
       "    update()\n",
       "    \n",
       "\n",
       "    \n",
       "    var output = selfscripts.parentElement;\n",
       "    var outputarea_child = output.parentElement;\n",
       "    outputarea_child.style.display = 'none';\n",
       "    var outputarea = outputarea_child.parentElement;\n",
       "    output.removeChild(selfscripts);\n",
       "    // outputarea.removeChild(outputarea_child);\n",
       "\n",
       "    function update(){\n",
       "        progress_bar.style.width = width;\n",
       "        progress_value.innerHTML = width;\n",
       "    }  \n",
       "\n",
       "    function finish(){\n",
       "        progress_bar.style.width = width;\n",
       "        progress_value.innerHTML = width;\n",
       "        progress_status.innerHTML = finish_info;\n",
       "    } \n",
       "\n",
       "\n",
       "\n",
       "</script>"
      ],
      "text/plain": [
       "<IPython.core.display.HTML object>"
      ]
     },
     "metadata": {},
     "output_type": "display_data"
    },
    {
     "data": {
      "text/html": [
       "<script id = 'progressbar_update_script' type=\"text/javascript\">\n",
       "    var id = '0a5c2410-69af-11eb-b552-0242ac120006';\n",
       "    var width = '57.1' + '%';\n",
       "    var finish_info = ''\n",
       "    var bar = document.getElementById(id);\n",
       "    var progress_bar = bar.querySelector('.progress-bar');\n",
       "    var progress_value = bar.querySelector('.progress-value');\n",
       "    var progress_status = bar.querySelector('.progress-status');\n",
       "    var selfscripts = document.querySelector('#progressbar_update_script');\n",
       "    \n",
       "    update()\n",
       "    \n",
       "\n",
       "    \n",
       "    var output = selfscripts.parentElement;\n",
       "    var outputarea_child = output.parentElement;\n",
       "    outputarea_child.style.display = 'none';\n",
       "    var outputarea = outputarea_child.parentElement;\n",
       "    output.removeChild(selfscripts);\n",
       "    // outputarea.removeChild(outputarea_child);\n",
       "\n",
       "    function update(){\n",
       "        progress_bar.style.width = width;\n",
       "        progress_value.innerHTML = width;\n",
       "    }  \n",
       "\n",
       "    function finish(){\n",
       "        progress_bar.style.width = width;\n",
       "        progress_value.innerHTML = width;\n",
       "        progress_status.innerHTML = finish_info;\n",
       "    } \n",
       "\n",
       "\n",
       "\n",
       "</script>"
      ],
      "text/plain": [
       "<IPython.core.display.HTML object>"
      ]
     },
     "metadata": {},
     "output_type": "display_data"
    },
    {
     "name": "stdout",
     "output_type": "stream",
     "text": [
      "Warning: 20210105: 仅含24只股票!\n",
      "Warning: 20210105: 仅含24只股票!\n"
     ]
    },
    {
     "data": {
      "text/html": [
       "<script id = 'progressbar_update_script' type=\"text/javascript\">\n",
       "    var id = '093512b8-69af-11eb-9e9d-0242ac120006';\n",
       "    var width = '63.1' + '%';\n",
       "    var finish_info = ''\n",
       "    var bar = document.getElementById(id);\n",
       "    var progress_bar = bar.querySelector('.progress-bar');\n",
       "    var progress_value = bar.querySelector('.progress-value');\n",
       "    var progress_status = bar.querySelector('.progress-status');\n",
       "    var selfscripts = document.querySelector('#progressbar_update_script');\n",
       "    \n",
       "    update()\n",
       "    \n",
       "\n",
       "    \n",
       "    var output = selfscripts.parentElement;\n",
       "    var outputarea_child = output.parentElement;\n",
       "    outputarea_child.style.display = 'none';\n",
       "    var outputarea = outputarea_child.parentElement;\n",
       "    output.removeChild(selfscripts);\n",
       "    // outputarea.removeChild(outputarea_child);\n",
       "\n",
       "    function update(){\n",
       "        progress_bar.style.width = width;\n",
       "        progress_value.innerHTML = width;\n",
       "    }  \n",
       "\n",
       "    function finish(){\n",
       "        progress_bar.style.width = width;\n",
       "        progress_value.innerHTML = width;\n",
       "        progress_status.innerHTML = finish_info;\n",
       "    } \n",
       "\n",
       "\n",
       "\n",
       "</script>"
      ],
      "text/plain": [
       "<IPython.core.display.HTML object>"
      ]
     },
     "metadata": {},
     "output_type": "display_data"
    },
    {
     "name": "stdout",
     "output_type": "stream",
     "text": [
      "Warning: 20210106: 仅含30只股票!\n",
      "Warning: 20210106: 仅含30只股票!\n"
     ]
    },
    {
     "data": {
      "text/html": [
       "<script id = 'progressbar_update_script' type=\"text/javascript\">\n",
       "    var id = '08f9ee68-69af-11eb-8e63-0242ac120006';\n",
       "    var width = '76.2' + '%';\n",
       "    var finish_info = ''\n",
       "    var bar = document.getElementById(id);\n",
       "    var progress_bar = bar.querySelector('.progress-bar');\n",
       "    var progress_value = bar.querySelector('.progress-value');\n",
       "    var progress_status = bar.querySelector('.progress-status');\n",
       "    var selfscripts = document.querySelector('#progressbar_update_script');\n",
       "    \n",
       "    update()\n",
       "    \n",
       "\n",
       "    \n",
       "    var output = selfscripts.parentElement;\n",
       "    var outputarea_child = output.parentElement;\n",
       "    outputarea_child.style.display = 'none';\n",
       "    var outputarea = outputarea_child.parentElement;\n",
       "    output.removeChild(selfscripts);\n",
       "    // outputarea.removeChild(outputarea_child);\n",
       "\n",
       "    function update(){\n",
       "        progress_bar.style.width = width;\n",
       "        progress_value.innerHTML = width;\n",
       "    }  \n",
       "\n",
       "    function finish(){\n",
       "        progress_bar.style.width = width;\n",
       "        progress_value.innerHTML = width;\n",
       "        progress_status.innerHTML = finish_info;\n",
       "    } \n",
       "\n",
       "\n",
       "\n",
       "</script>"
      ],
      "text/plain": [
       "<IPython.core.display.HTML object>"
      ]
     },
     "metadata": {},
     "output_type": "display_data"
    },
    {
     "name": "stdout",
     "output_type": "stream",
     "text": [
      "Warning: 20210107: 仅含8只股票!\n",
      "Warning: 20210107: 仅含8只股票!\n"
     ]
    },
    {
     "data": {
      "text/html": [
       "<script id = 'progressbar_update_script' type=\"text/javascript\">\n",
       "    var id = '09192166-69af-11eb-90be-0242ac120006';\n",
       "    var width = '64.3' + '%';\n",
       "    var finish_info = ''\n",
       "    var bar = document.getElementById(id);\n",
       "    var progress_bar = bar.querySelector('.progress-bar');\n",
       "    var progress_value = bar.querySelector('.progress-value');\n",
       "    var progress_status = bar.querySelector('.progress-status');\n",
       "    var selfscripts = document.querySelector('#progressbar_update_script');\n",
       "    \n",
       "    update()\n",
       "    \n",
       "\n",
       "    \n",
       "    var output = selfscripts.parentElement;\n",
       "    var outputarea_child = output.parentElement;\n",
       "    outputarea_child.style.display = 'none';\n",
       "    var outputarea = outputarea_child.parentElement;\n",
       "    output.removeChild(selfscripts);\n",
       "    // outputarea.removeChild(outputarea_child);\n",
       "\n",
       "    function update(){\n",
       "        progress_bar.style.width = width;\n",
       "        progress_value.innerHTML = width;\n",
       "    }  \n",
       "\n",
       "    function finish(){\n",
       "        progress_bar.style.width = width;\n",
       "        progress_value.innerHTML = width;\n",
       "        progress_status.innerHTML = finish_info;\n",
       "    } \n",
       "\n",
       "\n",
       "\n",
       "</script>"
      ],
      "text/plain": [
       "<IPython.core.display.HTML object>"
      ]
     },
     "metadata": {},
     "output_type": "display_data"
    },
    {
     "name": "stdout",
     "output_type": "stream",
     "text": [
      "Warning: 20210108: 仅含14只股票!\n"
     ]
    },
    {
     "data": {
      "text/html": [
       "<script id = 'progressbar_update_script' type=\"text/javascript\">\n",
       "    var id = '090cc3e4-69af-11eb-b347-0242ac120006';\n",
       "    var width = '78.6' + '%';\n",
       "    var finish_info = ''\n",
       "    var bar = document.getElementById(id);\n",
       "    var progress_bar = bar.querySelector('.progress-bar');\n",
       "    var progress_value = bar.querySelector('.progress-value');\n",
       "    var progress_status = bar.querySelector('.progress-status');\n",
       "    var selfscripts = document.querySelector('#progressbar_update_script');\n",
       "    \n",
       "    update()\n",
       "    \n",
       "\n",
       "    \n",
       "    var output = selfscripts.parentElement;\n",
       "    var outputarea_child = output.parentElement;\n",
       "    outputarea_child.style.display = 'none';\n",
       "    var outputarea = outputarea_child.parentElement;\n",
       "    output.removeChild(selfscripts);\n",
       "    // outputarea.removeChild(outputarea_child);\n",
       "\n",
       "    function update(){\n",
       "        progress_bar.style.width = width;\n",
       "        progress_value.innerHTML = width;\n",
       "    }  \n",
       "\n",
       "    function finish(){\n",
       "        progress_bar.style.width = width;\n",
       "        progress_value.innerHTML = width;\n",
       "        progress_status.innerHTML = finish_info;\n",
       "    } \n",
       "\n",
       "\n",
       "\n",
       "</script>"
      ],
      "text/plain": [
       "<IPython.core.display.HTML object>"
      ]
     },
     "metadata": {},
     "output_type": "display_data"
    },
    {
     "name": "stdout",
     "output_type": "stream",
     "text": [
      "Warning: 20210108: 仅含14只股票!\n"
     ]
    },
    {
     "data": {
      "text/html": [
       "<script id = 'progressbar_update_script' type=\"text/javascript\">\n",
       "    var id = '0a5c2410-69af-11eb-b552-0242ac120006';\n",
       "    var width = '60.7' + '%';\n",
       "    var finish_info = ''\n",
       "    var bar = document.getElementById(id);\n",
       "    var progress_bar = bar.querySelector('.progress-bar');\n",
       "    var progress_value = bar.querySelector('.progress-value');\n",
       "    var progress_status = bar.querySelector('.progress-status');\n",
       "    var selfscripts = document.querySelector('#progressbar_update_script');\n",
       "    \n",
       "    update()\n",
       "    \n",
       "\n",
       "    \n",
       "    var output = selfscripts.parentElement;\n",
       "    var outputarea_child = output.parentElement;\n",
       "    outputarea_child.style.display = 'none';\n",
       "    var outputarea = outputarea_child.parentElement;\n",
       "    output.removeChild(selfscripts);\n",
       "    // outputarea.removeChild(outputarea_child);\n",
       "\n",
       "    function update(){\n",
       "        progress_bar.style.width = width;\n",
       "        progress_value.innerHTML = width;\n",
       "    }  \n",
       "\n",
       "    function finish(){\n",
       "        progress_bar.style.width = width;\n",
       "        progress_value.innerHTML = width;\n",
       "        progress_status.innerHTML = finish_info;\n",
       "    } \n",
       "\n",
       "\n",
       "\n",
       "</script>"
      ],
      "text/plain": [
       "<IPython.core.display.HTML object>"
      ]
     },
     "metadata": {},
     "output_type": "display_data"
    },
    {
     "data": {
      "text/html": [
       "<script id = 'progressbar_update_script' type=\"text/javascript\">\n",
       "    var id = '093512b8-69af-11eb-9e9d-0242ac120006';\n",
       "    var width = '66.7' + '%';\n",
       "    var finish_info = ''\n",
       "    var bar = document.getElementById(id);\n",
       "    var progress_bar = bar.querySelector('.progress-bar');\n",
       "    var progress_value = bar.querySelector('.progress-value');\n",
       "    var progress_status = bar.querySelector('.progress-status');\n",
       "    var selfscripts = document.querySelector('#progressbar_update_script');\n",
       "    \n",
       "    update()\n",
       "    \n",
       "\n",
       "    \n",
       "    var output = selfscripts.parentElement;\n",
       "    var outputarea_child = output.parentElement;\n",
       "    outputarea_child.style.display = 'none';\n",
       "    var outputarea = outputarea_child.parentElement;\n",
       "    output.removeChild(selfscripts);\n",
       "    // outputarea.removeChild(outputarea_child);\n",
       "\n",
       "    function update(){\n",
       "        progress_bar.style.width = width;\n",
       "        progress_value.innerHTML = width;\n",
       "    }  \n",
       "\n",
       "    function finish(){\n",
       "        progress_bar.style.width = width;\n",
       "        progress_value.innerHTML = width;\n",
       "        progress_status.innerHTML = finish_info;\n",
       "    } \n",
       "\n",
       "\n",
       "\n",
       "</script>"
      ],
      "text/plain": [
       "<IPython.core.display.HTML object>"
      ]
     },
     "metadata": {},
     "output_type": "display_data"
    },
    {
     "name": "stdout",
     "output_type": "stream",
     "text": [
      "Warning: 20210111: 仅含6只股票!\n",
      "Warning: 20210111: 仅含6只股票!\n",
      "Warning: 20210112: 仅含7只股票!\n",
      "Warning: 20210112: 仅含7只股票!\n"
     ]
    },
    {
     "data": {
      "text/html": [
       "<script id = 'progressbar_update_script' type=\"text/javascript\">\n",
       "    var id = '08f9ee68-69af-11eb-8e63-0242ac120006';\n",
       "    var width = '81.0' + '%';\n",
       "    var finish_info = ''\n",
       "    var bar = document.getElementById(id);\n",
       "    var progress_bar = bar.querySelector('.progress-bar');\n",
       "    var progress_value = bar.querySelector('.progress-value');\n",
       "    var progress_status = bar.querySelector('.progress-status');\n",
       "    var selfscripts = document.querySelector('#progressbar_update_script');\n",
       "    \n",
       "    update()\n",
       "    \n",
       "\n",
       "    \n",
       "    var output = selfscripts.parentElement;\n",
       "    var outputarea_child = output.parentElement;\n",
       "    outputarea_child.style.display = 'none';\n",
       "    var outputarea = outputarea_child.parentElement;\n",
       "    output.removeChild(selfscripts);\n",
       "    // outputarea.removeChild(outputarea_child);\n",
       "\n",
       "    function update(){\n",
       "        progress_bar.style.width = width;\n",
       "        progress_value.innerHTML = width;\n",
       "    }  \n",
       "\n",
       "    function finish(){\n",
       "        progress_bar.style.width = width;\n",
       "        progress_value.innerHTML = width;\n",
       "        progress_status.innerHTML = finish_info;\n",
       "    } \n",
       "\n",
       "\n",
       "\n",
       "</script>"
      ],
      "text/plain": [
       "<IPython.core.display.HTML object>"
      ]
     },
     "metadata": {},
     "output_type": "display_data"
    },
    {
     "name": "stdout",
     "output_type": "stream",
     "text": [
      "Warning: 20210113: 仅含6只股票!\n",
      "Warning: 20210113: 仅含6只股票!\n",
      "Warning: 20210114: 仅含17只股票!\n",
      "Warning: 20210114: 仅含17只股票!\n"
     ]
    },
    {
     "data": {
      "text/html": [
       "<script id = 'progressbar_update_script' type=\"text/javascript\">\n",
       "    var id = '090cc3e4-69af-11eb-b347-0242ac120006';\n",
       "    var width = '83.3' + '%';\n",
       "    var finish_info = ''\n",
       "    var bar = document.getElementById(id);\n",
       "    var progress_bar = bar.querySelector('.progress-bar');\n",
       "    var progress_value = bar.querySelector('.progress-value');\n",
       "    var progress_status = bar.querySelector('.progress-status');\n",
       "    var selfscripts = document.querySelector('#progressbar_update_script');\n",
       "    \n",
       "    update()\n",
       "    \n",
       "\n",
       "    \n",
       "    var output = selfscripts.parentElement;\n",
       "    var outputarea_child = output.parentElement;\n",
       "    outputarea_child.style.display = 'none';\n",
       "    var outputarea = outputarea_child.parentElement;\n",
       "    output.removeChild(selfscripts);\n",
       "    // outputarea.removeChild(outputarea_child);\n",
       "\n",
       "    function update(){\n",
       "        progress_bar.style.width = width;\n",
       "        progress_value.innerHTML = width;\n",
       "    }  \n",
       "\n",
       "    function finish(){\n",
       "        progress_bar.style.width = width;\n",
       "        progress_value.innerHTML = width;\n",
       "        progress_status.innerHTML = finish_info;\n",
       "    } \n",
       "\n",
       "\n",
       "\n",
       "</script>"
      ],
      "text/plain": [
       "<IPython.core.display.HTML object>"
      ]
     },
     "metadata": {},
     "output_type": "display_data"
    },
    {
     "data": {
      "text/html": [
       "<script id = 'progressbar_update_script' type=\"text/javascript\">\n",
       "    var id = '09192166-69af-11eb-90be-0242ac120006';\n",
       "    var width = '69.0' + '%';\n",
       "    var finish_info = ''\n",
       "    var bar = document.getElementById(id);\n",
       "    var progress_bar = bar.querySelector('.progress-bar');\n",
       "    var progress_value = bar.querySelector('.progress-value');\n",
       "    var progress_status = bar.querySelector('.progress-status');\n",
       "    var selfscripts = document.querySelector('#progressbar_update_script');\n",
       "    \n",
       "    update()\n",
       "    \n",
       "\n",
       "    \n",
       "    var output = selfscripts.parentElement;\n",
       "    var outputarea_child = output.parentElement;\n",
       "    outputarea_child.style.display = 'none';\n",
       "    var outputarea = outputarea_child.parentElement;\n",
       "    output.removeChild(selfscripts);\n",
       "    // outputarea.removeChild(outputarea_child);\n",
       "\n",
       "    function update(){\n",
       "        progress_bar.style.width = width;\n",
       "        progress_value.innerHTML = width;\n",
       "    }  \n",
       "\n",
       "    function finish(){\n",
       "        progress_bar.style.width = width;\n",
       "        progress_value.innerHTML = width;\n",
       "        progress_status.innerHTML = finish_info;\n",
       "    } \n",
       "\n",
       "\n",
       "\n",
       "</script>"
      ],
      "text/plain": [
       "<IPython.core.display.HTML object>"
      ]
     },
     "metadata": {},
     "output_type": "display_data"
    },
    {
     "data": {
      "text/html": [
       "<script id = 'progressbar_update_script' type=\"text/javascript\">\n",
       "    var id = '0a5c2410-69af-11eb-b552-0242ac120006';\n",
       "    var width = '65.5' + '%';\n",
       "    var finish_info = ''\n",
       "    var bar = document.getElementById(id);\n",
       "    var progress_bar = bar.querySelector('.progress-bar');\n",
       "    var progress_value = bar.querySelector('.progress-value');\n",
       "    var progress_status = bar.querySelector('.progress-status');\n",
       "    var selfscripts = document.querySelector('#progressbar_update_script');\n",
       "    \n",
       "    update()\n",
       "    \n",
       "\n",
       "    \n",
       "    var output = selfscripts.parentElement;\n",
       "    var outputarea_child = output.parentElement;\n",
       "    outputarea_child.style.display = 'none';\n",
       "    var outputarea = outputarea_child.parentElement;\n",
       "    output.removeChild(selfscripts);\n",
       "    // outputarea.removeChild(outputarea_child);\n",
       "\n",
       "    function update(){\n",
       "        progress_bar.style.width = width;\n",
       "        progress_value.innerHTML = width;\n",
       "    }  \n",
       "\n",
       "    function finish(){\n",
       "        progress_bar.style.width = width;\n",
       "        progress_value.innerHTML = width;\n",
       "        progress_status.innerHTML = finish_info;\n",
       "    } \n",
       "\n",
       "\n",
       "\n",
       "</script>"
      ],
      "text/plain": [
       "<IPython.core.display.HTML object>"
      ]
     },
     "metadata": {},
     "output_type": "display_data"
    },
    {
     "name": "stdout",
     "output_type": "stream",
     "text": [
      "Warning: 20210115: 仅含23只股票!\n",
      "Warning: 20210115: 仅含23只股票!\n"
     ]
    },
    {
     "data": {
      "text/html": [
       "<script id = 'progressbar_update_script' type=\"text/javascript\">\n",
       "    var id = '093512b8-69af-11eb-9e9d-0242ac120006';\n",
       "    var width = '71.4' + '%';\n",
       "    var finish_info = ''\n",
       "    var bar = document.getElementById(id);\n",
       "    var progress_bar = bar.querySelector('.progress-bar');\n",
       "    var progress_value = bar.querySelector('.progress-value');\n",
       "    var progress_status = bar.querySelector('.progress-status');\n",
       "    var selfscripts = document.querySelector('#progressbar_update_script');\n",
       "    \n",
       "    update()\n",
       "    \n",
       "\n",
       "    \n",
       "    var output = selfscripts.parentElement;\n",
       "    var outputarea_child = output.parentElement;\n",
       "    outputarea_child.style.display = 'none';\n",
       "    var outputarea = outputarea_child.parentElement;\n",
       "    output.removeChild(selfscripts);\n",
       "    // outputarea.removeChild(outputarea_child);\n",
       "\n",
       "    function update(){\n",
       "        progress_bar.style.width = width;\n",
       "        progress_value.innerHTML = width;\n",
       "    }  \n",
       "\n",
       "    function finish(){\n",
       "        progress_bar.style.width = width;\n",
       "        progress_value.innerHTML = width;\n",
       "        progress_status.innerHTML = finish_info;\n",
       "    } \n",
       "\n",
       "\n",
       "\n",
       "</script>"
      ],
      "text/plain": [
       "<IPython.core.display.HTML object>"
      ]
     },
     "metadata": {},
     "output_type": "display_data"
    },
    {
     "name": "stdout",
     "output_type": "stream",
     "text": [
      "Warning: 20210118: 仅含43只股票!\n"
     ]
    },
    {
     "data": {
      "text/html": [
       "<script id = 'progressbar_update_script' type=\"text/javascript\">\n",
       "    var id = '08f9ee68-69af-11eb-8e63-0242ac120006';\n",
       "    var width = '85.7' + '%';\n",
       "    var finish_info = ''\n",
       "    var bar = document.getElementById(id);\n",
       "    var progress_bar = bar.querySelector('.progress-bar');\n",
       "    var progress_value = bar.querySelector('.progress-value');\n",
       "    var progress_status = bar.querySelector('.progress-status');\n",
       "    var selfscripts = document.querySelector('#progressbar_update_script');\n",
       "    \n",
       "    update()\n",
       "    \n",
       "\n",
       "    \n",
       "    var output = selfscripts.parentElement;\n",
       "    var outputarea_child = output.parentElement;\n",
       "    outputarea_child.style.display = 'none';\n",
       "    var outputarea = outputarea_child.parentElement;\n",
       "    output.removeChild(selfscripts);\n",
       "    // outputarea.removeChild(outputarea_child);\n",
       "\n",
       "    function update(){\n",
       "        progress_bar.style.width = width;\n",
       "        progress_value.innerHTML = width;\n",
       "    }  \n",
       "\n",
       "    function finish(){\n",
       "        progress_bar.style.width = width;\n",
       "        progress_value.innerHTML = width;\n",
       "        progress_status.innerHTML = finish_info;\n",
       "    } \n",
       "\n",
       "\n",
       "\n",
       "</script>"
      ],
      "text/plain": [
       "<IPython.core.display.HTML object>"
      ]
     },
     "metadata": {},
     "output_type": "display_data"
    },
    {
     "name": "stdout",
     "output_type": "stream",
     "text": [
      "Warning: 20210118: 仅含43只股票!\n",
      "Warning: 20210119: 仅含23只股票!\n",
      "Warning: 20210119: 仅含23只股票!\n",
      "Warning: 20210120: 仅含20只股票!\n",
      "Warning: 20210120: 仅含20只股票!\n"
     ]
    },
    {
     "data": {
      "text/html": [
       "<script id = 'progressbar_update_script' type=\"text/javascript\">\n",
       "    var id = '090cc3e4-69af-11eb-b347-0242ac120006';\n",
       "    var width = '88.1' + '%';\n",
       "    var finish_info = ''\n",
       "    var bar = document.getElementById(id);\n",
       "    var progress_bar = bar.querySelector('.progress-bar');\n",
       "    var progress_value = bar.querySelector('.progress-value');\n",
       "    var progress_status = bar.querySelector('.progress-status');\n",
       "    var selfscripts = document.querySelector('#progressbar_update_script');\n",
       "    \n",
       "    update()\n",
       "    \n",
       "\n",
       "    \n",
       "    var output = selfscripts.parentElement;\n",
       "    var outputarea_child = output.parentElement;\n",
       "    outputarea_child.style.display = 'none';\n",
       "    var outputarea = outputarea_child.parentElement;\n",
       "    output.removeChild(selfscripts);\n",
       "    // outputarea.removeChild(outputarea_child);\n",
       "\n",
       "    function update(){\n",
       "        progress_bar.style.width = width;\n",
       "        progress_value.innerHTML = width;\n",
       "    }  \n",
       "\n",
       "    function finish(){\n",
       "        progress_bar.style.width = width;\n",
       "        progress_value.innerHTML = width;\n",
       "        progress_status.innerHTML = finish_info;\n",
       "    } \n",
       "\n",
       "\n",
       "\n",
       "</script>"
      ],
      "text/plain": [
       "<IPython.core.display.HTML object>"
      ]
     },
     "metadata": {},
     "output_type": "display_data"
    },
    {
     "data": {
      "text/html": [
       "<script id = 'progressbar_update_script' type=\"text/javascript\">\n",
       "    var id = '09192166-69af-11eb-90be-0242ac120006';\n",
       "    var width = '72.6' + '%';\n",
       "    var finish_info = ''\n",
       "    var bar = document.getElementById(id);\n",
       "    var progress_bar = bar.querySelector('.progress-bar');\n",
       "    var progress_value = bar.querySelector('.progress-value');\n",
       "    var progress_status = bar.querySelector('.progress-status');\n",
       "    var selfscripts = document.querySelector('#progressbar_update_script');\n",
       "    \n",
       "    update()\n",
       "    \n",
       "\n",
       "    \n",
       "    var output = selfscripts.parentElement;\n",
       "    var outputarea_child = output.parentElement;\n",
       "    outputarea_child.style.display = 'none';\n",
       "    var outputarea = outputarea_child.parentElement;\n",
       "    output.removeChild(selfscripts);\n",
       "    // outputarea.removeChild(outputarea_child);\n",
       "\n",
       "    function update(){\n",
       "        progress_bar.style.width = width;\n",
       "        progress_value.innerHTML = width;\n",
       "    }  \n",
       "\n",
       "    function finish(){\n",
       "        progress_bar.style.width = width;\n",
       "        progress_value.innerHTML = width;\n",
       "        progress_status.innerHTML = finish_info;\n",
       "    } \n",
       "\n",
       "\n",
       "\n",
       "</script>"
      ],
      "text/plain": [
       "<IPython.core.display.HTML object>"
      ]
     },
     "metadata": {},
     "output_type": "display_data"
    },
    {
     "data": {
      "text/html": [
       "<script id = 'progressbar_update_script' type=\"text/javascript\">\n",
       "    var id = '0a5c2410-69af-11eb-b552-0242ac120006';\n",
       "    var width = '69.0' + '%';\n",
       "    var finish_info = ''\n",
       "    var bar = document.getElementById(id);\n",
       "    var progress_bar = bar.querySelector('.progress-bar');\n",
       "    var progress_value = bar.querySelector('.progress-value');\n",
       "    var progress_status = bar.querySelector('.progress-status');\n",
       "    var selfscripts = document.querySelector('#progressbar_update_script');\n",
       "    \n",
       "    update()\n",
       "    \n",
       "\n",
       "    \n",
       "    var output = selfscripts.parentElement;\n",
       "    var outputarea_child = output.parentElement;\n",
       "    outputarea_child.style.display = 'none';\n",
       "    var outputarea = outputarea_child.parentElement;\n",
       "    output.removeChild(selfscripts);\n",
       "    // outputarea.removeChild(outputarea_child);\n",
       "\n",
       "    function update(){\n",
       "        progress_bar.style.width = width;\n",
       "        progress_value.innerHTML = width;\n",
       "    }  \n",
       "\n",
       "    function finish(){\n",
       "        progress_bar.style.width = width;\n",
       "        progress_value.innerHTML = width;\n",
       "        progress_status.innerHTML = finish_info;\n",
       "    } \n",
       "\n",
       "\n",
       "\n",
       "</script>"
      ],
      "text/plain": [
       "<IPython.core.display.HTML object>"
      ]
     },
     "metadata": {},
     "output_type": "display_data"
    },
    {
     "name": "stdout",
     "output_type": "stream",
     "text": [
      "Warning: 20210121: 仅含21只股票!\n",
      "Warning: 20210121: 仅含21只股票!\n"
     ]
    },
    {
     "data": {
      "text/html": [
       "<script id = 'progressbar_update_script' type=\"text/javascript\">\n",
       "    var id = '093512b8-69af-11eb-9e9d-0242ac120006';\n",
       "    var width = '75.0' + '%';\n",
       "    var finish_info = ''\n",
       "    var bar = document.getElementById(id);\n",
       "    var progress_bar = bar.querySelector('.progress-bar');\n",
       "    var progress_value = bar.querySelector('.progress-value');\n",
       "    var progress_status = bar.querySelector('.progress-status');\n",
       "    var selfscripts = document.querySelector('#progressbar_update_script');\n",
       "    \n",
       "    update()\n",
       "    \n",
       "\n",
       "    \n",
       "    var output = selfscripts.parentElement;\n",
       "    var outputarea_child = output.parentElement;\n",
       "    outputarea_child.style.display = 'none';\n",
       "    var outputarea = outputarea_child.parentElement;\n",
       "    output.removeChild(selfscripts);\n",
       "    // outputarea.removeChild(outputarea_child);\n",
       "\n",
       "    function update(){\n",
       "        progress_bar.style.width = width;\n",
       "        progress_value.innerHTML = width;\n",
       "    }  \n",
       "\n",
       "    function finish(){\n",
       "        progress_bar.style.width = width;\n",
       "        progress_value.innerHTML = width;\n",
       "        progress_status.innerHTML = finish_info;\n",
       "    } \n",
       "\n",
       "\n",
       "\n",
       "</script>"
      ],
      "text/plain": [
       "<IPython.core.display.HTML object>"
      ]
     },
     "metadata": {},
     "output_type": "display_data"
    },
    {
     "name": "stdout",
     "output_type": "stream",
     "text": [
      "Warning: 20210122: 仅含45只股票!\n"
     ]
    },
    {
     "data": {
      "text/html": [
       "<script id = 'progressbar_update_script' type=\"text/javascript\">\n",
       "    var id = '08f9ee68-69af-11eb-8e63-0242ac120006';\n",
       "    var width = '90.5' + '%';\n",
       "    var finish_info = ''\n",
       "    var bar = document.getElementById(id);\n",
       "    var progress_bar = bar.querySelector('.progress-bar');\n",
       "    var progress_value = bar.querySelector('.progress-value');\n",
       "    var progress_status = bar.querySelector('.progress-status');\n",
       "    var selfscripts = document.querySelector('#progressbar_update_script');\n",
       "    \n",
       "    update()\n",
       "    \n",
       "\n",
       "    \n",
       "    var output = selfscripts.parentElement;\n",
       "    var outputarea_child = output.parentElement;\n",
       "    outputarea_child.style.display = 'none';\n",
       "    var outputarea = outputarea_child.parentElement;\n",
       "    output.removeChild(selfscripts);\n",
       "    // outputarea.removeChild(outputarea_child);\n",
       "\n",
       "    function update(){\n",
       "        progress_bar.style.width = width;\n",
       "        progress_value.innerHTML = width;\n",
       "    }  \n",
       "\n",
       "    function finish(){\n",
       "        progress_bar.style.width = width;\n",
       "        progress_value.innerHTML = width;\n",
       "        progress_status.innerHTML = finish_info;\n",
       "    } \n",
       "\n",
       "\n",
       "\n",
       "</script>"
      ],
      "text/plain": [
       "<IPython.core.display.HTML object>"
      ]
     },
     "metadata": {},
     "output_type": "display_data"
    },
    {
     "name": "stdout",
     "output_type": "stream",
     "text": [
      "Warning: 20210122: 仅含45只股票!\n",
      "Warning: 20210125: 仅含31只股票!\n",
      "Warning: 20210125: 仅含31只股票!\n",
      "Warning: 20210126: 仅含10只股票!\n",
      "Warning: 20210126: 仅含10只股票!\n"
     ]
    },
    {
     "data": {
      "text/html": [
       "<script id = 'progressbar_update_script' type=\"text/javascript\">\n",
       "    var id = '090cc3e4-69af-11eb-b347-0242ac120006';\n",
       "    var width = '92.9' + '%';\n",
       "    var finish_info = ''\n",
       "    var bar = document.getElementById(id);\n",
       "    var progress_bar = bar.querySelector('.progress-bar');\n",
       "    var progress_value = bar.querySelector('.progress-value');\n",
       "    var progress_status = bar.querySelector('.progress-status');\n",
       "    var selfscripts = document.querySelector('#progressbar_update_script');\n",
       "    \n",
       "    update()\n",
       "    \n",
       "\n",
       "    \n",
       "    var output = selfscripts.parentElement;\n",
       "    var outputarea_child = output.parentElement;\n",
       "    outputarea_child.style.display = 'none';\n",
       "    var outputarea = outputarea_child.parentElement;\n",
       "    output.removeChild(selfscripts);\n",
       "    // outputarea.removeChild(outputarea_child);\n",
       "\n",
       "    function update(){\n",
       "        progress_bar.style.width = width;\n",
       "        progress_value.innerHTML = width;\n",
       "    }  \n",
       "\n",
       "    function finish(){\n",
       "        progress_bar.style.width = width;\n",
       "        progress_value.innerHTML = width;\n",
       "        progress_status.innerHTML = finish_info;\n",
       "    } \n",
       "\n",
       "\n",
       "\n",
       "</script>"
      ],
      "text/plain": [
       "<IPython.core.display.HTML object>"
      ]
     },
     "metadata": {},
     "output_type": "display_data"
    },
    {
     "data": {
      "text/html": [
       "<script id = 'progressbar_update_script' type=\"text/javascript\">\n",
       "    var id = '0a5c2410-69af-11eb-b552-0242ac120006';\n",
       "    var width = '72.6' + '%';\n",
       "    var finish_info = ''\n",
       "    var bar = document.getElementById(id);\n",
       "    var progress_bar = bar.querySelector('.progress-bar');\n",
       "    var progress_value = bar.querySelector('.progress-value');\n",
       "    var progress_status = bar.querySelector('.progress-status');\n",
       "    var selfscripts = document.querySelector('#progressbar_update_script');\n",
       "    \n",
       "    update()\n",
       "    \n",
       "\n",
       "    \n",
       "    var output = selfscripts.parentElement;\n",
       "    var outputarea_child = output.parentElement;\n",
       "    outputarea_child.style.display = 'none';\n",
       "    var outputarea = outputarea_child.parentElement;\n",
       "    output.removeChild(selfscripts);\n",
       "    // outputarea.removeChild(outputarea_child);\n",
       "\n",
       "    function update(){\n",
       "        progress_bar.style.width = width;\n",
       "        progress_value.innerHTML = width;\n",
       "    }  \n",
       "\n",
       "    function finish(){\n",
       "        progress_bar.style.width = width;\n",
       "        progress_value.innerHTML = width;\n",
       "        progress_status.innerHTML = finish_info;\n",
       "    } \n",
       "\n",
       "\n",
       "\n",
       "</script>"
      ],
      "text/plain": [
       "<IPython.core.display.HTML object>"
      ]
     },
     "metadata": {},
     "output_type": "display_data"
    },
    {
     "data": {
      "text/html": [
       "<script id = 'progressbar_update_script' type=\"text/javascript\">\n",
       "    var id = '09192166-69af-11eb-90be-0242ac120006';\n",
       "    var width = '76.2' + '%';\n",
       "    var finish_info = ''\n",
       "    var bar = document.getElementById(id);\n",
       "    var progress_bar = bar.querySelector('.progress-bar');\n",
       "    var progress_value = bar.querySelector('.progress-value');\n",
       "    var progress_status = bar.querySelector('.progress-status');\n",
       "    var selfscripts = document.querySelector('#progressbar_update_script');\n",
       "    \n",
       "    update()\n",
       "    \n",
       "\n",
       "    \n",
       "    var output = selfscripts.parentElement;\n",
       "    var outputarea_child = output.parentElement;\n",
       "    outputarea_child.style.display = 'none';\n",
       "    var outputarea = outputarea_child.parentElement;\n",
       "    output.removeChild(selfscripts);\n",
       "    // outputarea.removeChild(outputarea_child);\n",
       "\n",
       "    function update(){\n",
       "        progress_bar.style.width = width;\n",
       "        progress_value.innerHTML = width;\n",
       "    }  \n",
       "\n",
       "    function finish(){\n",
       "        progress_bar.style.width = width;\n",
       "        progress_value.innerHTML = width;\n",
       "        progress_status.innerHTML = finish_info;\n",
       "    } \n",
       "\n",
       "\n",
       "\n",
       "</script>"
      ],
      "text/plain": [
       "<IPython.core.display.HTML object>"
      ]
     },
     "metadata": {},
     "output_type": "display_data"
    },
    {
     "name": "stdout",
     "output_type": "stream",
     "text": [
      "Warning: 20210127: 仅含8只股票!\n",
      "Warning: 20210127: 仅含8只股票!\n"
     ]
    },
    {
     "data": {
      "text/html": [
       "<script id = 'progressbar_update_script' type=\"text/javascript\">\n",
       "    var id = '093512b8-69af-11eb-9e9d-0242ac120006';\n",
       "    var width = '78.6' + '%';\n",
       "    var finish_info = ''\n",
       "    var bar = document.getElementById(id);\n",
       "    var progress_bar = bar.querySelector('.progress-bar');\n",
       "    var progress_value = bar.querySelector('.progress-value');\n",
       "    var progress_status = bar.querySelector('.progress-status');\n",
       "    var selfscripts = document.querySelector('#progressbar_update_script');\n",
       "    \n",
       "    update()\n",
       "    \n",
       "\n",
       "    \n",
       "    var output = selfscripts.parentElement;\n",
       "    var outputarea_child = output.parentElement;\n",
       "    outputarea_child.style.display = 'none';\n",
       "    var outputarea = outputarea_child.parentElement;\n",
       "    output.removeChild(selfscripts);\n",
       "    // outputarea.removeChild(outputarea_child);\n",
       "\n",
       "    function update(){\n",
       "        progress_bar.style.width = width;\n",
       "        progress_value.innerHTML = width;\n",
       "    }  \n",
       "\n",
       "    function finish(){\n",
       "        progress_bar.style.width = width;\n",
       "        progress_value.innerHTML = width;\n",
       "        progress_status.innerHTML = finish_info;\n",
       "    } \n",
       "\n",
       "\n",
       "\n",
       "</script>"
      ],
      "text/plain": [
       "<IPython.core.display.HTML object>"
      ]
     },
     "metadata": {},
     "output_type": "display_data"
    },
    {
     "name": "stdout",
     "output_type": "stream",
     "text": [
      "Warning: 20210128: 仅含6只股票!\n"
     ]
    },
    {
     "data": {
      "text/html": [
       "<script id = 'progressbar_update_script' type=\"text/javascript\">\n",
       "    var id = '08f9ee68-69af-11eb-8e63-0242ac120006';\n",
       "    var width = '95.2' + '%';\n",
       "    var finish_info = ''\n",
       "    var bar = document.getElementById(id);\n",
       "    var progress_bar = bar.querySelector('.progress-bar');\n",
       "    var progress_value = bar.querySelector('.progress-value');\n",
       "    var progress_status = bar.querySelector('.progress-status');\n",
       "    var selfscripts = document.querySelector('#progressbar_update_script');\n",
       "    \n",
       "    update()\n",
       "    \n",
       "\n",
       "    \n",
       "    var output = selfscripts.parentElement;\n",
       "    var outputarea_child = output.parentElement;\n",
       "    outputarea_child.style.display = 'none';\n",
       "    var outputarea = outputarea_child.parentElement;\n",
       "    output.removeChild(selfscripts);\n",
       "    // outputarea.removeChild(outputarea_child);\n",
       "\n",
       "    function update(){\n",
       "        progress_bar.style.width = width;\n",
       "        progress_value.innerHTML = width;\n",
       "    }  \n",
       "\n",
       "    function finish(){\n",
       "        progress_bar.style.width = width;\n",
       "        progress_value.innerHTML = width;\n",
       "        progress_status.innerHTML = finish_info;\n",
       "    } \n",
       "\n",
       "\n",
       "\n",
       "</script>"
      ],
      "text/plain": [
       "<IPython.core.display.HTML object>"
      ]
     },
     "metadata": {},
     "output_type": "display_data"
    },
    {
     "name": "stdout",
     "output_type": "stream",
     "text": [
      "Warning: 20210128: 仅含6只股票!\n",
      "Warning: 20210129: 仅含7只股票!\n",
      "Warning: 20210129: 仅含7只股票!\n"
     ]
    },
    {
     "data": {
      "text/html": [
       "<script id = 'progressbar_update_script' type=\"text/javascript\">\n",
       "    var id = '09192166-69af-11eb-90be-0242ac120006';\n",
       "    var width = '79.8' + '%';\n",
       "    var finish_info = ''\n",
       "    var bar = document.getElementById(id);\n",
       "    var progress_bar = bar.querySelector('.progress-bar');\n",
       "    var progress_value = bar.querySelector('.progress-value');\n",
       "    var progress_status = bar.querySelector('.progress-status');\n",
       "    var selfscripts = document.querySelector('#progressbar_update_script');\n",
       "    \n",
       "    update()\n",
       "    \n",
       "\n",
       "    \n",
       "    var output = selfscripts.parentElement;\n",
       "    var outputarea_child = output.parentElement;\n",
       "    outputarea_child.style.display = 'none';\n",
       "    var outputarea = outputarea_child.parentElement;\n",
       "    output.removeChild(selfscripts);\n",
       "    // outputarea.removeChild(outputarea_child);\n",
       "\n",
       "    function update(){\n",
       "        progress_bar.style.width = width;\n",
       "        progress_value.innerHTML = width;\n",
       "    }  \n",
       "\n",
       "    function finish(){\n",
       "        progress_bar.style.width = width;\n",
       "        progress_value.innerHTML = width;\n",
       "        progress_status.innerHTML = finish_info;\n",
       "    } \n",
       "\n",
       "\n",
       "\n",
       "</script>"
      ],
      "text/plain": [
       "<IPython.core.display.HTML object>"
      ]
     },
     "metadata": {},
     "output_type": "display_data"
    },
    {
     "data": {
      "text/html": [
       "<script id = 'progressbar_update_script' type=\"text/javascript\">\n",
       "    var id = '0a5c2410-69af-11eb-b552-0242ac120006';\n",
       "    var width = '76.2' + '%';\n",
       "    var finish_info = ''\n",
       "    var bar = document.getElementById(id);\n",
       "    var progress_bar = bar.querySelector('.progress-bar');\n",
       "    var progress_value = bar.querySelector('.progress-value');\n",
       "    var progress_status = bar.querySelector('.progress-status');\n",
       "    var selfscripts = document.querySelector('#progressbar_update_script');\n",
       "    \n",
       "    update()\n",
       "    \n",
       "\n",
       "    \n",
       "    var output = selfscripts.parentElement;\n",
       "    var outputarea_child = output.parentElement;\n",
       "    outputarea_child.style.display = 'none';\n",
       "    var outputarea = outputarea_child.parentElement;\n",
       "    output.removeChild(selfscripts);\n",
       "    // outputarea.removeChild(outputarea_child);\n",
       "\n",
       "    function update(){\n",
       "        progress_bar.style.width = width;\n",
       "        progress_value.innerHTML = width;\n",
       "    }  \n",
       "\n",
       "    function finish(){\n",
       "        progress_bar.style.width = width;\n",
       "        progress_value.innerHTML = width;\n",
       "        progress_status.innerHTML = finish_info;\n",
       "    } \n",
       "\n",
       "\n",
       "\n",
       "</script>"
      ],
      "text/plain": [
       "<IPython.core.display.HTML object>"
      ]
     },
     "metadata": {},
     "output_type": "display_data"
    },
    {
     "name": "stdout",
     "output_type": "stream",
     "text": [
      "Warning: 20210201: 仅含18只股票!\n",
      "Warning: 20210201: 仅含18只股票!\n"
     ]
    },
    {
     "data": {
      "text/html": [
       "<script id = 'progressbar_update_script' type=\"text/javascript\">\n",
       "    var id = '090cc3e4-69af-11eb-b347-0242ac120006';\n",
       "    var width = '97.6' + '%';\n",
       "    var finish_info = ''\n",
       "    var bar = document.getElementById(id);\n",
       "    var progress_bar = bar.querySelector('.progress-bar');\n",
       "    var progress_value = bar.querySelector('.progress-value');\n",
       "    var progress_status = bar.querySelector('.progress-status');\n",
       "    var selfscripts = document.querySelector('#progressbar_update_script');\n",
       "    \n",
       "    update()\n",
       "    \n",
       "\n",
       "    \n",
       "    var output = selfscripts.parentElement;\n",
       "    var outputarea_child = output.parentElement;\n",
       "    outputarea_child.style.display = 'none';\n",
       "    var outputarea = outputarea_child.parentElement;\n",
       "    output.removeChild(selfscripts);\n",
       "    // outputarea.removeChild(outputarea_child);\n",
       "\n",
       "    function update(){\n",
       "        progress_bar.style.width = width;\n",
       "        progress_value.innerHTML = width;\n",
       "    }  \n",
       "\n",
       "    function finish(){\n",
       "        progress_bar.style.width = width;\n",
       "        progress_value.innerHTML = width;\n",
       "        progress_status.innerHTML = finish_info;\n",
       "    } \n",
       "\n",
       "\n",
       "\n",
       "</script>"
      ],
      "text/plain": [
       "<IPython.core.display.HTML object>"
      ]
     },
     "metadata": {},
     "output_type": "display_data"
    },
    {
     "data": {
      "text/html": [
       "<script id = 'progressbar_update_script' type=\"text/javascript\">\n",
       "    var id = '093512b8-69af-11eb-9e9d-0242ac120006';\n",
       "    var width = '82.1' + '%';\n",
       "    var finish_info = ''\n",
       "    var bar = document.getElementById(id);\n",
       "    var progress_bar = bar.querySelector('.progress-bar');\n",
       "    var progress_value = bar.querySelector('.progress-value');\n",
       "    var progress_status = bar.querySelector('.progress-status');\n",
       "    var selfscripts = document.querySelector('#progressbar_update_script');\n",
       "    \n",
       "    update()\n",
       "    \n",
       "\n",
       "    \n",
       "    var output = selfscripts.parentElement;\n",
       "    var outputarea_child = output.parentElement;\n",
       "    outputarea_child.style.display = 'none';\n",
       "    var outputarea = outputarea_child.parentElement;\n",
       "    output.removeChild(selfscripts);\n",
       "    // outputarea.removeChild(outputarea_child);\n",
       "\n",
       "    function update(){\n",
       "        progress_bar.style.width = width;\n",
       "        progress_value.innerHTML = width;\n",
       "    }  \n",
       "\n",
       "    function finish(){\n",
       "        progress_bar.style.width = width;\n",
       "        progress_value.innerHTML = width;\n",
       "        progress_status.innerHTML = finish_info;\n",
       "    } \n",
       "\n",
       "\n",
       "\n",
       "</script>"
      ],
      "text/plain": [
       "<IPython.core.display.HTML object>"
      ]
     },
     "metadata": {},
     "output_type": "display_data"
    },
    {
     "name": "stdout",
     "output_type": "stream",
     "text": [
      "Warning: 20210202: 仅含25只股票!\n"
     ]
    },
    {
     "data": {
      "text/html": [
       "<script id = 'progressbar_update_script' type=\"text/javascript\">\n",
       "    var id = '08f9ee68-69af-11eb-8e63-0242ac120006';\n",
       "    var width = '98.8' + '%';\n",
       "    var finish_info = ''\n",
       "    var bar = document.getElementById(id);\n",
       "    var progress_bar = bar.querySelector('.progress-bar');\n",
       "    var progress_value = bar.querySelector('.progress-value');\n",
       "    var progress_status = bar.querySelector('.progress-status');\n",
       "    var selfscripts = document.querySelector('#progressbar_update_script');\n",
       "    \n",
       "    update()\n",
       "    \n",
       "\n",
       "    \n",
       "    var output = selfscripts.parentElement;\n",
       "    var outputarea_child = output.parentElement;\n",
       "    outputarea_child.style.display = 'none';\n",
       "    var outputarea = outputarea_child.parentElement;\n",
       "    output.removeChild(selfscripts);\n",
       "    // outputarea.removeChild(outputarea_child);\n",
       "\n",
       "    function update(){\n",
       "        progress_bar.style.width = width;\n",
       "        progress_value.innerHTML = width;\n",
       "    }  \n",
       "\n",
       "    function finish(){\n",
       "        progress_bar.style.width = width;\n",
       "        progress_value.innerHTML = width;\n",
       "        progress_status.innerHTML = finish_info;\n",
       "    } \n",
       "\n",
       "\n",
       "\n",
       "</script>"
      ],
      "text/plain": [
       "<IPython.core.display.HTML object>"
      ]
     },
     "metadata": {},
     "output_type": "display_data"
    },
    {
     "name": "stdout",
     "output_type": "stream",
     "text": [
      "Warning: 20210202: 仅含25只股票!\n",
      "Warning: 20210203: 仅含13只股票!\n"
     ]
    },
    {
     "data": {
      "text/html": [
       "<script id = 'progressbar_update_script' type=\"text/javascript\">\n",
       "    var id = '08f9ee68-69af-11eb-8e63-0242ac120006';\n",
       "    var width = '100.0' + '%';\n",
       "    var finish_info = ' 加载完毕，用时 26.56秒 '\n",
       "    var bar = document.getElementById(id);\n",
       "    var progress_bar = bar.querySelector('.progress-bar');\n",
       "    var progress_value = bar.querySelector('.progress-value');\n",
       "    var progress_status = bar.querySelector('.progress-status');\n",
       "    var selfscripts = document.querySelector('#progressbar_update_script');\n",
       "    \n",
       "\n",
       "    \n",
       "    finish()\n",
       "    \n",
       "    var output = selfscripts.parentElement;\n",
       "    var outputarea_child = output.parentElement;\n",
       "    outputarea_child.style.display = 'none';\n",
       "    var outputarea = outputarea_child.parentElement;\n",
       "    output.removeChild(selfscripts);\n",
       "    // outputarea.removeChild(outputarea_child);\n",
       "\n",
       "    function update(){\n",
       "        progress_bar.style.width = width;\n",
       "        progress_value.innerHTML = width;\n",
       "    }  \n",
       "\n",
       "    function finish(){\n",
       "        progress_bar.style.width = width;\n",
       "        progress_value.innerHTML = width;\n",
       "        progress_status.innerHTML = finish_info;\n",
       "    } \n",
       "\n",
       "\n",
       "\n",
       "</script>"
      ],
      "text/plain": [
       "<IPython.core.display.HTML object>"
      ]
     },
     "metadata": {},
     "output_type": "display_data"
    },
    {
     "name": "stdout",
     "output_type": "stream",
     "text": [
      "Warning: 20210203: 仅含13只股票!\n"
     ]
    },
    {
     "data": {
      "text/html": [
       "<script id = 'progressbar_update_script' type=\"text/javascript\">\n",
       "    var id = '090cc3e4-69af-11eb-b347-0242ac120006';\n",
       "    var width = '100.0' + '%';\n",
       "    var finish_info = ' 加载完毕，用时 26.52秒 '\n",
       "    var bar = document.getElementById(id);\n",
       "    var progress_bar = bar.querySelector('.progress-bar');\n",
       "    var progress_value = bar.querySelector('.progress-value');\n",
       "    var progress_status = bar.querySelector('.progress-status');\n",
       "    var selfscripts = document.querySelector('#progressbar_update_script');\n",
       "    \n",
       "\n",
       "    \n",
       "    finish()\n",
       "    \n",
       "    var output = selfscripts.parentElement;\n",
       "    var outputarea_child = output.parentElement;\n",
       "    outputarea_child.style.display = 'none';\n",
       "    var outputarea = outputarea_child.parentElement;\n",
       "    output.removeChild(selfscripts);\n",
       "    // outputarea.removeChild(outputarea_child);\n",
       "\n",
       "    function update(){\n",
       "        progress_bar.style.width = width;\n",
       "        progress_value.innerHTML = width;\n",
       "    }  \n",
       "\n",
       "    function finish(){\n",
       "        progress_bar.style.width = width;\n",
       "        progress_value.innerHTML = width;\n",
       "        progress_status.innerHTML = finish_info;\n",
       "    } \n",
       "\n",
       "\n",
       "\n",
       "</script>"
      ],
      "text/plain": [
       "<IPython.core.display.HTML object>"
      ]
     },
     "metadata": {},
     "output_type": "display_data"
    },
    {
     "name": "stdout",
     "output_type": "stream",
     "text": [
      "Warning: 20210204: 仅含12只股票!\n",
      "Warning: 20210204: 仅含12只股票!\n"
     ]
    },
    {
     "data": {
      "text/html": [
       "<script id = 'progressbar_update_script' type=\"text/javascript\">\n",
       "    var id = '0a5c2410-69af-11eb-b552-0242ac120006';\n",
       "    var width = '78.6' + '%';\n",
       "    var finish_info = ''\n",
       "    var bar = document.getElementById(id);\n",
       "    var progress_bar = bar.querySelector('.progress-bar');\n",
       "    var progress_value = bar.querySelector('.progress-value');\n",
       "    var progress_status = bar.querySelector('.progress-status');\n",
       "    var selfscripts = document.querySelector('#progressbar_update_script');\n",
       "    \n",
       "    update()\n",
       "    \n",
       "\n",
       "    \n",
       "    var output = selfscripts.parentElement;\n",
       "    var outputarea_child = output.parentElement;\n",
       "    outputarea_child.style.display = 'none';\n",
       "    var outputarea = outputarea_child.parentElement;\n",
       "    output.removeChild(selfscripts);\n",
       "    // outputarea.removeChild(outputarea_child);\n",
       "\n",
       "    function update(){\n",
       "        progress_bar.style.width = width;\n",
       "        progress_value.innerHTML = width;\n",
       "    }  \n",
       "\n",
       "    function finish(){\n",
       "        progress_bar.style.width = width;\n",
       "        progress_value.innerHTML = width;\n",
       "        progress_status.innerHTML = finish_info;\n",
       "    } \n",
       "\n",
       "\n",
       "\n",
       "</script>"
      ],
      "text/plain": [
       "<IPython.core.display.HTML object>"
      ]
     },
     "metadata": {},
     "output_type": "display_data"
    },
    {
     "data": {
      "text/html": [
       "<script id = 'progressbar_update_script' type=\"text/javascript\">\n",
       "    var id = '09192166-69af-11eb-90be-0242ac120006';\n",
       "    var width = '83.3' + '%';\n",
       "    var finish_info = ''\n",
       "    var bar = document.getElementById(id);\n",
       "    var progress_bar = bar.querySelector('.progress-bar');\n",
       "    var progress_value = bar.querySelector('.progress-value');\n",
       "    var progress_status = bar.querySelector('.progress-status');\n",
       "    var selfscripts = document.querySelector('#progressbar_update_script');\n",
       "    \n",
       "    update()\n",
       "    \n",
       "\n",
       "    \n",
       "    var output = selfscripts.parentElement;\n",
       "    var outputarea_child = output.parentElement;\n",
       "    outputarea_child.style.display = 'none';\n",
       "    var outputarea = outputarea_child.parentElement;\n",
       "    output.removeChild(selfscripts);\n",
       "    // outputarea.removeChild(outputarea_child);\n",
       "\n",
       "    function update(){\n",
       "        progress_bar.style.width = width;\n",
       "        progress_value.innerHTML = width;\n",
       "    }  \n",
       "\n",
       "    function finish(){\n",
       "        progress_bar.style.width = width;\n",
       "        progress_value.innerHTML = width;\n",
       "        progress_status.innerHTML = finish_info;\n",
       "    } \n",
       "\n",
       "\n",
       "\n",
       "</script>"
      ],
      "text/plain": [
       "<IPython.core.display.HTML object>"
      ]
     },
     "metadata": {},
     "output_type": "display_data"
    },
    {
     "data": {
      "text/html": [
       "<script id = 'progressbar_update_script' type=\"text/javascript\">\n",
       "    var id = '093512b8-69af-11eb-9e9d-0242ac120006';\n",
       "    var width = '85.7' + '%';\n",
       "    var finish_info = ''\n",
       "    var bar = document.getElementById(id);\n",
       "    var progress_bar = bar.querySelector('.progress-bar');\n",
       "    var progress_value = bar.querySelector('.progress-value');\n",
       "    var progress_status = bar.querySelector('.progress-status');\n",
       "    var selfscripts = document.querySelector('#progressbar_update_script');\n",
       "    \n",
       "    update()\n",
       "    \n",
       "\n",
       "    \n",
       "    var output = selfscripts.parentElement;\n",
       "    var outputarea_child = output.parentElement;\n",
       "    outputarea_child.style.display = 'none';\n",
       "    var outputarea = outputarea_child.parentElement;\n",
       "    output.removeChild(selfscripts);\n",
       "    // outputarea.removeChild(outputarea_child);\n",
       "\n",
       "    function update(){\n",
       "        progress_bar.style.width = width;\n",
       "        progress_value.innerHTML = width;\n",
       "    }  \n",
       "\n",
       "    function finish(){\n",
       "        progress_bar.style.width = width;\n",
       "        progress_value.innerHTML = width;\n",
       "        progress_status.innerHTML = finish_info;\n",
       "    } \n",
       "\n",
       "\n",
       "\n",
       "</script>"
      ],
      "text/plain": [
       "<IPython.core.display.HTML object>"
      ]
     },
     "metadata": {},
     "output_type": "display_data"
    },
    {
     "name": "stdout",
     "output_type": "stream",
     "text": [
      "The sharp_ratio of riskf_alpha191_0.98_shared_s25_bias_benchmark_shared_alpha191_risk_017_low= -0.18296831982365067\n",
      "The sharp_ratio of riskf_alpha191_0.98_shared_s25_bias_benchmark_shared_alpha191_risk_017_high= -0.18346897183973793\n"
     ]
    },
    {
     "data": {
      "text/html": [
       "<script id = 'progressbar_update_script' type=\"text/javascript\">\n",
       "    var id = '0a5c2410-69af-11eb-b552-0242ac120006';\n",
       "    var width = '82.1' + '%';\n",
       "    var finish_info = ''\n",
       "    var bar = document.getElementById(id);\n",
       "    var progress_bar = bar.querySelector('.progress-bar');\n",
       "    var progress_value = bar.querySelector('.progress-value');\n",
       "    var progress_status = bar.querySelector('.progress-status');\n",
       "    var selfscripts = document.querySelector('#progressbar_update_script');\n",
       "    \n",
       "    update()\n",
       "    \n",
       "\n",
       "    \n",
       "    var output = selfscripts.parentElement;\n",
       "    var outputarea_child = output.parentElement;\n",
       "    outputarea_child.style.display = 'none';\n",
       "    var outputarea = outputarea_child.parentElement;\n",
       "    output.removeChild(selfscripts);\n",
       "    // outputarea.removeChild(outputarea_child);\n",
       "\n",
       "    function update(){\n",
       "        progress_bar.style.width = width;\n",
       "        progress_value.innerHTML = width;\n",
       "    }  \n",
       "\n",
       "    function finish(){\n",
       "        progress_bar.style.width = width;\n",
       "        progress_value.innerHTML = width;\n",
       "        progress_status.innerHTML = finish_info;\n",
       "    } \n",
       "\n",
       "\n",
       "\n",
       "</script>"
      ],
      "text/plain": [
       "<IPython.core.display.HTML object>"
      ]
     },
     "metadata": {},
     "output_type": "display_data"
    },
    {
     "data": {
      "text/html": [
       "<script id = 'progressbar_update_script' type=\"text/javascript\">\n",
       "    var id = '09192166-69af-11eb-90be-0242ac120006';\n",
       "    var width = '86.9' + '%';\n",
       "    var finish_info = ''\n",
       "    var bar = document.getElementById(id);\n",
       "    var progress_bar = bar.querySelector('.progress-bar');\n",
       "    var progress_value = bar.querySelector('.progress-value');\n",
       "    var progress_status = bar.querySelector('.progress-status');\n",
       "    var selfscripts = document.querySelector('#progressbar_update_script');\n",
       "    \n",
       "    update()\n",
       "    \n",
       "\n",
       "    \n",
       "    var output = selfscripts.parentElement;\n",
       "    var outputarea_child = output.parentElement;\n",
       "    outputarea_child.style.display = 'none';\n",
       "    var outputarea = outputarea_child.parentElement;\n",
       "    output.removeChild(selfscripts);\n",
       "    // outputarea.removeChild(outputarea_child);\n",
       "\n",
       "    function update(){\n",
       "        progress_bar.style.width = width;\n",
       "        progress_value.innerHTML = width;\n",
       "    }  \n",
       "\n",
       "    function finish(){\n",
       "        progress_bar.style.width = width;\n",
       "        progress_value.innerHTML = width;\n",
       "        progress_status.innerHTML = finish_info;\n",
       "    } \n",
       "\n",
       "\n",
       "\n",
       "</script>"
      ],
      "text/plain": [
       "<IPython.core.display.HTML object>"
      ]
     },
     "metadata": {},
     "output_type": "display_data"
    },
    {
     "data": {
      "text/html": [
       "<script id = 'progressbar_update_script' type=\"text/javascript\">\n",
       "    var id = '093512b8-69af-11eb-9e9d-0242ac120006';\n",
       "    var width = '89.3' + '%';\n",
       "    var finish_info = ''\n",
       "    var bar = document.getElementById(id);\n",
       "    var progress_bar = bar.querySelector('.progress-bar');\n",
       "    var progress_value = bar.querySelector('.progress-value');\n",
       "    var progress_status = bar.querySelector('.progress-status');\n",
       "    var selfscripts = document.querySelector('#progressbar_update_script');\n",
       "    \n",
       "    update()\n",
       "    \n",
       "\n",
       "    \n",
       "    var output = selfscripts.parentElement;\n",
       "    var outputarea_child = output.parentElement;\n",
       "    outputarea_child.style.display = 'none';\n",
       "    var outputarea = outputarea_child.parentElement;\n",
       "    output.removeChild(selfscripts);\n",
       "    // outputarea.removeChild(outputarea_child);\n",
       "\n",
       "    function update(){\n",
       "        progress_bar.style.width = width;\n",
       "        progress_value.innerHTML = width;\n",
       "    }  \n",
       "\n",
       "    function finish(){\n",
       "        progress_bar.style.width = width;\n",
       "        progress_value.innerHTML = width;\n",
       "        progress_status.innerHTML = finish_info;\n",
       "    } \n",
       "\n",
       "\n",
       "\n",
       "</script>"
      ],
      "text/plain": [
       "<IPython.core.display.HTML object>"
      ]
     },
     "metadata": {},
     "output_type": "display_data"
    },
    {
     "data": {
      "image/png": "[encoded data removed]",
      "text/plain": [
       "<matplotlib.figure.Figure at 0x7f1f9d1193c8>"
      ]
     },
     "metadata": {
      "needs_background": "light"
     },
     "output_type": "display_data"
    },
    {
     "data": {
      "image/png": "[encoded data removed]",
      "text/plain": [
       "<matplotlib.figure.Figure at 0x7f208950e5f8>"
      ]
     },
     "metadata": {
      "needs_background": "light"
     },
     "output_type": "display_data"
    },
    {
     "data": {
      "text/html": [
       "<script id = 'progressbar_update_script' type=\"text/javascript\">\n",
       "    var id = '09192166-69af-11eb-90be-0242ac120006';\n",
       "    var width = '89.3' + '%';\n",
       "    var finish_info = ''\n",
       "    var bar = document.getElementById(id);\n",
       "    var progress_bar = bar.querySelector('.progress-bar');\n",
       "    var progress_value = bar.querySelector('.progress-value');\n",
       "    var progress_status = bar.querySelector('.progress-status');\n",
       "    var selfscripts = document.querySelector('#progressbar_update_script');\n",
       "    \n",
       "    update()\n",
       "    \n",
       "\n",
       "    \n",
       "    var output = selfscripts.parentElement;\n",
       "    var outputarea_child = output.parentElement;\n",
       "    outputarea_child.style.display = 'none';\n",
       "    var outputarea = outputarea_child.parentElement;\n",
       "    output.removeChild(selfscripts);\n",
       "    // outputarea.removeChild(outputarea_child);\n",
       "\n",
       "    function update(){\n",
       "        progress_bar.style.width = width;\n",
       "        progress_value.innerHTML = width;\n",
       "    }  \n",
       "\n",
       "    function finish(){\n",
       "        progress_bar.style.width = width;\n",
       "        progress_value.innerHTML = width;\n",
       "        progress_status.innerHTML = finish_info;\n",
       "    } \n",
       "\n",
       "\n",
       "\n",
       "</script>"
      ],
      "text/plain": [
       "<IPython.core.display.HTML object>"
      ]
     },
     "metadata": {},
     "output_type": "display_data"
    },
    {
     "data": {
      "text/html": [
       "<script id = 'progressbar_update_script' type=\"text/javascript\">\n",
       "    var id = '093512b8-69af-11eb-9e9d-0242ac120006';\n",
       "    var width = '92.9' + '%';\n",
       "    var finish_info = ''\n",
       "    var bar = document.getElementById(id);\n",
       "    var progress_bar = bar.querySelector('.progress-bar');\n",
       "    var progress_value = bar.querySelector('.progress-value');\n",
       "    var progress_status = bar.querySelector('.progress-status');\n",
       "    var selfscripts = document.querySelector('#progressbar_update_script');\n",
       "    \n",
       "    update()\n",
       "    \n",
       "\n",
       "    \n",
       "    var output = selfscripts.parentElement;\n",
       "    var outputarea_child = output.parentElement;\n",
       "    outputarea_child.style.display = 'none';\n",
       "    var outputarea = outputarea_child.parentElement;\n",
       "    output.removeChild(selfscripts);\n",
       "    // outputarea.removeChild(outputarea_child);\n",
       "\n",
       "    function update(){\n",
       "        progress_bar.style.width = width;\n",
       "        progress_value.innerHTML = width;\n",
       "    }  \n",
       "\n",
       "    function finish(){\n",
       "        progress_bar.style.width = width;\n",
       "        progress_value.innerHTML = width;\n",
       "        progress_status.innerHTML = finish_info;\n",
       "    } \n",
       "\n",
       "\n",
       "\n",
       "</script>"
      ],
      "text/plain": [
       "<IPython.core.display.HTML object>"
      ]
     },
     "metadata": {},
     "output_type": "display_data"
    },
    {
     "data": {
      "text/html": [
       "<script id = 'progressbar_update_script' type=\"text/javascript\">\n",
       "    var id = '0a5c2410-69af-11eb-b552-0242ac120006';\n",
       "    var width = '85.7' + '%';\n",
       "    var finish_info = ''\n",
       "    var bar = document.getElementById(id);\n",
       "    var progress_bar = bar.querySelector('.progress-bar');\n",
       "    var progress_value = bar.querySelector('.progress-value');\n",
       "    var progress_status = bar.querySelector('.progress-status');\n",
       "    var selfscripts = document.querySelector('#progressbar_update_script');\n",
       "    \n",
       "    update()\n",
       "    \n",
       "\n",
       "    \n",
       "    var output = selfscripts.parentElement;\n",
       "    var outputarea_child = output.parentElement;\n",
       "    outputarea_child.style.display = 'none';\n",
       "    var outputarea = outputarea_child.parentElement;\n",
       "    output.removeChild(selfscripts);\n",
       "    // outputarea.removeChild(outputarea_child);\n",
       "\n",
       "    function update(){\n",
       "        progress_bar.style.width = width;\n",
       "        progress_value.innerHTML = width;\n",
       "    }  \n",
       "\n",
       "    function finish(){\n",
       "        progress_bar.style.width = width;\n",
       "        progress_value.innerHTML = width;\n",
       "        progress_status.innerHTML = finish_info;\n",
       "    } \n",
       "\n",
       "\n",
       "\n",
       "</script>"
      ],
      "text/plain": [
       "<IPython.core.display.HTML object>"
      ]
     },
     "metadata": {},
     "output_type": "display_data"
    },
    {
     "data": {
      "text/html": [
       "<script id = 'progressbar_update_script' type=\"text/javascript\">\n",
       "    var id = '09192166-69af-11eb-90be-0242ac120006';\n",
       "    var width = '92.9' + '%';\n",
       "    var finish_info = ''\n",
       "    var bar = document.getElementById(id);\n",
       "    var progress_bar = bar.querySelector('.progress-bar');\n",
       "    var progress_value = bar.querySelector('.progress-value');\n",
       "    var progress_status = bar.querySelector('.progress-status');\n",
       "    var selfscripts = document.querySelector('#progressbar_update_script');\n",
       "    \n",
       "    update()\n",
       "    \n",
       "\n",
       "    \n",
       "    var output = selfscripts.parentElement;\n",
       "    var outputarea_child = output.parentElement;\n",
       "    outputarea_child.style.display = 'none';\n",
       "    var outputarea = outputarea_child.parentElement;\n",
       "    output.removeChild(selfscripts);\n",
       "    // outputarea.removeChild(outputarea_child);\n",
       "\n",
       "    function update(){\n",
       "        progress_bar.style.width = width;\n",
       "        progress_value.innerHTML = width;\n",
       "    }  \n",
       "\n",
       "    function finish(){\n",
       "        progress_bar.style.width = width;\n",
       "        progress_value.innerHTML = width;\n",
       "        progress_status.innerHTML = finish_info;\n",
       "    } \n",
       "\n",
       "\n",
       "\n",
       "</script>"
      ],
      "text/plain": [
       "<IPython.core.display.HTML object>"
      ]
     },
     "metadata": {},
     "output_type": "display_data"
    },
    {
     "data": {
      "text/html": [
       "<script id = 'progressbar_update_script' type=\"text/javascript\">\n",
       "    var id = '093512b8-69af-11eb-9e9d-0242ac120006';\n",
       "    var width = '96.4' + '%';\n",
       "    var finish_info = ''\n",
       "    var bar = document.getElementById(id);\n",
       "    var progress_bar = bar.querySelector('.progress-bar');\n",
       "    var progress_value = bar.querySelector('.progress-value');\n",
       "    var progress_status = bar.querySelector('.progress-status');\n",
       "    var selfscripts = document.querySelector('#progressbar_update_script');\n",
       "    \n",
       "    update()\n",
       "    \n",
       "\n",
       "    \n",
       "    var output = selfscripts.parentElement;\n",
       "    var outputarea_child = output.parentElement;\n",
       "    outputarea_child.style.display = 'none';\n",
       "    var outputarea = outputarea_child.parentElement;\n",
       "    output.removeChild(selfscripts);\n",
       "    // outputarea.removeChild(outputarea_child);\n",
       "\n",
       "    function update(){\n",
       "        progress_bar.style.width = width;\n",
       "        progress_value.innerHTML = width;\n",
       "    }  \n",
       "\n",
       "    function finish(){\n",
       "        progress_bar.style.width = width;\n",
       "        progress_value.innerHTML = width;\n",
       "        progress_status.innerHTML = finish_info;\n",
       "    } \n",
       "\n",
       "\n",
       "\n",
       "</script>"
      ],
      "text/plain": [
       "<IPython.core.display.HTML object>"
      ]
     },
     "metadata": {},
     "output_type": "display_data"
    },
    {
     "data": {
      "text/html": [
       "<script id = 'progressbar_update_script' type=\"text/javascript\">\n",
       "    var id = '0a5c2410-69af-11eb-b552-0242ac120006';\n",
       "    var width = '89.3' + '%';\n",
       "    var finish_info = ''\n",
       "    var bar = document.getElementById(id);\n",
       "    var progress_bar = bar.querySelector('.progress-bar');\n",
       "    var progress_value = bar.querySelector('.progress-value');\n",
       "    var progress_status = bar.querySelector('.progress-status');\n",
       "    var selfscripts = document.querySelector('#progressbar_update_script');\n",
       "    \n",
       "    update()\n",
       "    \n",
       "\n",
       "    \n",
       "    var output = selfscripts.parentElement;\n",
       "    var outputarea_child = output.parentElement;\n",
       "    outputarea_child.style.display = 'none';\n",
       "    var outputarea = outputarea_child.parentElement;\n",
       "    output.removeChild(selfscripts);\n",
       "    // outputarea.removeChild(outputarea_child);\n",
       "\n",
       "    function update(){\n",
       "        progress_bar.style.width = width;\n",
       "        progress_value.innerHTML = width;\n",
       "    }  \n",
       "\n",
       "    function finish(){\n",
       "        progress_bar.style.width = width;\n",
       "        progress_value.innerHTML = width;\n",
       "        progress_status.innerHTML = finish_info;\n",
       "    } \n",
       "\n",
       "\n",
       "\n",
       "</script>"
      ],
      "text/plain": [
       "<IPython.core.display.HTML object>"
      ]
     },
     "metadata": {},
     "output_type": "display_data"
    },
    {
     "name": "stdout",
     "output_type": "stream",
     "text": [
      "loading dailyreturn time cost 0.98s\n",
      "加载中: riskf_alpha191_0.98_shared_s25_bias_benchmark_shared_alpha191_risk_066_low\n"
     ]
    },
    {
     "data": {
      "text/html": [
       "<script id = 'progressbar_update_script' type=\"text/javascript\">\n",
       "    var id = '09192166-69af-11eb-90be-0242ac120006';\n",
       "    var width = '96.4' + '%';\n",
       "    var finish_info = ''\n",
       "    var bar = document.getElementById(id);\n",
       "    var progress_bar = bar.querySelector('.progress-bar');\n",
       "    var progress_value = bar.querySelector('.progress-value');\n",
       "    var progress_status = bar.querySelector('.progress-status');\n",
       "    var selfscripts = document.querySelector('#progressbar_update_script');\n",
       "    \n",
       "    update()\n",
       "    \n",
       "\n",
       "    \n",
       "    var output = selfscripts.parentElement;\n",
       "    var outputarea_child = output.parentElement;\n",
       "    outputarea_child.style.display = 'none';\n",
       "    var outputarea = outputarea_child.parentElement;\n",
       "    output.removeChild(selfscripts);\n",
       "    // outputarea.removeChild(outputarea_child);\n",
       "\n",
       "    function update(){\n",
       "        progress_bar.style.width = width;\n",
       "        progress_value.innerHTML = width;\n",
       "    }  \n",
       "\n",
       "    function finish(){\n",
       "        progress_bar.style.width = width;\n",
       "        progress_value.innerHTML = width;\n",
       "        progress_status.innerHTML = finish_info;\n",
       "    } \n",
       "\n",
       "\n",
       "\n",
       "</script>"
      ],
      "text/plain": [
       "<IPython.core.display.HTML object>"
      ]
     },
     "metadata": {},
     "output_type": "display_data"
    },
    {
     "data": {
      "text/html": [
       "<script id = 'progressbar_update_script' type=\"text/javascript\">\n",
       "    var id = '093512b8-69af-11eb-9e9d-0242ac120006';\n",
       "    var width = '100.0' + '%';\n",
       "    var finish_info = ' 加载完毕，用时  31.5秒 '\n",
       "    var bar = document.getElementById(id);\n",
       "    var progress_bar = bar.querySelector('.progress-bar');\n",
       "    var progress_value = bar.querySelector('.progress-value');\n",
       "    var progress_status = bar.querySelector('.progress-status');\n",
       "    var selfscripts = document.querySelector('#progressbar_update_script');\n",
       "    \n",
       "\n",
       "    \n",
       "    finish()\n",
       "    \n",
       "    var output = selfscripts.parentElement;\n",
       "    var outputarea_child = output.parentElement;\n",
       "    outputarea_child.style.display = 'none';\n",
       "    var outputarea = outputarea_child.parentElement;\n",
       "    output.removeChild(selfscripts);\n",
       "    // outputarea.removeChild(outputarea_child);\n",
       "\n",
       "    function update(){\n",
       "        progress_bar.style.width = width;\n",
       "        progress_value.innerHTML = width;\n",
       "    }  \n",
       "\n",
       "    function finish(){\n",
       "        progress_bar.style.width = width;\n",
       "        progress_value.innerHTML = width;\n",
       "        progress_status.innerHTML = finish_info;\n",
       "    } \n",
       "\n",
       "\n",
       "\n",
       "</script>"
      ],
      "text/plain": [
       "<IPython.core.display.HTML object>"
      ]
     },
     "metadata": {},
     "output_type": "display_data"
    },
    {
     "data": {
      "text/html": [
       "<script id = 'progressbar_update_script' type=\"text/javascript\">\n",
       "    var id = '0a5c2410-69af-11eb-b552-0242ac120006';\n",
       "    var width = '94.0' + '%';\n",
       "    var finish_info = ''\n",
       "    var bar = document.getElementById(id);\n",
       "    var progress_bar = bar.querySelector('.progress-bar');\n",
       "    var progress_value = bar.querySelector('.progress-value');\n",
       "    var progress_status = bar.querySelector('.progress-status');\n",
       "    var selfscripts = document.querySelector('#progressbar_update_script');\n",
       "    \n",
       "    update()\n",
       "    \n",
       "\n",
       "    \n",
       "    var output = selfscripts.parentElement;\n",
       "    var outputarea_child = output.parentElement;\n",
       "    outputarea_child.style.display = 'none';\n",
       "    var outputarea = outputarea_child.parentElement;\n",
       "    output.removeChild(selfscripts);\n",
       "    // outputarea.removeChild(outputarea_child);\n",
       "\n",
       "    function update(){\n",
       "        progress_bar.style.width = width;\n",
       "        progress_value.innerHTML = width;\n",
       "    }  \n",
       "\n",
       "    function finish(){\n",
       "        progress_bar.style.width = width;\n",
       "        progress_value.innerHTML = width;\n",
       "        progress_status.innerHTML = finish_info;\n",
       "    } \n",
       "\n",
       "\n",
       "\n",
       "</script>"
      ],
      "text/plain": [
       "<IPython.core.display.HTML object>"
      ]
     },
     "metadata": {},
     "output_type": "display_data"
    },
    {
     "data": {
      "text/html": [
       "<script id = 'progressbar_update_script' type=\"text/javascript\">\n",
       "    var id = '09192166-69af-11eb-90be-0242ac120006';\n",
       "    var width = '100.0' + '%';\n",
       "    var finish_info = ' 加载完毕，用时 32.57秒 '\n",
       "    var bar = document.getElementById(id);\n",
       "    var progress_bar = bar.querySelector('.progress-bar');\n",
       "    var progress_value = bar.querySelector('.progress-value');\n",
       "    var progress_status = bar.querySelector('.progress-status');\n",
       "    var selfscripts = document.querySelector('#progressbar_update_script');\n",
       "    \n",
       "\n",
       "    \n",
       "    finish()\n",
       "    \n",
       "    var output = selfscripts.parentElement;\n",
       "    var outputarea_child = output.parentElement;\n",
       "    outputarea_child.style.display = 'none';\n",
       "    var outputarea = outputarea_child.parentElement;\n",
       "    output.removeChild(selfscripts);\n",
       "    // outputarea.removeChild(outputarea_child);\n",
       "\n",
       "    function update(){\n",
       "        progress_bar.style.width = width;\n",
       "        progress_value.innerHTML = width;\n",
       "    }  \n",
       "\n",
       "    function finish(){\n",
       "        progress_bar.style.width = width;\n",
       "        progress_value.innerHTML = width;\n",
       "        progress_status.innerHTML = finish_info;\n",
       "    } \n",
       "\n",
       "\n",
       "\n",
       "</script>"
      ],
      "text/plain": [
       "<IPython.core.display.HTML object>"
      ]
     },
     "metadata": {},
     "output_type": "display_data"
    },
    {
     "name": "stdout",
     "output_type": "stream",
     "text": [
      "loading riskf_alpha191_0.98_shared_s25_bias_benchmark_shared_alpha191_risk_066_low time cost 1.22s\n",
      "因子加载完成\n",
      "\n"
     ]
    },
    {
     "data": {
      "text/html": [
       "<!DOCTYPE html>\n",
       "\n",
       "<div id=\"demo\"> \n",
       "\t\t<script type=\"text/javascript\">\n",
       "\n",
       "\t\t</script>\n",
       "\n",
       "\t\t<style type=\"text/css\">\n",
       "\t\t\t@keyframes progress-bar-stripes{\n",
       "\t\t\t0% {\n",
       "\t\t\t\tbackground-position: 80px 0;\n",
       "\t\t\t}\n",
       "\t\t\t100% {\n",
       "\t\t\t\tbackground-position: 0 0;\n",
       "\t\t\t}\n",
       "\t\t\t}\n",
       "\n",
       "\t\t\t#demo{\n",
       "\t\t\t}\n",
       "\t\t\t.jp-OutputArea-output .hidden{\n",
       "\t\t\t\tdisplay: none;\n",
       "\t\t\t}\n",
       "\t\t\t.container{\n",
       "\t\t\t\twidth: 100% !important;\n",
       "\t\t\t}\n",
       "\t\t\t.progress{\n",
       "\t\t\t\tdisplay: inline-block;\n",
       "\t\t\t\twidth: 60%;\n",
       "\t\t\t\theight: 6px;\n",
       "\t\t\t\tpadding: 1px;\n",
       "\t\t\t\toverflow: visible;\n",
       "\t\t\t\tborder-radius: 20px;\n",
       "\t\t\t\tborder: 1px solid #88bff0;\n",
       "\t\t\t\tbackground: #f6fbff;\n",
       "\t\t\t}\n",
       "\t\t\t.progress .progress-bar{\n",
       "\t\t\t\tborder-radius: 20px;\n",
       "\t\t\t\tposition: relative;\n",
       "\t\t\t\theight: 100%;\n",
       "\t\t\t\tbackground: #c5ddf5;\n",
       "\t\t\t\tbackground: rgb(103, 178, 248);\n",
       "\t\t\t\tbackground-size: 80px 80px;\n",
       "\t\t\t}\n",
       "\t\t\t.progress-value,.progress-status{\n",
       "\t\t\t\tdisplay: inline-block;\n",
       "\t\t\t\tpadding: 3px 7px;\n",
       "\t\t\t\tfont-size: 13px;\n",
       "\t\t\t}\n",
       "\t\t\t.progress .progress-value:after{\n",
       "\t\t\t\tcontent: \"\";\n",
       "\t\t\t\tborder-top: 10px solid #191919;\n",
       "\t\t\t\tborder-left: 10px solid transparent;\n",
       "\t\t\t\tborder-right: 10px solid transparent;\n",
       "\t\t\t\tposition: absolute;\n",
       "\t\t\t\tbottom: -6px;\n",
       "\t\t\t\tleft: 26%;\n",
       "\t\t\t}\n",
       "\t\t\t.progress-bar.active{\n",
       "\t\t\t\tanimation: reverse progress-bar-stripes 1s linear infinite;\n",
       "\t\t\t}\n",
       "\t\t\t@-webkit-keyframes animate-positive{\n",
       "\t\t\t\t0% { width: 0; }\n",
       "\t\t\t}\n",
       "\t\t\t@keyframes animate-positive{\n",
       "\t\t\t\t0% { width: 0; }\n",
       "\t\t\t}\n",
       "\t   </style>\n",
       "\t<div class=\"container\">\n",
       "\t\t<div class=\"row\">\n",
       "\t\t\t<!-- <div class=\"progress_status\"></div> -->\n",
       "\t\t\t<div id = \"1c8cd706-69af-11eb-b347-0242ac120006\"  class=\"\">\n",
       "\t\t\t\t<div class=\"progress\">\n",
       "\t\t\t\t\t<div class=\"progress-bar progress-bar-info progress-bar-striped active\" style=\"width: 0.0%;\">\n",
       "\t\t\t\t\t</div>\t\t\t\t\t\n",
       "\t\t\t\t</div>\n",
       "\t\t\t\t<div class=\"progress-value\">0.0%</div>\n",
       "\t\t\t\t<div class=\"progress-status\"></div>\n",
       "\t\t\t\t\n",
       "\t\t\t</div>\n",
       "\t\t</div>\n",
       "\t</div>\n",
       "</div>"
      ],
      "text/plain": [
       "<IPython.core.display.HTML object>"
      ]
     },
     "metadata": {},
     "output_type": "display_data"
    },
    {
     "name": "stdout",
     "output_type": "stream",
     "text": [
      "The sharp_ratio of riskf_alpha191_0.98_shared_s25_bias_benchmark_shared_alpha191_risk_091_high= 0.5081839981892153\n"
     ]
    },
    {
     "data": {
      "text/html": [
       "<script id = 'progressbar_update_script' type=\"text/javascript\">\n",
       "    var id = '0a5c2410-69af-11eb-b552-0242ac120006';\n",
       "    var width = '97.6' + '%';\n",
       "    var finish_info = ''\n",
       "    var bar = document.getElementById(id);\n",
       "    var progress_bar = bar.querySelector('.progress-bar');\n",
       "    var progress_value = bar.querySelector('.progress-value');\n",
       "    var progress_status = bar.querySelector('.progress-status');\n",
       "    var selfscripts = document.querySelector('#progressbar_update_script');\n",
       "    \n",
       "    update()\n",
       "    \n",
       "\n",
       "    \n",
       "    var output = selfscripts.parentElement;\n",
       "    var outputarea_child = output.parentElement;\n",
       "    outputarea_child.style.display = 'none';\n",
       "    var outputarea = outputarea_child.parentElement;\n",
       "    output.removeChild(selfscripts);\n",
       "    // outputarea.removeChild(outputarea_child);\n",
       "\n",
       "    function update(){\n",
       "        progress_bar.style.width = width;\n",
       "        progress_value.innerHTML = width;\n",
       "    }  \n",
       "\n",
       "    function finish(){\n",
       "        progress_bar.style.width = width;\n",
       "        progress_value.innerHTML = width;\n",
       "        progress_status.innerHTML = finish_info;\n",
       "    } \n",
       "\n",
       "\n",
       "\n",
       "</script>"
      ],
      "text/plain": [
       "<IPython.core.display.HTML object>"
      ]
     },
     "metadata": {},
     "output_type": "display_data"
    },
    {
     "data": {
      "text/html": [
       "<script id = 'progressbar_update_script' type=\"text/javascript\">\n",
       "    var id = '1c8cd706-69af-11eb-b347-0242ac120006';\n",
       "    var width = '4.8' + '%';\n",
       "    var finish_info = ''\n",
       "    var bar = document.getElementById(id);\n",
       "    var progress_bar = bar.querySelector('.progress-bar');\n",
       "    var progress_value = bar.querySelector('.progress-value');\n",
       "    var progress_status = bar.querySelector('.progress-status');\n",
       "    var selfscripts = document.querySelector('#progressbar_update_script');\n",
       "    \n",
       "    update()\n",
       "    \n",
       "\n",
       "    \n",
       "    var output = selfscripts.parentElement;\n",
       "    var outputarea_child = output.parentElement;\n",
       "    outputarea_child.style.display = 'none';\n",
       "    var outputarea = outputarea_child.parentElement;\n",
       "    output.removeChild(selfscripts);\n",
       "    // outputarea.removeChild(outputarea_child);\n",
       "\n",
       "    function update(){\n",
       "        progress_bar.style.width = width;\n",
       "        progress_value.innerHTML = width;\n",
       "    }  \n",
       "\n",
       "    function finish(){\n",
       "        progress_bar.style.width = width;\n",
       "        progress_value.innerHTML = width;\n",
       "        progress_status.innerHTML = finish_info;\n",
       "    } \n",
       "\n",
       "\n",
       "\n",
       "</script>"
      ],
      "text/plain": [
       "<IPython.core.display.HTML object>"
      ]
     },
     "metadata": {},
     "output_type": "display_data"
    },
    {
     "name": "stdout",
     "output_type": "stream",
     "text": [
      "The sharp_ratio of riskf_alpha191_0.98_shared_s25_bias_benchmark_shared_alpha191_risk_065_high= 0.5229584381822604\n"
     ]
    },
    {
     "data": {
      "image/png": "[encoded data removed]",
      "text/plain": [
       "<matplotlib.figure.Figure at 0x7f209961e940>"
      ]
     },
     "metadata": {
      "needs_background": "light"
     },
     "output_type": "display_data"
    },
    {
     "data": {
      "text/html": [
       "<script id = 'progressbar_update_script' type=\"text/javascript\">\n",
       "    var id = '0a5c2410-69af-11eb-b552-0242ac120006';\n",
       "    var width = '100.0' + '%';\n",
       "    var finish_info = ' 加载完毕，用时 31.91秒 '\n",
       "    var bar = document.getElementById(id);\n",
       "    var progress_bar = bar.querySelector('.progress-bar');\n",
       "    var progress_value = bar.querySelector('.progress-value');\n",
       "    var progress_status = bar.querySelector('.progress-status');\n",
       "    var selfscripts = document.querySelector('#progressbar_update_script');\n",
       "    \n",
       "\n",
       "    \n",
       "    finish()\n",
       "    \n",
       "    var output = selfscripts.parentElement;\n",
       "    var outputarea_child = output.parentElement;\n",
       "    outputarea_child.style.display = 'none';\n",
       "    var outputarea = outputarea_child.parentElement;\n",
       "    output.removeChild(selfscripts);\n",
       "    // outputarea.removeChild(outputarea_child);\n",
       "\n",
       "    function update(){\n",
       "        progress_bar.style.width = width;\n",
       "        progress_value.innerHTML = width;\n",
       "    }  \n",
       "\n",
       "    function finish(){\n",
       "        progress_bar.style.width = width;\n",
       "        progress_value.innerHTML = width;\n",
       "        progress_status.innerHTML = finish_info;\n",
       "    } \n",
       "\n",
       "\n",
       "\n",
       "</script>"
      ],
      "text/plain": [
       "<IPython.core.display.HTML object>"
      ]
     },
     "metadata": {},
     "output_type": "display_data"
    },
    {
     "data": {
      "image/png": "[encoded data removed]",
      "text/plain": [
       "<matplotlib.figure.Figure at 0x7f209efbd5f8>"
      ]
     },
     "metadata": {
      "needs_background": "light"
     },
     "output_type": "display_data"
    },
    {
     "data": {
      "text/html": [
       "<script id = 'progressbar_update_script' type=\"text/javascript\">\n",
       "    var id = '1c8cd706-69af-11eb-b347-0242ac120006';\n",
       "    var width = '9.5' + '%';\n",
       "    var finish_info = ''\n",
       "    var bar = document.getElementById(id);\n",
       "    var progress_bar = bar.querySelector('.progress-bar');\n",
       "    var progress_value = bar.querySelector('.progress-value');\n",
       "    var progress_status = bar.querySelector('.progress-status');\n",
       "    var selfscripts = document.querySelector('#progressbar_update_script');\n",
       "    \n",
       "    update()\n",
       "    \n",
       "\n",
       "    \n",
       "    var output = selfscripts.parentElement;\n",
       "    var outputarea_child = output.parentElement;\n",
       "    outputarea_child.style.display = 'none';\n",
       "    var outputarea = outputarea_child.parentElement;\n",
       "    output.removeChild(selfscripts);\n",
       "    // outputarea.removeChild(outputarea_child);\n",
       "\n",
       "    function update(){\n",
       "        progress_bar.style.width = width;\n",
       "        progress_value.innerHTML = width;\n",
       "    }  \n",
       "\n",
       "    function finish(){\n",
       "        progress_bar.style.width = width;\n",
       "        progress_value.innerHTML = width;\n",
       "        progress_status.innerHTML = finish_info;\n",
       "    } \n",
       "\n",
       "\n",
       "\n",
       "</script>"
      ],
      "text/plain": [
       "<IPython.core.display.HTML object>"
      ]
     },
     "metadata": {},
     "output_type": "display_data"
    },
    {
     "name": "stdout",
     "output_type": "stream",
     "text": [
      "The sharp_ratio of shared_s25_bias_benchmark= 0.5117809076458144\n"
     ]
    },
    {
     "data": {
      "image/png": "[encoded data removed]",
      "text/plain": [
       "<matplotlib.figure.Figure at 0x7f1f9cebfda0>"
      ]
     },
     "metadata": {
      "needs_background": "light"
     },
     "output_type": "display_data"
    },
    {
     "data": {
      "text/html": [
       "<script id = 'progressbar_update_script' type=\"text/javascript\">\n",
       "    var id = '1c8cd706-69af-11eb-b347-0242ac120006';\n",
       "    var width = '13.1' + '%';\n",
       "    var finish_info = ''\n",
       "    var bar = document.getElementById(id);\n",
       "    var progress_bar = bar.querySelector('.progress-bar');\n",
       "    var progress_value = bar.querySelector('.progress-value');\n",
       "    var progress_status = bar.querySelector('.progress-status');\n",
       "    var selfscripts = document.querySelector('#progressbar_update_script');\n",
       "    \n",
       "    update()\n",
       "    \n",
       "\n",
       "    \n",
       "    var output = selfscripts.parentElement;\n",
       "    var outputarea_child = output.parentElement;\n",
       "    outputarea_child.style.display = 'none';\n",
       "    var outputarea = outputarea_child.parentElement;\n",
       "    output.removeChild(selfscripts);\n",
       "    // outputarea.removeChild(outputarea_child);\n",
       "\n",
       "    function update(){\n",
       "        progress_bar.style.width = width;\n",
       "        progress_value.innerHTML = width;\n",
       "    }  \n",
       "\n",
       "    function finish(){\n",
       "        progress_bar.style.width = width;\n",
       "        progress_value.innerHTML = width;\n",
       "        progress_status.innerHTML = finish_info;\n",
       "    } \n",
       "\n",
       "\n",
       "\n",
       "</script>"
      ],
      "text/plain": [
       "<IPython.core.display.HTML object>"
      ]
     },
     "metadata": {},
     "output_type": "display_data"
    },
    {
     "data": {
      "text/html": [
       "<script id = 'progressbar_update_script' type=\"text/javascript\">\n",
       "    var id = '1c8cd706-69af-11eb-b347-0242ac120006';\n",
       "    var width = '16.7' + '%';\n",
       "    var finish_info = ''\n",
       "    var bar = document.getElementById(id);\n",
       "    var progress_bar = bar.querySelector('.progress-bar');\n",
       "    var progress_value = bar.querySelector('.progress-value');\n",
       "    var progress_status = bar.querySelector('.progress-status');\n",
       "    var selfscripts = document.querySelector('#progressbar_update_script');\n",
       "    \n",
       "    update()\n",
       "    \n",
       "\n",
       "    \n",
       "    var output = selfscripts.parentElement;\n",
       "    var outputarea_child = output.parentElement;\n",
       "    outputarea_child.style.display = 'none';\n",
       "    var outputarea = outputarea_child.parentElement;\n",
       "    output.removeChild(selfscripts);\n",
       "    // outputarea.removeChild(outputarea_child);\n",
       "\n",
       "    function update(){\n",
       "        progress_bar.style.width = width;\n",
       "        progress_value.innerHTML = width;\n",
       "    }  \n",
       "\n",
       "    function finish(){\n",
       "        progress_bar.style.width = width;\n",
       "        progress_value.innerHTML = width;\n",
       "        progress_status.innerHTML = finish_info;\n",
       "    } \n",
       "\n",
       "\n",
       "\n",
       "</script>"
      ],
      "text/plain": [
       "<IPython.core.display.HTML object>"
      ]
     },
     "metadata": {},
     "output_type": "display_data"
    },
    {
     "data": {
      "text/html": [
       "<script id = 'progressbar_update_script' type=\"text/javascript\">\n",
       "    var id = '1c8cd706-69af-11eb-b347-0242ac120006';\n",
       "    var width = '21.4' + '%';\n",
       "    var finish_info = ''\n",
       "    var bar = document.getElementById(id);\n",
       "    var progress_bar = bar.querySelector('.progress-bar');\n",
       "    var progress_value = bar.querySelector('.progress-value');\n",
       "    var progress_status = bar.querySelector('.progress-status');\n",
       "    var selfscripts = document.querySelector('#progressbar_update_script');\n",
       "    \n",
       "    update()\n",
       "    \n",
       "\n",
       "    \n",
       "    var output = selfscripts.parentElement;\n",
       "    var outputarea_child = output.parentElement;\n",
       "    outputarea_child.style.display = 'none';\n",
       "    var outputarea = outputarea_child.parentElement;\n",
       "    output.removeChild(selfscripts);\n",
       "    // outputarea.removeChild(outputarea_child);\n",
       "\n",
       "    function update(){\n",
       "        progress_bar.style.width = width;\n",
       "        progress_value.innerHTML = width;\n",
       "    }  \n",
       "\n",
       "    function finish(){\n",
       "        progress_bar.style.width = width;\n",
       "        progress_value.innerHTML = width;\n",
       "        progress_status.innerHTML = finish_info;\n",
       "    } \n",
       "\n",
       "\n",
       "\n",
       "</script>"
      ],
      "text/plain": [
       "<IPython.core.display.HTML object>"
      ]
     },
     "metadata": {},
     "output_type": "display_data"
    },
    {
     "data": {
      "text/html": [
       "<script id = 'progressbar_update_script' type=\"text/javascript\">\n",
       "    var id = '1c8cd706-69af-11eb-b347-0242ac120006';\n",
       "    var width = '26.2' + '%';\n",
       "    var finish_info = ''\n",
       "    var bar = document.getElementById(id);\n",
       "    var progress_bar = bar.querySelector('.progress-bar');\n",
       "    var progress_value = bar.querySelector('.progress-value');\n",
       "    var progress_status = bar.querySelector('.progress-status');\n",
       "    var selfscripts = document.querySelector('#progressbar_update_script');\n",
       "    \n",
       "    update()\n",
       "    \n",
       "\n",
       "    \n",
       "    var output = selfscripts.parentElement;\n",
       "    var outputarea_child = output.parentElement;\n",
       "    outputarea_child.style.display = 'none';\n",
       "    var outputarea = outputarea_child.parentElement;\n",
       "    output.removeChild(selfscripts);\n",
       "    // outputarea.removeChild(outputarea_child);\n",
       "\n",
       "    function update(){\n",
       "        progress_bar.style.width = width;\n",
       "        progress_value.innerHTML = width;\n",
       "    }  \n",
       "\n",
       "    function finish(){\n",
       "        progress_bar.style.width = width;\n",
       "        progress_value.innerHTML = width;\n",
       "        progress_status.innerHTML = finish_info;\n",
       "    } \n",
       "\n",
       "\n",
       "\n",
       "</script>"
      ],
      "text/plain": [
       "<IPython.core.display.HTML object>"
      ]
     },
     "metadata": {},
     "output_type": "display_data"
    },
    {
     "data": {
      "text/html": [
       "<script id = 'progressbar_update_script' type=\"text/javascript\">\n",
       "    var id = '1c8cd706-69af-11eb-b347-0242ac120006';\n",
       "    var width = '29.8' + '%';\n",
       "    var finish_info = ''\n",
       "    var bar = document.getElementById(id);\n",
       "    var progress_bar = bar.querySelector('.progress-bar');\n",
       "    var progress_value = bar.querySelector('.progress-value');\n",
       "    var progress_status = bar.querySelector('.progress-status');\n",
       "    var selfscripts = document.querySelector('#progressbar_update_script');\n",
       "    \n",
       "    update()\n",
       "    \n",
       "\n",
       "    \n",
       "    var output = selfscripts.parentElement;\n",
       "    var outputarea_child = output.parentElement;\n",
       "    outputarea_child.style.display = 'none';\n",
       "    var outputarea = outputarea_child.parentElement;\n",
       "    output.removeChild(selfscripts);\n",
       "    // outputarea.removeChild(outputarea_child);\n",
       "\n",
       "    function update(){\n",
       "        progress_bar.style.width = width;\n",
       "        progress_value.innerHTML = width;\n",
       "    }  \n",
       "\n",
       "    function finish(){\n",
       "        progress_bar.style.width = width;\n",
       "        progress_value.innerHTML = width;\n",
       "        progress_status.innerHTML = finish_info;\n",
       "    } \n",
       "\n",
       "\n",
       "\n",
       "</script>"
      ],
      "text/plain": [
       "<IPython.core.display.HTML object>"
      ]
     },
     "metadata": {},
     "output_type": "display_data"
    },
    {
     "data": {
      "text/html": [
       "<script id = 'progressbar_update_script' type=\"text/javascript\">\n",
       "    var id = '1c8cd706-69af-11eb-b347-0242ac120006';\n",
       "    var width = '33.3' + '%';\n",
       "    var finish_info = ''\n",
       "    var bar = document.getElementById(id);\n",
       "    var progress_bar = bar.querySelector('.progress-bar');\n",
       "    var progress_value = bar.querySelector('.progress-value');\n",
       "    var progress_status = bar.querySelector('.progress-status');\n",
       "    var selfscripts = document.querySelector('#progressbar_update_script');\n",
       "    \n",
       "    update()\n",
       "    \n",
       "\n",
       "    \n",
       "    var output = selfscripts.parentElement;\n",
       "    var outputarea_child = output.parentElement;\n",
       "    outputarea_child.style.display = 'none';\n",
       "    var outputarea = outputarea_child.parentElement;\n",
       "    output.removeChild(selfscripts);\n",
       "    // outputarea.removeChild(outputarea_child);\n",
       "\n",
       "    function update(){\n",
       "        progress_bar.style.width = width;\n",
       "        progress_value.innerHTML = width;\n",
       "    }  \n",
       "\n",
       "    function finish(){\n",
       "        progress_bar.style.width = width;\n",
       "        progress_value.innerHTML = width;\n",
       "        progress_status.innerHTML = finish_info;\n",
       "    } \n",
       "\n",
       "\n",
       "\n",
       "</script>"
      ],
      "text/plain": [
       "<IPython.core.display.HTML object>"
      ]
     },
     "metadata": {},
     "output_type": "display_data"
    },
    {
     "data": {
      "text/html": [
       "<script id = 'progressbar_update_script' type=\"text/javascript\">\n",
       "    var id = '1c8cd706-69af-11eb-b347-0242ac120006';\n",
       "    var width = '36.9' + '%';\n",
       "    var finish_info = ''\n",
       "    var bar = document.getElementById(id);\n",
       "    var progress_bar = bar.querySelector('.progress-bar');\n",
       "    var progress_value = bar.querySelector('.progress-value');\n",
       "    var progress_status = bar.querySelector('.progress-status');\n",
       "    var selfscripts = document.querySelector('#progressbar_update_script');\n",
       "    \n",
       "    update()\n",
       "    \n",
       "\n",
       "    \n",
       "    var output = selfscripts.parentElement;\n",
       "    var outputarea_child = output.parentElement;\n",
       "    outputarea_child.style.display = 'none';\n",
       "    var outputarea = outputarea_child.parentElement;\n",
       "    output.removeChild(selfscripts);\n",
       "    // outputarea.removeChild(outputarea_child);\n",
       "\n",
       "    function update(){\n",
       "        progress_bar.style.width = width;\n",
       "        progress_value.innerHTML = width;\n",
       "    }  \n",
       "\n",
       "    function finish(){\n",
       "        progress_bar.style.width = width;\n",
       "        progress_value.innerHTML = width;\n",
       "        progress_status.innerHTML = finish_info;\n",
       "    } \n",
       "\n",
       "\n",
       "\n",
       "</script>"
      ],
      "text/plain": [
       "<IPython.core.display.HTML object>"
      ]
     },
     "metadata": {},
     "output_type": "display_data"
    },
    {
     "data": {
      "text/html": [
       "<script id = 'progressbar_update_script' type=\"text/javascript\">\n",
       "    var id = '1c8cd706-69af-11eb-b347-0242ac120006';\n",
       "    var width = '41.7' + '%';\n",
       "    var finish_info = ''\n",
       "    var bar = document.getElementById(id);\n",
       "    var progress_bar = bar.querySelector('.progress-bar');\n",
       "    var progress_value = bar.querySelector('.progress-value');\n",
       "    var progress_status = bar.querySelector('.progress-status');\n",
       "    var selfscripts = document.querySelector('#progressbar_update_script');\n",
       "    \n",
       "    update()\n",
       "    \n",
       "\n",
       "    \n",
       "    var output = selfscripts.parentElement;\n",
       "    var outputarea_child = output.parentElement;\n",
       "    outputarea_child.style.display = 'none';\n",
       "    var outputarea = outputarea_child.parentElement;\n",
       "    output.removeChild(selfscripts);\n",
       "    // outputarea.removeChild(outputarea_child);\n",
       "\n",
       "    function update(){\n",
       "        progress_bar.style.width = width;\n",
       "        progress_value.innerHTML = width;\n",
       "    }  \n",
       "\n",
       "    function finish(){\n",
       "        progress_bar.style.width = width;\n",
       "        progress_value.innerHTML = width;\n",
       "        progress_status.innerHTML = finish_info;\n",
       "    } \n",
       "\n",
       "\n",
       "\n",
       "</script>"
      ],
      "text/plain": [
       "<IPython.core.display.HTML object>"
      ]
     },
     "metadata": {},
     "output_type": "display_data"
    },
    {
     "data": {
      "text/html": [
       "<script id = 'progressbar_update_script' type=\"text/javascript\">\n",
       "    var id = '1c8cd706-69af-11eb-b347-0242ac120006';\n",
       "    var width = '46.4' + '%';\n",
       "    var finish_info = ''\n",
       "    var bar = document.getElementById(id);\n",
       "    var progress_bar = bar.querySelector('.progress-bar');\n",
       "    var progress_value = bar.querySelector('.progress-value');\n",
       "    var progress_status = bar.querySelector('.progress-status');\n",
       "    var selfscripts = document.querySelector('#progressbar_update_script');\n",
       "    \n",
       "    update()\n",
       "    \n",
       "\n",
       "    \n",
       "    var output = selfscripts.parentElement;\n",
       "    var outputarea_child = output.parentElement;\n",
       "    outputarea_child.style.display = 'none';\n",
       "    var outputarea = outputarea_child.parentElement;\n",
       "    output.removeChild(selfscripts);\n",
       "    // outputarea.removeChild(outputarea_child);\n",
       "\n",
       "    function update(){\n",
       "        progress_bar.style.width = width;\n",
       "        progress_value.innerHTML = width;\n",
       "    }  \n",
       "\n",
       "    function finish(){\n",
       "        progress_bar.style.width = width;\n",
       "        progress_value.innerHTML = width;\n",
       "        progress_status.innerHTML = finish_info;\n",
       "    } \n",
       "\n",
       "\n",
       "\n",
       "</script>"
      ],
      "text/plain": [
       "<IPython.core.display.HTML object>"
      ]
     },
     "metadata": {},
     "output_type": "display_data"
    },
    {
     "data": {
      "text/html": [
       "<script id = 'progressbar_update_script' type=\"text/javascript\">\n",
       "    var id = '1c8cd706-69af-11eb-b347-0242ac120006';\n",
       "    var width = '51.2' + '%';\n",
       "    var finish_info = ''\n",
       "    var bar = document.getElementById(id);\n",
       "    var progress_bar = bar.querySelector('.progress-bar');\n",
       "    var progress_value = bar.querySelector('.progress-value');\n",
       "    var progress_status = bar.querySelector('.progress-status');\n",
       "    var selfscripts = document.querySelector('#progressbar_update_script');\n",
       "    \n",
       "    update()\n",
       "    \n",
       "\n",
       "    \n",
       "    var output = selfscripts.parentElement;\n",
       "    var outputarea_child = output.parentElement;\n",
       "    outputarea_child.style.display = 'none';\n",
       "    var outputarea = outputarea_child.parentElement;\n",
       "    output.removeChild(selfscripts);\n",
       "    // outputarea.removeChild(outputarea_child);\n",
       "\n",
       "    function update(){\n",
       "        progress_bar.style.width = width;\n",
       "        progress_value.innerHTML = width;\n",
       "    }  \n",
       "\n",
       "    function finish(){\n",
       "        progress_bar.style.width = width;\n",
       "        progress_value.innerHTML = width;\n",
       "        progress_status.innerHTML = finish_info;\n",
       "    } \n",
       "\n",
       "\n",
       "\n",
       "</script>"
      ],
      "text/plain": [
       "<IPython.core.display.HTML object>"
      ]
     },
     "metadata": {},
     "output_type": "display_data"
    },
    {
     "data": {
      "text/html": [
       "<script id = 'progressbar_update_script' type=\"text/javascript\">\n",
       "    var id = '1c8cd706-69af-11eb-b347-0242ac120006';\n",
       "    var width = '54.8' + '%';\n",
       "    var finish_info = ''\n",
       "    var bar = document.getElementById(id);\n",
       "    var progress_bar = bar.querySelector('.progress-bar');\n",
       "    var progress_value = bar.querySelector('.progress-value');\n",
       "    var progress_status = bar.querySelector('.progress-status');\n",
       "    var selfscripts = document.querySelector('#progressbar_update_script');\n",
       "    \n",
       "    update()\n",
       "    \n",
       "\n",
       "    \n",
       "    var output = selfscripts.parentElement;\n",
       "    var outputarea_child = output.parentElement;\n",
       "    outputarea_child.style.display = 'none';\n",
       "    var outputarea = outputarea_child.parentElement;\n",
       "    output.removeChild(selfscripts);\n",
       "    // outputarea.removeChild(outputarea_child);\n",
       "\n",
       "    function update(){\n",
       "        progress_bar.style.width = width;\n",
       "        progress_value.innerHTML = width;\n",
       "    }  \n",
       "\n",
       "    function finish(){\n",
       "        progress_bar.style.width = width;\n",
       "        progress_value.innerHTML = width;\n",
       "        progress_status.innerHTML = finish_info;\n",
       "    } \n",
       "\n",
       "\n",
       "\n",
       "</script>"
      ],
      "text/plain": [
       "<IPython.core.display.HTML object>"
      ]
     },
     "metadata": {},
     "output_type": "display_data"
    },
    {
     "data": {
      "text/html": [
       "<script id = 'progressbar_update_script' type=\"text/javascript\">\n",
       "    var id = '1c8cd706-69af-11eb-b347-0242ac120006';\n",
       "    var width = '59.5' + '%';\n",
       "    var finish_info = ''\n",
       "    var bar = document.getElementById(id);\n",
       "    var progress_bar = bar.querySelector('.progress-bar');\n",
       "    var progress_value = bar.querySelector('.progress-value');\n",
       "    var progress_status = bar.querySelector('.progress-status');\n",
       "    var selfscripts = document.querySelector('#progressbar_update_script');\n",
       "    \n",
       "    update()\n",
       "    \n",
       "\n",
       "    \n",
       "    var output = selfscripts.parentElement;\n",
       "    var outputarea_child = output.parentElement;\n",
       "    outputarea_child.style.display = 'none';\n",
       "    var outputarea = outputarea_child.parentElement;\n",
       "    output.removeChild(selfscripts);\n",
       "    // outputarea.removeChild(outputarea_child);\n",
       "\n",
       "    function update(){\n",
       "        progress_bar.style.width = width;\n",
       "        progress_value.innerHTML = width;\n",
       "    }  \n",
       "\n",
       "    function finish(){\n",
       "        progress_bar.style.width = width;\n",
       "        progress_value.innerHTML = width;\n",
       "        progress_status.innerHTML = finish_info;\n",
       "    } \n",
       "\n",
       "\n",
       "\n",
       "</script>"
      ],
      "text/plain": [
       "<IPython.core.display.HTML object>"
      ]
     },
     "metadata": {},
     "output_type": "display_data"
    },
    {
     "data": {
      "text/html": [
       "<script id = 'progressbar_update_script' type=\"text/javascript\">\n",
       "    var id = '1c8cd706-69af-11eb-b347-0242ac120006';\n",
       "    var width = '64.3' + '%';\n",
       "    var finish_info = ''\n",
       "    var bar = document.getElementById(id);\n",
       "    var progress_bar = bar.querySelector('.progress-bar');\n",
       "    var progress_value = bar.querySelector('.progress-value');\n",
       "    var progress_status = bar.querySelector('.progress-status');\n",
       "    var selfscripts = document.querySelector('#progressbar_update_script');\n",
       "    \n",
       "    update()\n",
       "    \n",
       "\n",
       "    \n",
       "    var output = selfscripts.parentElement;\n",
       "    var outputarea_child = output.parentElement;\n",
       "    outputarea_child.style.display = 'none';\n",
       "    var outputarea = outputarea_child.parentElement;\n",
       "    output.removeChild(selfscripts);\n",
       "    // outputarea.removeChild(outputarea_child);\n",
       "\n",
       "    function update(){\n",
       "        progress_bar.style.width = width;\n",
       "        progress_value.innerHTML = width;\n",
       "    }  \n",
       "\n",
       "    function finish(){\n",
       "        progress_bar.style.width = width;\n",
       "        progress_value.innerHTML = width;\n",
       "        progress_status.innerHTML = finish_info;\n",
       "    } \n",
       "\n",
       "\n",
       "\n",
       "</script>"
      ],
      "text/plain": [
       "<IPython.core.display.HTML object>"
      ]
     },
     "metadata": {},
     "output_type": "display_data"
    },
    {
     "data": {
      "text/html": [
       "<script id = 'progressbar_update_script' type=\"text/javascript\">\n",
       "    var id = '1c8cd706-69af-11eb-b347-0242ac120006';\n",
       "    var width = '69.0' + '%';\n",
       "    var finish_info = ''\n",
       "    var bar = document.getElementById(id);\n",
       "    var progress_bar = bar.querySelector('.progress-bar');\n",
       "    var progress_value = bar.querySelector('.progress-value');\n",
       "    var progress_status = bar.querySelector('.progress-status');\n",
       "    var selfscripts = document.querySelector('#progressbar_update_script');\n",
       "    \n",
       "    update()\n",
       "    \n",
       "\n",
       "    \n",
       "    var output = selfscripts.parentElement;\n",
       "    var outputarea_child = output.parentElement;\n",
       "    outputarea_child.style.display = 'none';\n",
       "    var outputarea = outputarea_child.parentElement;\n",
       "    output.removeChild(selfscripts);\n",
       "    // outputarea.removeChild(outputarea_child);\n",
       "\n",
       "    function update(){\n",
       "        progress_bar.style.width = width;\n",
       "        progress_value.innerHTML = width;\n",
       "    }  \n",
       "\n",
       "    function finish(){\n",
       "        progress_bar.style.width = width;\n",
       "        progress_value.innerHTML = width;\n",
       "        progress_status.innerHTML = finish_info;\n",
       "    } \n",
       "\n",
       "\n",
       "\n",
       "</script>"
      ],
      "text/plain": [
       "<IPython.core.display.HTML object>"
      ]
     },
     "metadata": {},
     "output_type": "display_data"
    },
    {
     "data": {
      "text/html": [
       "<script id = 'progressbar_update_script' type=\"text/javascript\">\n",
       "    var id = '1c8cd706-69af-11eb-b347-0242ac120006';\n",
       "    var width = '73.8' + '%';\n",
       "    var finish_info = ''\n",
       "    var bar = document.getElementById(id);\n",
       "    var progress_bar = bar.querySelector('.progress-bar');\n",
       "    var progress_value = bar.querySelector('.progress-value');\n",
       "    var progress_status = bar.querySelector('.progress-status');\n",
       "    var selfscripts = document.querySelector('#progressbar_update_script');\n",
       "    \n",
       "    update()\n",
       "    \n",
       "\n",
       "    \n",
       "    var output = selfscripts.parentElement;\n",
       "    var outputarea_child = output.parentElement;\n",
       "    outputarea_child.style.display = 'none';\n",
       "    var outputarea = outputarea_child.parentElement;\n",
       "    output.removeChild(selfscripts);\n",
       "    // outputarea.removeChild(outputarea_child);\n",
       "\n",
       "    function update(){\n",
       "        progress_bar.style.width = width;\n",
       "        progress_value.innerHTML = width;\n",
       "    }  \n",
       "\n",
       "    function finish(){\n",
       "        progress_bar.style.width = width;\n",
       "        progress_value.innerHTML = width;\n",
       "        progress_status.innerHTML = finish_info;\n",
       "    } \n",
       "\n",
       "\n",
       "\n",
       "</script>"
      ],
      "text/plain": [
       "<IPython.core.display.HTML object>"
      ]
     },
     "metadata": {},
     "output_type": "display_data"
    },
    {
     "data": {
      "text/html": [
       "<script id = 'progressbar_update_script' type=\"text/javascript\">\n",
       "    var id = '1c8cd706-69af-11eb-b347-0242ac120006';\n",
       "    var width = '77.4' + '%';\n",
       "    var finish_info = ''\n",
       "    var bar = document.getElementById(id);\n",
       "    var progress_bar = bar.querySelector('.progress-bar');\n",
       "    var progress_value = bar.querySelector('.progress-value');\n",
       "    var progress_status = bar.querySelector('.progress-status');\n",
       "    var selfscripts = document.querySelector('#progressbar_update_script');\n",
       "    \n",
       "    update()\n",
       "    \n",
       "\n",
       "    \n",
       "    var output = selfscripts.parentElement;\n",
       "    var outputarea_child = output.parentElement;\n",
       "    outputarea_child.style.display = 'none';\n",
       "    var outputarea = outputarea_child.parentElement;\n",
       "    output.removeChild(selfscripts);\n",
       "    // outputarea.removeChild(outputarea_child);\n",
       "\n",
       "    function update(){\n",
       "        progress_bar.style.width = width;\n",
       "        progress_value.innerHTML = width;\n",
       "    }  \n",
       "\n",
       "    function finish(){\n",
       "        progress_bar.style.width = width;\n",
       "        progress_value.innerHTML = width;\n",
       "        progress_status.innerHTML = finish_info;\n",
       "    } \n",
       "\n",
       "\n",
       "\n",
       "</script>"
      ],
      "text/plain": [
       "<IPython.core.display.HTML object>"
      ]
     },
     "metadata": {},
     "output_type": "display_data"
    },
    {
     "data": {
      "text/html": [
       "<script id = 'progressbar_update_script' type=\"text/javascript\">\n",
       "    var id = '1c8cd706-69af-11eb-b347-0242ac120006';\n",
       "    var width = '81.0' + '%';\n",
       "    var finish_info = ''\n",
       "    var bar = document.getElementById(id);\n",
       "    var progress_bar = bar.querySelector('.progress-bar');\n",
       "    var progress_value = bar.querySelector('.progress-value');\n",
       "    var progress_status = bar.querySelector('.progress-status');\n",
       "    var selfscripts = document.querySelector('#progressbar_update_script');\n",
       "    \n",
       "    update()\n",
       "    \n",
       "\n",
       "    \n",
       "    var output = selfscripts.parentElement;\n",
       "    var outputarea_child = output.parentElement;\n",
       "    outputarea_child.style.display = 'none';\n",
       "    var outputarea = outputarea_child.parentElement;\n",
       "    output.removeChild(selfscripts);\n",
       "    // outputarea.removeChild(outputarea_child);\n",
       "\n",
       "    function update(){\n",
       "        progress_bar.style.width = width;\n",
       "        progress_value.innerHTML = width;\n",
       "    }  \n",
       "\n",
       "    function finish(){\n",
       "        progress_bar.style.width = width;\n",
       "        progress_value.innerHTML = width;\n",
       "        progress_status.innerHTML = finish_info;\n",
       "    } \n",
       "\n",
       "\n",
       "\n",
       "</script>"
      ],
      "text/plain": [
       "<IPython.core.display.HTML object>"
      ]
     },
     "metadata": {},
     "output_type": "display_data"
    },
    {
     "data": {
      "text/html": [
       "<script id = 'progressbar_update_script' type=\"text/javascript\">\n",
       "    var id = '1c8cd706-69af-11eb-b347-0242ac120006';\n",
       "    var width = '85.7' + '%';\n",
       "    var finish_info = ''\n",
       "    var bar = document.getElementById(id);\n",
       "    var progress_bar = bar.querySelector('.progress-bar');\n",
       "    var progress_value = bar.querySelector('.progress-value');\n",
       "    var progress_status = bar.querySelector('.progress-status');\n",
       "    var selfscripts = document.querySelector('#progressbar_update_script');\n",
       "    \n",
       "    update()\n",
       "    \n",
       "\n",
       "    \n",
       "    var output = selfscripts.parentElement;\n",
       "    var outputarea_child = output.parentElement;\n",
       "    outputarea_child.style.display = 'none';\n",
       "    var outputarea = outputarea_child.parentElement;\n",
       "    output.removeChild(selfscripts);\n",
       "    // outputarea.removeChild(outputarea_child);\n",
       "\n",
       "    function update(){\n",
       "        progress_bar.style.width = width;\n",
       "        progress_value.innerHTML = width;\n",
       "    }  \n",
       "\n",
       "    function finish(){\n",
       "        progress_bar.style.width = width;\n",
       "        progress_value.innerHTML = width;\n",
       "        progress_status.innerHTML = finish_info;\n",
       "    } \n",
       "\n",
       "\n",
       "\n",
       "</script>"
      ],
      "text/plain": [
       "<IPython.core.display.HTML object>"
      ]
     },
     "metadata": {},
     "output_type": "display_data"
    },
    {
     "data": {
      "text/html": [
       "<script id = 'progressbar_update_script' type=\"text/javascript\">\n",
       "    var id = '1c8cd706-69af-11eb-b347-0242ac120006';\n",
       "    var width = '90.5' + '%';\n",
       "    var finish_info = ''\n",
       "    var bar = document.getElementById(id);\n",
       "    var progress_bar = bar.querySelector('.progress-bar');\n",
       "    var progress_value = bar.querySelector('.progress-value');\n",
       "    var progress_status = bar.querySelector('.progress-status');\n",
       "    var selfscripts = document.querySelector('#progressbar_update_script');\n",
       "    \n",
       "    update()\n",
       "    \n",
       "\n",
       "    \n",
       "    var output = selfscripts.parentElement;\n",
       "    var outputarea_child = output.parentElement;\n",
       "    outputarea_child.style.display = 'none';\n",
       "    var outputarea = outputarea_child.parentElement;\n",
       "    output.removeChild(selfscripts);\n",
       "    // outputarea.removeChild(outputarea_child);\n",
       "\n",
       "    function update(){\n",
       "        progress_bar.style.width = width;\n",
       "        progress_value.innerHTML = width;\n",
       "    }  \n",
       "\n",
       "    function finish(){\n",
       "        progress_bar.style.width = width;\n",
       "        progress_value.innerHTML = width;\n",
       "        progress_status.innerHTML = finish_info;\n",
       "    } \n",
       "\n",
       "\n",
       "\n",
       "</script>"
      ],
      "text/plain": [
       "<IPython.core.display.HTML object>"
      ]
     },
     "metadata": {},
     "output_type": "display_data"
    },
    {
     "data": {
      "text/html": [
       "<script id = 'progressbar_update_script' type=\"text/javascript\">\n",
       "    var id = '1c8cd706-69af-11eb-b347-0242ac120006';\n",
       "    var width = '95.2' + '%';\n",
       "    var finish_info = ''\n",
       "    var bar = document.getElementById(id);\n",
       "    var progress_bar = bar.querySelector('.progress-bar');\n",
       "    var progress_value = bar.querySelector('.progress-value');\n",
       "    var progress_status = bar.querySelector('.progress-status');\n",
       "    var selfscripts = document.querySelector('#progressbar_update_script');\n",
       "    \n",
       "    update()\n",
       "    \n",
       "\n",
       "    \n",
       "    var output = selfscripts.parentElement;\n",
       "    var outputarea_child = output.parentElement;\n",
       "    outputarea_child.style.display = 'none';\n",
       "    var outputarea = outputarea_child.parentElement;\n",
       "    output.removeChild(selfscripts);\n",
       "    // outputarea.removeChild(outputarea_child);\n",
       "\n",
       "    function update(){\n",
       "        progress_bar.style.width = width;\n",
       "        progress_value.innerHTML = width;\n",
       "    }  \n",
       "\n",
       "    function finish(){\n",
       "        progress_bar.style.width = width;\n",
       "        progress_value.innerHTML = width;\n",
       "        progress_status.innerHTML = finish_info;\n",
       "    } \n",
       "\n",
       "\n",
       "\n",
       "</script>"
      ],
      "text/plain": [
       "<IPython.core.display.HTML object>"
      ]
     },
     "metadata": {},
     "output_type": "display_data"
    },
    {
     "data": {
      "text/html": [
       "<script id = 'progressbar_update_script' type=\"text/javascript\">\n",
       "    var id = '1c8cd706-69af-11eb-b347-0242ac120006';\n",
       "    var width = '98.8' + '%';\n",
       "    var finish_info = ''\n",
       "    var bar = document.getElementById(id);\n",
       "    var progress_bar = bar.querySelector('.progress-bar');\n",
       "    var progress_value = bar.querySelector('.progress-value');\n",
       "    var progress_status = bar.querySelector('.progress-status');\n",
       "    var selfscripts = document.querySelector('#progressbar_update_script');\n",
       "    \n",
       "    update()\n",
       "    \n",
       "\n",
       "    \n",
       "    var output = selfscripts.parentElement;\n",
       "    var outputarea_child = output.parentElement;\n",
       "    outputarea_child.style.display = 'none';\n",
       "    var outputarea = outputarea_child.parentElement;\n",
       "    output.removeChild(selfscripts);\n",
       "    // outputarea.removeChild(outputarea_child);\n",
       "\n",
       "    function update(){\n",
       "        progress_bar.style.width = width;\n",
       "        progress_value.innerHTML = width;\n",
       "    }  \n",
       "\n",
       "    function finish(){\n",
       "        progress_bar.style.width = width;\n",
       "        progress_value.innerHTML = width;\n",
       "        progress_status.innerHTML = finish_info;\n",
       "    } \n",
       "\n",
       "\n",
       "\n",
       "</script>"
      ],
      "text/plain": [
       "<IPython.core.display.HTML object>"
      ]
     },
     "metadata": {},
     "output_type": "display_data"
    },
    {
     "data": {
      "text/html": [
       "<script id = 'progressbar_update_script' type=\"text/javascript\">\n",
       "    var id = '1c8cd706-69af-11eb-b347-0242ac120006';\n",
       "    var width = '100.0' + '%';\n",
       "    var finish_info = ' 加载完毕，用时 26.86秒 '\n",
       "    var bar = document.getElementById(id);\n",
       "    var progress_bar = bar.querySelector('.progress-bar');\n",
       "    var progress_value = bar.querySelector('.progress-value');\n",
       "    var progress_status = bar.querySelector('.progress-status');\n",
       "    var selfscripts = document.querySelector('#progressbar_update_script');\n",
       "    \n",
       "\n",
       "    \n",
       "    finish()\n",
       "    \n",
       "    var output = selfscripts.parentElement;\n",
       "    var outputarea_child = output.parentElement;\n",
       "    outputarea_child.style.display = 'none';\n",
       "    var outputarea = outputarea_child.parentElement;\n",
       "    output.removeChild(selfscripts);\n",
       "    // outputarea.removeChild(outputarea_child);\n",
       "\n",
       "    function update(){\n",
       "        progress_bar.style.width = width;\n",
       "        progress_value.innerHTML = width;\n",
       "    }  \n",
       "\n",
       "    function finish(){\n",
       "        progress_bar.style.width = width;\n",
       "        progress_value.innerHTML = width;\n",
       "        progress_status.innerHTML = finish_info;\n",
       "    } \n",
       "\n",
       "\n",
       "\n",
       "</script>"
      ],
      "text/plain": [
       "<IPython.core.display.HTML object>"
      ]
     },
     "metadata": {},
     "output_type": "display_data"
    },
    {
     "name": "stdout",
     "output_type": "stream",
     "text": [
      "The sharp_ratio of riskf_alpha191_0.98_shared_s25_bias_benchmark_shared_alpha191_risk_066_low= 0.5229584381822604\n"
     ]
    },
    {
     "data": {
      "image/png": "[encoded data removed]",
      "text/plain": [
       "<matplotlib.figure.Figure at 0x7f209efbd668>"
      ]
     },
     "metadata": {
      "needs_background": "light"
     },
     "output_type": "display_data"
    },
    {
     "data": {
      "image/png": "[encoded data removed]",
      "text/plain": [
       "<matplotlib.figure.Figure at 0x7f1f9c6bc3c8>"
      ]
     },
     "metadata": {
      "needs_background": "light"
     },
     "output_type": "display_data"
    }
   ],
   "source": [
    "if __name__=='__main__':\n",
    "    factor_li=['riskf_alpha191_0.98_shared_s25_bias_benchmark_shared_alpha191_risk_017_high',\n",
    "                  'shared_s25_bias_benchmark',\n",
    "                 'riskf_alpha191_0.98_shared_s25_bias_benchmark_shared_alpha191_risk_017_low',\n",
    "                 'riskf_alpha191_0.98_shared_s25_bias_benchmark_shared_alpha191_risk_091_high',\n",
    "                 'riskf_alpha191_0.98_shared_s25_bias_benchmark_shared_alpha191_risk_065_high',\n",
    "                 'riskf_alpha191_0.98_shared_s25_bias_benchmark_shared_alpha191_risk_066_low']\n",
    "    start_date = '2020-10-01'\n",
    "    end_date = '2021-02-04'\n",
    "    backtest_name = 'backtest_test'\n",
    "    with Pool(5) as p:\n",
    "        p.map(backtest_factors,factor_li)\n",
    "    \n",
    "    # plot_one = True:将所有alpha曲线画在同一个图中\n",
    "    backtest_batch_service.batch_analysis(backtest_name,factor_li,plot_one=True)\n"
   ]
  },
  {
   "cell_type": "code",
   "execution_count": null,
   "metadata": {},
   "outputs": [],
   "source": [
    "# factor_li = ['alpha_1_factor_all_not_shifted','alpha_2_factor_all_not_shifted','alpha_3_factor_all_not_shifted','alpha_5_factor_all_not_shifted']\n",
    "# if __name__=='__main__':\n",
    "#     start_date = '2020-09-01'\n",
    "#     end_date = '2021-01-01'\n",
    "#     test_name = 'backtest_2'\n",
    "#     for any_factor in factor_li:\n",
    "#         backtest_factors(test_name,any_factor,start_date,end_date)\n",
    "    \n",
    "#     # plot_one = True:将所有alpha曲线画在同一个图中\n",
    "#     backtest_batch_service.batch_analysis(test_name,factor_li,plot_one=True)\n"
   ]
  },
  {
   "cell_type": "code",
   "execution_count": null,
   "metadata": {},
   "outputs": [],
   "source": []
  }
 ],
 "metadata": {
  "kernelspec": {
   "display_name": "Python 3",
   "language": "python",
   "name": "python3"
  },
  "language_info": {
   "codemirror_mode": {
    "name": "ipython",
    "version": 3
   },
   "file_extension": ".py",
   "mimetype": "text/x-python",
   "name": "python",
   "nbconvert_exporter": "python",
   "pygments_lexer": "ipython3",
   "version": "3.6.2"
  }
 },
 "nbformat": 4,
 "nbformat_minor": 4
}
